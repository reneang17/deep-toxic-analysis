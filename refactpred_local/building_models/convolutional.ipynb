{
 "cells": [
  {
   "cell_type": "markdown",
   "metadata": {},
   "source": [
    "## Preparing Data"
   ]
  },
  {
   "cell_type": "code",
   "execution_count": 125,
   "metadata": {},
   "outputs": [],
   "source": [
    "import matplotlib as plt\n",
    "%matplotlib inline\n",
    "import numpy as np \n",
    "import pandas as pd \n",
    "import torch\n",
    "import torchtext\n",
    "from torchtext import data\n",
    "import spacy\n",
    "import os\n",
    "import re\n",
    "\n",
    "spacy_en = spacy.load('en')\n",
    "\n",
    "_stopwords = spacy.lang.en.stop_words.STOP_WORDS\n",
    "\n",
    "os.environ['OMP_NUM_THREADS'] = '4'\n",
    "\n",
    "\n",
    "SEED = 1234\n",
    "\n",
    "torch.manual_seed(SEED)\n",
    "torch.backends.cudnn.deterministic = True\n",
    "\n",
    "\n",
    "def tokenizer(text):\n",
    "    token = [t.text for t in spacy_en.tokenizer(text)]\n",
    "#    if len(token) < FILTER_SIZES[-1]:\n",
    "    for i in range(1, 7 ):\n",
    "        token.append('<PAD>')\n",
    "    return token\n",
    "\n",
    "\n",
    "TEXT = data.Field(lower=True,include_lengths=False,tokenize=tokenizer, stop_words = _stopwords)\n",
    "\n",
    "LABEL = data.Field(sequential=False, \n",
    "                         use_vocab=False, \n",
    "                         pad_token=None, \n",
    "                            unk_token=None, dtype = torch.float)\n",
    "\n",
    "\n",
    "\n",
    "\n",
    "dataFields = {\"comment_text\": (\"comment_text\", TEXT), \n",
    "              'toxic': (\"toxic\", LABEL), \n",
    "              'severe_toxic': (\"severe_toxic\", LABEL),\n",
    "              'threat': (\"threat\", LABEL), \n",
    "              'obscene': (\"obscene\", LABEL),\n",
    "              'insult': (\"insult\", LABEL), \n",
    "              'identity_hate': (\"identity_hate\", LABEL)}\n",
    "\n"
   ]
  },
  {
   "cell_type": "code",
   "execution_count": 126,
   "metadata": {},
   "outputs": [],
   "source": [
    "data_dir = '../data/'\n",
    "data_name = 'resampled_train.json'"
   ]
  },
  {
   "cell_type": "code",
   "execution_count": 127,
   "metadata": {},
   "outputs": [],
   "source": [
    "dataset= data.TabularDataset(path=data_dir+data_name, \n",
    "                                            format='json',\n",
    "                                            fields=dataFields, \n",
    "                                            skip_header=True)"
   ]
  },
  {
   "cell_type": "code",
   "execution_count": 128,
   "metadata": {},
   "outputs": [],
   "source": [
    "import random\n",
    "SEED = 3\n",
    " \n",
    "\n",
    "train_data, val_data = dataset.split(split_ratio=0.9,random_state = random.seed(SEED))"
   ]
  },
  {
   "cell_type": "code",
   "execution_count": 129,
   "metadata": {},
   "outputs": [],
   "source": [
    "MAX_VOCAB_SIZE = 20_000\n",
    "\n",
    "TEXT.build_vocab(train_data, \n",
    "                 max_size = MAX_VOCAB_SIZE, \n",
    "                 vectors = \"glove.6B.100d\", \n",
    "                 unk_init = torch.Tensor.normal_)"
   ]
  },
  {
   "cell_type": "code",
   "execution_count": 130,
   "metadata": {},
   "outputs": [],
   "source": [
    "#import pickle\n",
    "\n",
    "#pickle.dump(TEXT, open('./custom_embeddings/train_data_field', 'wb'))"
   ]
  },
  {
   "cell_type": "code",
   "execution_count": 131,
   "metadata": {},
   "outputs": [
    {
     "data": {
      "text/plain": [
       "<torchtext.vocab.Vocab at 0x1a77737f28>"
      ]
     },
     "execution_count": 131,
     "metadata": {},
     "output_type": "execute_result"
    }
   ],
   "source": [
    "TEXT.vocab"
   ]
  },
  {
   "cell_type": "code",
   "execution_count": 132,
   "metadata": {},
   "outputs": [],
   "source": [
    "BATCH_SIZE = 256 #only change\n",
    "\n",
    "device = torch.device('cuda' if torch.cuda.is_available() else 'cpu')\n",
    "\n",
    "train_iterator, valid_iterator = data.BucketIterator.splits(\n",
    "    (train_data, val_data), \n",
    "    batch_size = BATCH_SIZE,\n",
    "    sort_key=lambda x: len(x.comment_text),\n",
    "    sort_within_batch = True,\n",
    "    device = device)"
   ]
  },
  {
   "cell_type": "code",
   "execution_count": 133,
   "metadata": {},
   "outputs": [],
   "source": [
    "for i in train_iterator:\n",
    "    aux = i\n",
    "    break"
   ]
  },
  {
   "cell_type": "code",
   "execution_count": 134,
   "metadata": {},
   "outputs": [
    {
     "data": {
      "text/plain": [
       "tensor([   44,     0,   282, 18020,  2323,  3993,   583,     2,  2591,  2381,\n",
       "        12761,  2074,  2304,   140,   282,   152,   429,     2,   282,    63,\n",
       "         3127,   304,   556,   295,   518,     0,     0, 12088,   282,  4123,\n",
       "          137,  3483,     0,   405,   103,    73, 11007,  1509,    31,   173,\n",
       "          350,   424,     0,   280,     2,    31,    31,   161,  4877,   529,\n",
       "         7574, 13301,  1218,    41,     0,  2165,   164,   242,  1070,   152,\n",
       "          101,    44,    41,   103,    45,  3015,     3,     0,   583,    32,\n",
       "         6634, 13149,     3,  2369,     0,   366,   214,   782,  1832,  1269,\n",
       "           49,   355,    26,   103,     0, 19294,   287,   337,   109,   937,\n",
       "         1623,   266,  3971,   252,   701,  5597,  1951,    16,   472,   179,\n",
       "         4549,     0,    19,   171,  3922,   147,   282,   217,  3221,  3999,\n",
       "          600,   355,   545,    31,   157,   184,    67,  5026,     0,   282,\n",
       "            0,  1767,    19,  1505,  1102,   748,   468,   184,   846,  4759,\n",
       "            0,  1614,     2,  1250,   308,   550,  4294,   637,   182,     8,\n",
       "         1220,    45,   459,   761,     3,  2105,   272,    64,     3,     2,\n",
       "          289,    53,    74,  8536,  2644,     2,   114,  4193,     0,     0,\n",
       "           77,   124,  1843,   466,   108,  1128,     3,   728,  2590,  4282,\n",
       "         4426,   224,   224,  9286,  5486,   164,    11,  2594,     0,   981,\n",
       "            0,   782,   506,   748,   224,     2,    35,  5202,   420,  1764,\n",
       "          497,   338,   282,  1056,    35,    43,   142,  3287,    51,   282,\n",
       "          600,    16,     0,     5,  5704,    43,    17,  3858,    12,  2243,\n",
       "           39,    53,    25,  6304,   140,   543,  2702,  2580,   282,    77,\n",
       "          112,  1078,  2206,  3011,     7,   108,  6673,     9,   152,    53,\n",
       "          140,     0,   167,  8090,     0,     9,  4731,  9351,   131, 10800,\n",
       "           44,  4843,  1784,   869,   142,   899,   478,   282,  3330,   267,\n",
       "         2192,    35,   472,     5,     2,  6985])"
      ]
     },
     "execution_count": 134,
     "metadata": {},
     "output_type": "execute_result"
    }
   ],
   "source": [
    "aux.comment_text[0]"
   ]
  },
  {
   "cell_type": "code",
   "execution_count": 135,
   "metadata": {},
   "outputs": [],
   "source": [
    "yFields = ['toxic','severe_toxic','obscene','threat','insult','identity_hate']\n",
    "iaux=0\n",
    "for batch in valid_iterator:\n",
    "    iaux+=1\n",
    "    aux = batch\n",
    "    aux2= torch.stack([getattr(batch, y) for y in yFields])\n",
    "    if iaux==20: break"
   ]
  },
  {
   "cell_type": "code",
   "execution_count": 136,
   "metadata": {},
   "outputs": [
    {
     "data": {
      "text/plain": [
       "tensor([[0., 0., 0., 0., 0., 0.],\n",
       "        [0., 0., 0., 0., 0., 0.],\n",
       "        [0., 0., 0., 0., 0., 0.],\n",
       "        ...,\n",
       "        [0., 0., 0., 0., 0., 0.],\n",
       "        [0., 0., 0., 0., 0., 0.],\n",
       "        [0., 0., 0., 0., 0., 0.]])"
      ]
     },
     "execution_count": 136,
     "metadata": {},
     "output_type": "execute_result"
    }
   ],
   "source": [
    "\n",
    "        \n",
    "torch.transpose( torch.stack([getattr(aux, y) for y in yFields]),0,1)"
   ]
  },
  {
   "cell_type": "code",
   "execution_count": 137,
   "metadata": {},
   "outputs": [
    {
     "data": {
      "text/plain": [
       "torch.Size([256])"
      ]
     },
     "execution_count": 137,
     "metadata": {},
     "output_type": "execute_result"
    }
   ],
   "source": [
    "aux.comment_text[0].size()"
   ]
  },
  {
   "cell_type": "code",
   "execution_count": 138,
   "metadata": {},
   "outputs": [
    {
     "data": {
      "text/plain": [
       "torch.Size([256])"
      ]
     },
     "execution_count": 138,
     "metadata": {},
     "output_type": "execute_result"
    }
   ],
   "source": [
    "aux.toxic.size()"
   ]
  },
  {
   "cell_type": "markdown",
   "metadata": {},
   "source": [
    "## Build model"
   ]
  },
  {
   "cell_type": "code",
   "execution_count": 139,
   "metadata": {},
   "outputs": [],
   "source": [
    "import torch.nn as nn\n",
    "from torch.functional import F\n",
    "class CNN(nn.Module):\n",
    "    def __init__(self, vocab_size, embedding_dim, n_filters, filter_sizes, output_dim, \n",
    "                 dropout, pad_idx):\n",
    "        \n",
    "        super().__init__()\n",
    "        \n",
    "        self.embedding = nn.Embedding(vocab_size, embedding_dim)\n",
    "        \n",
    "        self.convs = nn.ModuleList([\n",
    "                                    nn.Conv2d(in_channels = 1, \n",
    "                                              out_channels = n_filters, \n",
    "                                              kernel_size = (fs, embedding_dim)) \n",
    "                                    for fs in filter_sizes\n",
    "                                    ])\n",
    "        \n",
    "        self.fc = nn.Linear(len(filter_sizes) * n_filters, output_dim)\n",
    "        \n",
    "        self.dropout = nn.Dropout(dropout)\n",
    "        \n",
    "    def forward(self, text):\n",
    "        \n",
    "        #text = [sent len, batch size]\n",
    "        \n",
    "        text = text.permute(1, 0)\n",
    "                \n",
    "        #text = [batch size, sent len]\n",
    "        \n",
    "        embedded = self.embedding(text)\n",
    "                \n",
    "        #embedded = [batch size, sent len, emb dim]\n",
    "        \n",
    "        embedded = embedded.unsqueeze(1)\n",
    "        \n",
    "        #embedded = [batch size, 1, sent len, emb dim]\n",
    "        \n",
    "        conved = [F.relu(conv(embedded)).squeeze(3) for conv in self.convs]\n",
    "            \n",
    "        #conv_n = [batch size, n_filters, sent len - filter_sizes[n]]\n",
    "        \n",
    "        pooled = [F.max_pool1d(conv, conv.shape[2]).squeeze(2) for conv in conved]\n",
    "        \n",
    "        #pooled_n = [batch size, n_filters]\n",
    "        \n",
    "        cat = self.dropout(torch.cat(pooled, dim = 1))\n",
    "\n",
    "        #cat = [batch size, n_filters * len(filter_sizes)]\n",
    "            \n",
    "        return self.fc(cat)\n"
   ]
  },
  {
   "cell_type": "code",
   "execution_count": 140,
   "metadata": {},
   "outputs": [],
   "source": [
    "INPUT_DIM = len(TEXT.vocab) # 20002\n",
    "EMBEDDING_DIM = 100\n",
    "N_FILTERS = 100\n",
    "FILTER_SIZES = [2,3,4,5,6]\n",
    "OUTPUT_DIM = 6\n",
    "DROPOUT = 0.8\n",
    "PAD_IDX = TEXT.vocab.stoi[TEXT.pad_token] # 1\n",
    "\n",
    "model = CNN(INPUT_DIM, EMBEDDING_DIM, N_FILTERS, FILTER_SIZES ,OUTPUT_DIM, DROPOUT, PAD_IDX)"
   ]
  },
  {
   "cell_type": "code",
   "execution_count": 141,
   "metadata": {},
   "outputs": [
    {
     "name": "stdout",
     "output_type": "stream",
     "text": [
      "The model has 2,203,706 trainable parameters\n"
     ]
    }
   ],
   "source": [
    "\n",
    "def count_parameters(model):\n",
    "    return sum(p.numel() for p in model.parameters() if p.requires_grad)\n",
    "\n",
    "print(f'The model has {count_parameters(model):,} trainable parameters')"
   ]
  },
  {
   "cell_type": "code",
   "execution_count": 142,
   "metadata": {},
   "outputs": [
    {
     "name": "stdout",
     "output_type": "stream",
     "text": [
      "torch.Size([191, 256])\n",
      "=============================================================================\n",
      "                      Kernel Shape        Output Shape   Params Mult-Adds\n",
      "Layer                                                                    \n",
      "0_embedding           [100, 20002]     [256, 191, 100]  2.0002M   2.0002M\n",
      "1_convs.Conv2d_0  [1, 100, 2, 100]  [256, 100, 190, 1]    20.1k      3.8M\n",
      "2_convs.Conv2d_1  [1, 100, 3, 100]  [256, 100, 189, 1]    30.1k     5.67M\n",
      "3_convs.Conv2d_2  [1, 100, 4, 100]  [256, 100, 188, 1]    40.1k     7.52M\n",
      "4_convs.Conv2d_3  [1, 100, 5, 100]  [256, 100, 187, 1]    50.1k     9.35M\n",
      "5_convs.Conv2d_4  [1, 100, 6, 100]  [256, 100, 186, 1]    60.1k    11.16M\n",
      "6_dropout                        -          [256, 500]        -         -\n",
      "7_fc                      [500, 6]            [256, 6]   3.006k      3.0k\n",
      "-----------------------------------------------------------------------------\n",
      "                         Totals\n",
      "Total params          2.203706M\n",
      "Trainable params      2.203706M\n",
      "Non-trainable params        0.0\n",
      "Mult-Adds              39.5032M\n",
      "=============================================================================\n"
     ]
    },
    {
     "data": {
      "text/html": [
       "<div>\n",
       "<style scoped>\n",
       "    .dataframe tbody tr th:only-of-type {\n",
       "        vertical-align: middle;\n",
       "    }\n",
       "\n",
       "    .dataframe tbody tr th {\n",
       "        vertical-align: top;\n",
       "    }\n",
       "\n",
       "    .dataframe thead th {\n",
       "        text-align: right;\n",
       "    }\n",
       "</style>\n",
       "<table border=\"1\" class=\"dataframe\">\n",
       "  <thead>\n",
       "    <tr style=\"text-align: right;\">\n",
       "      <th></th>\n",
       "      <th>Kernel Shape</th>\n",
       "      <th>Output Shape</th>\n",
       "      <th>Params</th>\n",
       "      <th>Mult-Adds</th>\n",
       "    </tr>\n",
       "    <tr>\n",
       "      <th>Layer</th>\n",
       "      <th></th>\n",
       "      <th></th>\n",
       "      <th></th>\n",
       "      <th></th>\n",
       "    </tr>\n",
       "  </thead>\n",
       "  <tbody>\n",
       "    <tr>\n",
       "      <th>0_embedding</th>\n",
       "      <td>[100, 20002]</td>\n",
       "      <td>[256, 191, 100]</td>\n",
       "      <td>2000200.0</td>\n",
       "      <td>2000200.0</td>\n",
       "    </tr>\n",
       "    <tr>\n",
       "      <th>1_convs.Conv2d_0</th>\n",
       "      <td>[1, 100, 2, 100]</td>\n",
       "      <td>[256, 100, 190, 1]</td>\n",
       "      <td>20100.0</td>\n",
       "      <td>3800000.0</td>\n",
       "    </tr>\n",
       "    <tr>\n",
       "      <th>2_convs.Conv2d_1</th>\n",
       "      <td>[1, 100, 3, 100]</td>\n",
       "      <td>[256, 100, 189, 1]</td>\n",
       "      <td>30100.0</td>\n",
       "      <td>5670000.0</td>\n",
       "    </tr>\n",
       "    <tr>\n",
       "      <th>3_convs.Conv2d_2</th>\n",
       "      <td>[1, 100, 4, 100]</td>\n",
       "      <td>[256, 100, 188, 1]</td>\n",
       "      <td>40100.0</td>\n",
       "      <td>7520000.0</td>\n",
       "    </tr>\n",
       "    <tr>\n",
       "      <th>4_convs.Conv2d_3</th>\n",
       "      <td>[1, 100, 5, 100]</td>\n",
       "      <td>[256, 100, 187, 1]</td>\n",
       "      <td>50100.0</td>\n",
       "      <td>9350000.0</td>\n",
       "    </tr>\n",
       "    <tr>\n",
       "      <th>5_convs.Conv2d_4</th>\n",
       "      <td>[1, 100, 6, 100]</td>\n",
       "      <td>[256, 100, 186, 1]</td>\n",
       "      <td>60100.0</td>\n",
       "      <td>11160000.0</td>\n",
       "    </tr>\n",
       "    <tr>\n",
       "      <th>6_dropout</th>\n",
       "      <td>-</td>\n",
       "      <td>[256, 500]</td>\n",
       "      <td>NaN</td>\n",
       "      <td>NaN</td>\n",
       "    </tr>\n",
       "    <tr>\n",
       "      <th>7_fc</th>\n",
       "      <td>[500, 6]</td>\n",
       "      <td>[256, 6]</td>\n",
       "      <td>3006.0</td>\n",
       "      <td>3000.0</td>\n",
       "    </tr>\n",
       "  </tbody>\n",
       "</table>\n",
       "</div>"
      ],
      "text/plain": [
       "                      Kernel Shape        Output Shape     Params   Mult-Adds\n",
       "Layer                                                                        \n",
       "0_embedding           [100, 20002]     [256, 191, 100]  2000200.0   2000200.0\n",
       "1_convs.Conv2d_0  [1, 100, 2, 100]  [256, 100, 190, 1]    20100.0   3800000.0\n",
       "2_convs.Conv2d_1  [1, 100, 3, 100]  [256, 100, 189, 1]    30100.0   5670000.0\n",
       "3_convs.Conv2d_2  [1, 100, 4, 100]  [256, 100, 188, 1]    40100.0   7520000.0\n",
       "4_convs.Conv2d_3  [1, 100, 5, 100]  [256, 100, 187, 1]    50100.0   9350000.0\n",
       "5_convs.Conv2d_4  [1, 100, 6, 100]  [256, 100, 186, 1]    60100.0  11160000.0\n",
       "6_dropout                        -          [256, 500]        NaN         NaN\n",
       "7_fc                      [500, 6]            [256, 6]     3006.0      3000.0"
      ]
     },
     "execution_count": 142,
     "metadata": {},
     "output_type": "execute_result"
    }
   ],
   "source": [
    "for i in train_iterator:\n",
    "    aux=i\n",
    "    break\n",
    "\n",
    "from torchsummaryX import summary\n",
    "print(aux.comment_text.size())\n",
    "summary(model, aux.comment_text )"
   ]
  },
  {
   "cell_type": "code",
   "execution_count": 143,
   "metadata": {},
   "outputs": [
    {
     "name": "stdout",
     "output_type": "stream",
     "text": [
      "torch.Size([20002, 100])\n"
     ]
    }
   ],
   "source": [
    "pretrained_embeddings = TEXT.vocab.vectors\n",
    "\n",
    "print(pretrained_embeddings.shape)"
   ]
  },
  {
   "cell_type": "code",
   "execution_count": 144,
   "metadata": {},
   "outputs": [
    {
     "data": {
      "text/plain": [
       "tensor([[-0.1117, -0.4966,  0.1631,  ...,  1.2647, -0.2753, -0.1325],\n",
       "        [-0.8555, -0.7208,  1.3755,  ...,  0.0825, -1.1314,  0.3997],\n",
       "        [-1.0889,  0.1550,  0.3195,  ..., -0.5389, -0.0420, -0.2176],\n",
       "        ...,\n",
       "        [ 1.3330,  0.2984,  1.5541,  ...,  0.3570,  0.1128,  0.7918],\n",
       "        [-0.0296,  0.9497,  0.1028,  ...,  0.0112,  0.0560, -0.2208],\n",
       "        [ 0.0578,  0.0760, -0.1415,  ...,  0.8504,  0.2324,  0.3153]])"
      ]
     },
     "execution_count": 144,
     "metadata": {},
     "output_type": "execute_result"
    }
   ],
   "source": [
    "model.embedding.weight.data.copy_(pretrained_embeddings)"
   ]
  },
  {
   "cell_type": "code",
   "execution_count": 145,
   "metadata": {},
   "outputs": [
    {
     "name": "stdout",
     "output_type": "stream",
     "text": [
      "tensor([[ 0.0000,  0.0000,  0.0000,  ...,  0.0000,  0.0000,  0.0000],\n",
      "        [ 0.0000,  0.0000,  0.0000,  ...,  0.0000,  0.0000,  0.0000],\n",
      "        [-1.0889,  0.1550,  0.3195,  ..., -0.5389, -0.0420, -0.2176],\n",
      "        ...,\n",
      "        [ 1.3330,  0.2984,  1.5541,  ...,  0.3570,  0.1128,  0.7918],\n",
      "        [-0.0296,  0.9497,  0.1028,  ...,  0.0112,  0.0560, -0.2208],\n",
      "        [ 0.0578,  0.0760, -0.1415,  ...,  0.8504,  0.2324,  0.3153]])\n"
     ]
    }
   ],
   "source": [
    "UNK_IDX = TEXT.vocab.stoi[TEXT.unk_token]\n",
    "\n",
    "model.embedding.weight.data[UNK_IDX] = torch.zeros(EMBEDDING_DIM)\n",
    "model.embedding.weight.data[PAD_IDX] = torch.zeros(EMBEDDING_DIM)\n",
    "\n",
    "print(model.embedding.weight.data)"
   ]
  },
  {
   "cell_type": "code",
   "execution_count": 146,
   "metadata": {},
   "outputs": [
    {
     "name": "stdout",
     "output_type": "stream",
     "text": [
      "tensor([[ 0.0000,  0.0000,  0.0000,  ...,  0.0000,  0.0000,  0.0000],\n",
      "        [ 0.0000,  0.0000,  0.0000,  ...,  0.0000,  0.0000,  0.0000],\n",
      "        [-1.0889,  0.1550,  0.3195,  ..., -0.5389, -0.0420, -0.2176],\n",
      "        ...,\n",
      "        [ 1.3330,  0.2984,  1.5541,  ...,  0.3570,  0.1128,  0.7918],\n",
      "        [-0.0296,  0.9497,  0.1028,  ...,  0.0112,  0.0560, -0.2208],\n",
      "        [ 0.0578,  0.0760, -0.1415,  ...,  0.8504,  0.2324,  0.3153]])\n"
     ]
    }
   ],
   "source": [
    "print(model.embedding.weight.data)"
   ]
  },
  {
   "cell_type": "markdown",
   "metadata": {},
   "source": [
    "## Train our model"
   ]
  },
  {
   "cell_type": "code",
   "execution_count": 147,
   "metadata": {},
   "outputs": [],
   "source": [
    "import torch.optim as optim\n",
    "\n",
    "optimizer = optim.Adam(model.parameters())"
   ]
  },
  {
   "cell_type": "code",
   "execution_count": 148,
   "metadata": {},
   "outputs": [],
   "source": [
    "criterion = nn.BCEWithLogitsLoss()\n",
    "\n",
    "model = model.to(device)\n",
    "criterion = criterion.to(device)"
   ]
  },
  {
   "cell_type": "code",
   "execution_count": 149,
   "metadata": {},
   "outputs": [],
   "source": [
    "import numpy\n",
    "from sklearn.metrics import roc_auc_score\n",
    "def roc_auc(preds, y):\n",
    "    \"\"\"\n",
    "    Returns accuracy per batch, i.e. if you get 8/10 right, this returns 0.8, NOT 8\n",
    "    \"\"\"\n",
    "    #round predictions to the closest integer\n",
    "    #rounded_preds = torch.sigmoid(preds)\n",
    "    \n",
    "    #assert preds.size()==y.size()\n",
    "    \n",
    "    #reds=rounded_preds.detach().numpy()\n",
    "\n",
    "    #y=y.numpy()\n",
    "    \n",
    "    global var_y\n",
    "    global var_preds\n",
    "    var_y = y\n",
    "    var_preds = preds\n",
    "\n",
    "    acc = roc_auc_score(y, preds)\n",
    "\n",
    "    \n",
    "    return acc"
   ]
  },
  {
   "cell_type": "code",
   "execution_count": 150,
   "metadata": {},
   "outputs": [],
   "source": [
    "def train(model, iterator, optimizer, criterion):\n",
    "    \n",
    "    epoch_loss = 0\n",
    "    epoch_acc = 0\n",
    "    \n",
    "    model.train()\n",
    "    \n",
    "    preds_list=[]\n",
    "    labels_list= []\n",
    "    epoch_loss_hist = []\n",
    "\n",
    "    \n",
    "    j = len(iterator)//10\n",
    "    for i, batch in enumerate(iterator):\n",
    "        \n",
    "        optimizer.zero_grad()\n",
    "        \n",
    "        text = batch.comment_text\n",
    "        \n",
    "        predictions = model(text)\n",
    "        \n",
    "        batch_labels=torch.stack([getattr(batch, y) for y in yFields]) #transpose?\n",
    "        batch_labels = torch.transpose(batch_labels,0,1)\n",
    "        \n",
    "        loss = criterion(predictions, batch_labels)\n",
    "        \n",
    "        loss.backward()\n",
    "        \n",
    "        optimizer.step()\n",
    "        \n",
    "        preds_list+=[torch.sigmoid(predictions).detach().numpy()]\n",
    "        labels_list+=[batch_labels.numpy()]\n",
    "        \n",
    "\n",
    "                    \n",
    "        epoch_loss += loss.item()\n",
    "        \n",
    "        if i%j ==0:\n",
    "            epoch_loss_hist.append([loss.item(),\n",
    "            evaluate(model, valid_iterator, criterion)[0]])\n",
    "            model.train()\n",
    "        \n",
    "    return (epoch_loss / len(iterator) , epoch_loss_hist, \n",
    "           roc_auc_score(np.vstack(labels_list), np.vstack(preds_list)))"
   ]
  },
  {
   "cell_type": "code",
   "execution_count": 151,
   "metadata": {},
   "outputs": [],
   "source": [
    "def evaluate(model, iterator, criterion):\n",
    "    \n",
    "    epoch_loss = 0\n",
    "    epoch_acc = 0\n",
    "    \n",
    "    model.eval()\n",
    "    \n",
    "    preds_list=[]\n",
    "    labels_list= []\n",
    "    epoch_acc=[]\n",
    "\n",
    "\n",
    "    \n",
    "    with torch.no_grad():\n",
    "        i=0\n",
    "        for batch in iterator:\n",
    "            i+=1\n",
    "            text = batch.comment_text\n",
    "            \n",
    "            predictions = model(text)#.squeeze(1)\n",
    "            \n",
    "            batch_labels = torch.stack([getattr(batch, y) for y in yFields]) #transpose?\n",
    "            batch_labels = torch.transpose(batch_labels,0,1)\n",
    "            \n",
    "            loss = criterion(predictions, batch_labels)\n",
    "\n",
    "            epoch_loss += loss.item()\n",
    "\n",
    "            \n",
    "            preds_list+=[torch.sigmoid(predictions).detach().numpy()]\n",
    "            labels_list+=[batch_labels.numpy()]\n",
    "            \n",
    "        \n",
    "    return (epoch_loss / len(iterator),\n",
    "           roc_auc_score(np.vstack(labels_list), np.vstack(preds_list)) ,\n",
    "           np.vstack(preds_list), np.vstack(labels_list))"
   ]
  },
  {
   "cell_type": "code",
   "execution_count": null,
   "metadata": {},
   "outputs": [],
   "source": []
  },
  {
   "cell_type": "code",
   "execution_count": 152,
   "metadata": {},
   "outputs": [],
   "source": [
    "import time\n",
    "\n",
    "def epoch_time(start_time, end_time):\n",
    "    elapsed_time = end_time - start_time\n",
    "    elapsed_mins = int(elapsed_time / 60)\n",
    "    elapsed_secs = int(elapsed_time - (elapsed_mins * 60))\n",
    "    return elapsed_mins, elapsed_secs"
   ]
  },
  {
   "cell_type": "code",
   "execution_count": 153,
   "metadata": {},
   "outputs": [
    {
     "name": "stdout",
     "output_type": "stream",
     "text": [
      "Epoch: 01 | Epoch Time: 6m 32s\n",
      "\tTrain Loss: 0.095 | Train Acc: 85.56%\n",
      "\t Val. Loss: 0.066 |  Val. Acc: 93.73%\n",
      "Epoch: 02 | Epoch Time: 6m 36s\n",
      "\tTrain Loss: 0.071 | Train Acc: 93.28%\n",
      "\t Val. Loss: 0.061 |  Val. Acc: 95.16%\n",
      "Epoch: 03 | Epoch Time: 6m 22s\n",
      "\tTrain Loss: 0.067 | Train Acc: 94.51%\n",
      "\t Val. Loss: 0.058 |  Val. Acc: 95.96%\n",
      "Epoch: 04 | Epoch Time: 6m 27s\n",
      "\tTrain Loss: 0.064 | Train Acc: 95.12%\n",
      "\t Val. Loss: 0.057 |  Val. Acc: 96.14%\n"
     ]
    }
   ],
   "source": [
    "model.embedding.weight.requires_grad = False\n",
    "\n",
    "N_EPOCHS = 4\n",
    "best_valid_loss = float('inf')\n",
    "loss_hist= []\n",
    "UNFREEZE = 4\n",
    "for epoch in range(N_EPOCHS):\n",
    "\n",
    "    start_time = time.time()\n",
    "    \n",
    "    train_loss, _loss_hist, train_acc = train(model, train_iterator, optimizer, criterion)\n",
    "    valid_loss, valid_acc , _preds  , _labels  = evaluate(model, valid_iterator, criterion)\n",
    "    end_time = time.time()\n",
    "    \n",
    "    loss_hist+= _loss_hist\n",
    "    \n",
    "    epoch_mins, epoch_secs = epoch_time(start_time, end_time)\n",
    "    \n",
    "    if valid_loss < best_valid_loss:\n",
    "        best_valid_loss = valid_loss\n",
    "        torch.save(model.state_dict(), 'ws-model.pt')\n",
    "        \n",
    "\n",
    "    if (epoch) > UNFREEZE:\n",
    "        #unfreeze embeddings\n",
    "        model.embedding.weight.requires_grad = True \n",
    "    \n",
    "    \n",
    "    print(f'Epoch: {epoch+1:02} | Epoch Time: {epoch_mins}m {epoch_secs}s')\n",
    "    print(f'\\tTrain Loss: {train_loss:.3f} | Train Acc: {train_acc*100:.2f}%')\n",
    "    print(f'\\t Val. Loss: {valid_loss:.3f} |  Val. Acc: {valid_acc*100:.2f}%')\n"
   ]
  },
  {
   "cell_type": "code",
   "execution_count": 167,
   "metadata": {},
   "outputs": [],
   "source": [
    "import matplotlib.pyplot as plt\n",
    "%matplotlib inline\n"
   ]
  },
  {
   "cell_type": "code",
   "execution_count": 169,
   "metadata": {},
   "outputs": [
    {
     "data": {
      "image/png": "[encoded data removed]",
      "text/plain": [
       "<Figure size 432x288 with 1 Axes>"
      ]
     },
     "metadata": {
      "needs_background": "light"
     },
     "output_type": "display_data"
    }
   ],
   "source": [
    "title = 'Learning Curve'\n",
    "plt.title(title)\n",
    "plt.plot([i[1] for i in loss_hist], 'o-', color=\"r\",label= \"Training batch\")\n",
    "plt.plot([i[0] for i in loss_hist],  'o-', color=\"b\", label=\"CV set\")\n",
    "plt.legend(loc=\"best\")\n",
    "plt.xlabel(\"Training\")\n",
    "plt.ylabel(\"BCEWithLogitsLoss\")\n",
    "plt.savefig('../plots_tables/'+title.replace(' ', '_')+'.png')"
   ]
  },
  {
   "cell_type": "code",
   "execution_count": 155,
   "metadata": {},
   "outputs": [],
   "source": [
    "from sklearn.metrics import precision_score\n",
    "from sklearn.metrics import accuracy_score\n",
    "from sklearn.metrics import recall_score\n",
    "from sklearn.metrics import f1_score\n",
    "from sklearn.metrics import roc_auc_score\n",
    "import pandas as pd\n"
   ]
  },
  {
   "cell_type": "code",
   "execution_count": 156,
   "metadata": {},
   "outputs": [],
   "source": [
    "def print_metrics(pred, labels, thre= 0.5):\n",
    "    toxic_labels = ['toxic','severe_toxic',\n",
    "               'obscene','threat','insult',\n",
    "               'identity_hate']\n",
    "    \n",
    "    roc_auc_scores= []\n",
    "    recall_scores=[]\n",
    "    precision_scores=[]\n",
    "    accuracy_scores=[]\n",
    "    f1_scores=[]\n",
    "\n",
    "     \n",
    "    for i,j in enumerate(toxic_labels):\n",
    "        roc_auc_scores.append(roc_auc_score(labels[:,i], pred[:,i]))\n",
    "        recall_scores.append(recall_score(labels[:,i], pred[:,i]>=thre))\n",
    "        accuracy_scores.append(accuracy_score(labels[:,i], pred[:,i]>=thre))\n",
    "        precision_scores.append(precision_score(labels[:,i], pred[:,i]>=thre))\n",
    "        f1_scores.append(f1_score(labels[:,i], pred[:,i]>=thre))\n",
    "    return pd.DataFrame(\n",
    "    {'Label': toxic_labels,\n",
    "     'accuracy': accuracy_scores,\n",
    "     'recall': recall_scores,\n",
    "     'precision': precision_scores,\n",
    "     'f1': f1_scores,\n",
    "     'roc_auc': roc_auc_scores})"
   ]
  },
  {
   "cell_type": "code",
   "execution_count": 157,
   "metadata": {},
   "outputs": [
    {
     "data": {
      "text/html": [
       "<div>\n",
       "<style scoped>\n",
       "    .dataframe tbody tr th:only-of-type {\n",
       "        vertical-align: middle;\n",
       "    }\n",
       "\n",
       "    .dataframe tbody tr th {\n",
       "        vertical-align: top;\n",
       "    }\n",
       "\n",
       "    .dataframe thead th {\n",
       "        text-align: right;\n",
       "    }\n",
       "</style>\n",
       "<table border=\"1\" class=\"dataframe\">\n",
       "  <thead>\n",
       "    <tr style=\"text-align: right;\">\n",
       "      <th></th>\n",
       "      <th>Label</th>\n",
       "      <th>accuracy</th>\n",
       "      <th>recall</th>\n",
       "      <th>precision</th>\n",
       "      <th>f1</th>\n",
       "      <th>roc_auc</th>\n",
       "    </tr>\n",
       "  </thead>\n",
       "  <tbody>\n",
       "    <tr>\n",
       "      <th>0</th>\n",
       "      <td>toxic</td>\n",
       "      <td>0.954753</td>\n",
       "      <td>0.609227</td>\n",
       "      <td>0.860153</td>\n",
       "      <td>0.713264</td>\n",
       "      <td>0.954455</td>\n",
       "    </tr>\n",
       "    <tr>\n",
       "      <th>1</th>\n",
       "      <td>severe_toxic</td>\n",
       "      <td>0.990913</td>\n",
       "      <td>0.163399</td>\n",
       "      <td>0.595238</td>\n",
       "      <td>0.256410</td>\n",
       "      <td>0.986255</td>\n",
       "    </tr>\n",
       "    <tr>\n",
       "      <th>2</th>\n",
       "      <td>obscene</td>\n",
       "      <td>0.976374</td>\n",
       "      <td>0.653236</td>\n",
       "      <td>0.851911</td>\n",
       "      <td>0.739461</td>\n",
       "      <td>0.979860</td>\n",
       "    </tr>\n",
       "    <tr>\n",
       "      <th>3</th>\n",
       "      <td>threat</td>\n",
       "      <td>0.997681</td>\n",
       "      <td>0.051282</td>\n",
       "      <td>1.000000</td>\n",
       "      <td>0.097561</td>\n",
       "      <td>0.926899</td>\n",
       "    </tr>\n",
       "    <tr>\n",
       "      <th>4</th>\n",
       "      <td>insult</td>\n",
       "      <td>0.971611</td>\n",
       "      <td>0.552457</td>\n",
       "      <td>0.781955</td>\n",
       "      <td>0.647471</td>\n",
       "      <td>0.968506</td>\n",
       "    </tr>\n",
       "    <tr>\n",
       "      <th>5</th>\n",
       "      <td>identity_hate</td>\n",
       "      <td>0.992918</td>\n",
       "      <td>0.090909</td>\n",
       "      <td>0.785714</td>\n",
       "      <td>0.162963</td>\n",
       "      <td>0.952552</td>\n",
       "    </tr>\n",
       "  </tbody>\n",
       "</table>\n",
       "</div>"
      ],
      "text/plain": [
       "           Label  accuracy    recall  precision        f1   roc_auc\n",
       "0          toxic  0.954753  0.609227   0.860153  0.713264  0.954455\n",
       "1   severe_toxic  0.990913  0.163399   0.595238  0.256410  0.986255\n",
       "2        obscene  0.976374  0.653236   0.851911  0.739461  0.979860\n",
       "3         threat  0.997681  0.051282   1.000000  0.097561  0.926899\n",
       "4         insult  0.971611  0.552457   0.781955  0.647471  0.968506\n",
       "5  identity_hate  0.992918  0.090909   0.785714  0.162963  0.952552"
      ]
     },
     "execution_count": 157,
     "metadata": {},
     "output_type": "execute_result"
    }
   ],
   "source": [
    "print_metrics(_preds , _labels,0.5)"
   ]
  },
  {
   "cell_type": "code",
   "execution_count": 471,
   "metadata": {},
   "outputs": [],
   "source": [
    "_predicted_labels = _preds  \n",
    "_true_labels = _labels"
   ]
  },
  {
   "cell_type": "code",
   "execution_count": 472,
   "metadata": {},
   "outputs": [
    {
     "name": "stderr",
     "output_type": "stream",
     "text": [
      "/Users/rene/anaconda3/lib/python3.7/site-packages/sklearn/metrics/classification.py:1143: UndefinedMetricWarning: Precision is ill-defined and being set to 0.0 due to no predicted samples.\n",
      "  'precision', 'predicted', average, warn_for)\n",
      "/Users/rene/anaconda3/lib/python3.7/site-packages/sklearn/metrics/classification.py:1143: UndefinedMetricWarning: F-score is ill-defined and being set to 0.0 due to no predicted samples.\n",
      "  'precision', 'predicted', average, warn_for)\n"
     ]
    }
   ],
   "source": [
    "\n",
    "roc_auc_scores= []\n",
    "recall_scores=[]\n",
    "precision_scores=[]\n",
    "accuracy_scores=[]\n",
    "f1_scores=[]\n",
    "\n",
    "thre = 0.5\n",
    "for i,j in enumerate(toxic_labels):\n",
    "    roc_auc_scores.append(roc_auc_score(_true_labels[:,i], _predicted_labels[:,i]))\n",
    "    recall_scores.append(recall_score(_true_labels[:,i], _predicted_labels[:,i]>=thre))\n",
    "    accuracy_scores.append(accuracy_score(_true_labels[:,i], _predicted_labels[:,i]>=thre))\n",
    "    precision_scores.append(precision_score(_true_labels[:,i], _predicted_labels[:,i]>=thre))\n",
    "    f1_scores.append(f1_score(_true_labels[:,i], _predicted_labels[:,i]>=thre))"
   ]
  },
  {
   "cell_type": "code",
   "execution_count": 473,
   "metadata": {},
   "outputs": [
    {
     "data": {
      "text/html": [
       "<div>\n",
       "<style scoped>\n",
       "    .dataframe tbody tr th:only-of-type {\n",
       "        vertical-align: middle;\n",
       "    }\n",
       "\n",
       "    .dataframe tbody tr th {\n",
       "        vertical-align: top;\n",
       "    }\n",
       "\n",
       "    .dataframe thead th {\n",
       "        text-align: right;\n",
       "    }\n",
       "</style>\n",
       "<table border=\"1\" class=\"dataframe\">\n",
       "  <thead>\n",
       "    <tr style=\"text-align: right;\">\n",
       "      <th></th>\n",
       "      <th>Label</th>\n",
       "      <th>accuracy</th>\n",
       "      <th>recall</th>\n",
       "      <th>precision</th>\n",
       "      <th>f1</th>\n",
       "      <th>roc_auc</th>\n",
       "    </tr>\n",
       "  </thead>\n",
       "  <tbody>\n",
       "    <tr>\n",
       "      <th>0</th>\n",
       "      <td>toxic</td>\n",
       "      <td>0.959955</td>\n",
       "      <td>0.685306</td>\n",
       "      <td>0.871795</td>\n",
       "      <td>0.767383</td>\n",
       "      <td>0.974273</td>\n",
       "    </tr>\n",
       "    <tr>\n",
       "      <th>1</th>\n",
       "      <td>severe_toxic</td>\n",
       "      <td>0.990224</td>\n",
       "      <td>0.164706</td>\n",
       "      <td>0.666667</td>\n",
       "      <td>0.264151</td>\n",
       "      <td>0.982650</td>\n",
       "    </tr>\n",
       "    <tr>\n",
       "      <th>2</th>\n",
       "      <td>obscene</td>\n",
       "      <td>0.979821</td>\n",
       "      <td>0.776978</td>\n",
       "      <td>0.826531</td>\n",
       "      <td>0.800989</td>\n",
       "      <td>0.990320</td>\n",
       "    </tr>\n",
       "    <tr>\n",
       "      <th>3</th>\n",
       "      <td>threat</td>\n",
       "      <td>0.996365</td>\n",
       "      <td>0.000000</td>\n",
       "      <td>0.000000</td>\n",
       "      <td>0.000000</td>\n",
       "      <td>0.971068</td>\n",
       "    </tr>\n",
       "    <tr>\n",
       "      <th>4</th>\n",
       "      <td>insult</td>\n",
       "      <td>0.972614</td>\n",
       "      <td>0.552564</td>\n",
       "      <td>0.830443</td>\n",
       "      <td>0.663587</td>\n",
       "      <td>0.982024</td>\n",
       "    </tr>\n",
       "    <tr>\n",
       "      <th>5</th>\n",
       "      <td>identity_hate</td>\n",
       "      <td>0.992605</td>\n",
       "      <td>0.179104</td>\n",
       "      <td>0.750000</td>\n",
       "      <td>0.289157</td>\n",
       "      <td>0.974340</td>\n",
       "    </tr>\n",
       "  </tbody>\n",
       "</table>\n",
       "</div>"
      ],
      "text/plain": [
       "           Label  accuracy    recall  precision        f1   roc_auc\n",
       "0          toxic  0.959955  0.685306   0.871795  0.767383  0.974273\n",
       "1   severe_toxic  0.990224  0.164706   0.666667  0.264151  0.982650\n",
       "2        obscene  0.979821  0.776978   0.826531  0.800989  0.990320\n",
       "3         threat  0.996365  0.000000   0.000000  0.000000  0.971068\n",
       "4         insult  0.972614  0.552564   0.830443  0.663587  0.982024\n",
       "5  identity_hate  0.992605  0.179104   0.750000  0.289157  0.974340"
      ]
     },
     "execution_count": 473,
     "metadata": {},
     "output_type": "execute_result"
    }
   ],
   "source": [
    "pd.DataFrame(\n",
    "{'Label': toxic_labels,\n",
    " 'accuracy': accuracy_scores,\n",
    " 'recall': recall_scores,\n",
    " 'precision': precision_scores,\n",
    " 'f1': f1_scores,\n",
    " 'roc_auc': roc_auc_scores})"
   ]
  },
  {
   "cell_type": "code",
   "execution_count": 376,
   "metadata": {},
   "outputs": [
    {
     "data": {
      "text/html": [
       "<div>\n",
       "<style scoped>\n",
       "    .dataframe tbody tr th:only-of-type {\n",
       "        vertical-align: middle;\n",
       "    }\n",
       "\n",
       "    .dataframe tbody tr th {\n",
       "        vertical-align: top;\n",
       "    }\n",
       "\n",
       "    .dataframe thead th {\n",
       "        text-align: right;\n",
       "    }\n",
       "</style>\n",
       "<table border=\"1\" class=\"dataframe\">\n",
       "  <thead>\n",
       "    <tr style=\"text-align: right;\">\n",
       "      <th></th>\n",
       "      <th>Label</th>\n",
       "      <th>accuracy</th>\n",
       "      <th>recall</th>\n",
       "      <th>precision</th>\n",
       "      <th>f1</th>\n",
       "      <th>roc_auc</th>\n",
       "    </tr>\n",
       "  </thead>\n",
       "  <tbody>\n",
       "    <tr>\n",
       "      <th>0</th>\n",
       "      <td>toxic</td>\n",
       "      <td>0.960926</td>\n",
       "      <td>0.701754</td>\n",
       "      <td>0.875796</td>\n",
       "      <td>0.779175</td>\n",
       "      <td>0.969787</td>\n",
       "    </tr>\n",
       "    <tr>\n",
       "      <th>1</th>\n",
       "      <td>severe_toxic</td>\n",
       "      <td>0.989284</td>\n",
       "      <td>0.364162</td>\n",
       "      <td>0.508065</td>\n",
       "      <td>0.424242</td>\n",
       "      <td>0.986377</td>\n",
       "    </tr>\n",
       "    <tr>\n",
       "      <th>2</th>\n",
       "      <td>obscene</td>\n",
       "      <td>0.980228</td>\n",
       "      <td>0.754051</td>\n",
       "      <td>0.863486</td>\n",
       "      <td>0.805066</td>\n",
       "      <td>0.990308</td>\n",
       "    </tr>\n",
       "    <tr>\n",
       "      <th>3</th>\n",
       "      <td>threat</td>\n",
       "      <td>0.996428</td>\n",
       "      <td>0.058333</td>\n",
       "      <td>0.875000</td>\n",
       "      <td>0.109375</td>\n",
       "      <td>0.970779</td>\n",
       "    </tr>\n",
       "    <tr>\n",
       "      <th>4</th>\n",
       "      <td>insult</td>\n",
       "      <td>0.973241</td>\n",
       "      <td>0.625778</td>\n",
       "      <td>0.798887</td>\n",
       "      <td>0.701816</td>\n",
       "      <td>0.982739</td>\n",
       "    </tr>\n",
       "    <tr>\n",
       "      <th>5</th>\n",
       "      <td>identity_hate</td>\n",
       "      <td>0.992699</td>\n",
       "      <td>0.407143</td>\n",
       "      <td>0.629834</td>\n",
       "      <td>0.494577</td>\n",
       "      <td>0.978494</td>\n",
       "    </tr>\n",
       "  </tbody>\n",
       "</table>\n",
       "</div>"
      ],
      "text/plain": [
       "           Label  accuracy    recall  precision        f1   roc_auc\n",
       "0          toxic  0.960926  0.701754   0.875796  0.779175  0.969787\n",
       "1   severe_toxic  0.989284  0.364162   0.508065  0.424242  0.986377\n",
       "2        obscene  0.980228  0.754051   0.863486  0.805066  0.990308\n",
       "3         threat  0.996428  0.058333   0.875000  0.109375  0.970779\n",
       "4         insult  0.973241  0.625778   0.798887  0.701816  0.982739\n",
       "5  identity_hate  0.992699  0.407143   0.629834  0.494577  0.978494"
      ]
     },
     "execution_count": 376,
     "metadata": {},
     "output_type": "execute_result"
    }
   ],
   "source": [
    "pd.DataFrame(\n",
    "{'Label': toxic_labels,\n",
    " 'accuracy': accuracy_scores,\n",
    " 'recall': recall_scores,\n",
    " 'precision': precision_scores,\n",
    " 'f1': f1_scores,\n",
    " 'roc_auc': roc_auc_scores})"
   ]
  },
  {
   "cell_type": "code",
   "execution_count": 340,
   "metadata": {},
   "outputs": [
    {
     "data": {
      "text/html": [
       "<div>\n",
       "<style scoped>\n",
       "    .dataframe tbody tr th:only-of-type {\n",
       "        vertical-align: middle;\n",
       "    }\n",
       "\n",
       "    .dataframe tbody tr th {\n",
       "        vertical-align: top;\n",
       "    }\n",
       "\n",
       "    .dataframe thead th {\n",
       "        text-align: right;\n",
       "    }\n",
       "</style>\n",
       "<table border=\"1\" class=\"dataframe\">\n",
       "  <thead>\n",
       "    <tr style=\"text-align: right;\">\n",
       "      <th></th>\n",
       "      <th>Label</th>\n",
       "      <th>accuracy</th>\n",
       "      <th>recall</th>\n",
       "      <th>precision</th>\n",
       "      <th>f1</th>\n",
       "      <th>roc_auc</th>\n",
       "    </tr>\n",
       "  </thead>\n",
       "  <tbody>\n",
       "    <tr>\n",
       "      <th>0</th>\n",
       "      <td>toxic</td>\n",
       "      <td>0.960268</td>\n",
       "      <td>0.696332</td>\n",
       "      <td>0.873549</td>\n",
       "      <td>0.774938</td>\n",
       "      <td>0.969681</td>\n",
       "    </tr>\n",
       "    <tr>\n",
       "      <th>1</th>\n",
       "      <td>severe_toxic</td>\n",
       "      <td>0.989597</td>\n",
       "      <td>0.355491</td>\n",
       "      <td>0.530172</td>\n",
       "      <td>0.425606</td>\n",
       "      <td>0.986533</td>\n",
       "    </tr>\n",
       "    <tr>\n",
       "      <th>2</th>\n",
       "      <td>obscene</td>\n",
       "      <td>0.980698</td>\n",
       "      <td>0.769097</td>\n",
       "      <td>0.859638</td>\n",
       "      <td>0.811851</td>\n",
       "      <td>0.990549</td>\n",
       "    </tr>\n",
       "    <tr>\n",
       "      <th>3</th>\n",
       "      <td>threat</td>\n",
       "      <td>0.996397</td>\n",
       "      <td>0.050000</td>\n",
       "      <td>0.857143</td>\n",
       "      <td>0.094488</td>\n",
       "      <td>0.970718</td>\n",
       "    </tr>\n",
       "    <tr>\n",
       "      <th>4</th>\n",
       "      <td>insult</td>\n",
       "      <td>0.972332</td>\n",
       "      <td>0.630137</td>\n",
       "      <td>0.777863</td>\n",
       "      <td>0.696250</td>\n",
       "      <td>0.982357</td>\n",
       "    </tr>\n",
       "    <tr>\n",
       "      <th>5</th>\n",
       "      <td>identity_hate</td>\n",
       "      <td>0.992448</td>\n",
       "      <td>0.346429</td>\n",
       "      <td>0.625806</td>\n",
       "      <td>0.445977</td>\n",
       "      <td>0.978640</td>\n",
       "    </tr>\n",
       "  </tbody>\n",
       "</table>\n",
       "</div>"
      ],
      "text/plain": [
       "           Label  accuracy    recall  precision        f1   roc_auc\n",
       "0          toxic  0.960268  0.696332   0.873549  0.774938  0.969681\n",
       "1   severe_toxic  0.989597  0.355491   0.530172  0.425606  0.986533\n",
       "2        obscene  0.980698  0.769097   0.859638  0.811851  0.990549\n",
       "3         threat  0.996397  0.050000   0.857143  0.094488  0.970718\n",
       "4         insult  0.972332  0.630137   0.777863  0.696250  0.982357\n",
       "5  identity_hate  0.992448  0.346429   0.625806  0.445977  0.978640"
      ]
     },
     "execution_count": 340,
     "metadata": {},
     "output_type": "execute_result"
    }
   ],
   "source": [
    "pd.DataFrame(\n",
    "{'Label': toxic_labels,\n",
    " 'accuracy': accuracy_scores,\n",
    " 'recall': recall_scores,\n",
    " 'precision': precision_scores,\n",
    " 'f1': f1_scores,\n",
    " 'roc_auc': roc_auc_scores})"
   ]
  },
  {
   "cell_type": "code",
   "execution_count": 310,
   "metadata": {},
   "outputs": [],
   "source": [
    "TEXT.vocab.vectors = model.embedding.weight.data"
   ]
  },
  {
   "cell_type": "code",
   "execution_count": 311,
   "metadata": {},
   "outputs": [
    {
     "ename": "FileNotFoundError",
     "evalue": "[Errno 2] No such file or directory: './custom_embeddings/train_data_field'",
     "output_type": "error",
     "traceback": [
      "\u001b[0;31m---------------------------------------------------------------------------\u001b[0m",
      "\u001b[0;31mFileNotFoundError\u001b[0m                         Traceback (most recent call last)",
      "\u001b[0;32m<ipython-input-311-f91d2324caac>\u001b[0m in \u001b[0;36m<module>\u001b[0;34m\u001b[0m\n\u001b[1;32m      1\u001b[0m \u001b[0;32mimport\u001b[0m \u001b[0mpickle\u001b[0m\u001b[0;34m\u001b[0m\u001b[0;34m\u001b[0m\u001b[0m\n\u001b[1;32m      2\u001b[0m \u001b[0;34m\u001b[0m\u001b[0m\n\u001b[0;32m----> 3\u001b[0;31m \u001b[0mpickle\u001b[0m\u001b[0;34m.\u001b[0m\u001b[0mdump\u001b[0m\u001b[0;34m(\u001b[0m\u001b[0mTEXT\u001b[0m\u001b[0;34m,\u001b[0m \u001b[0mopen\u001b[0m\u001b[0;34m(\u001b[0m\u001b[0;34m'./custom_embeddings/train_data_field'\u001b[0m\u001b[0;34m,\u001b[0m \u001b[0;34m'wb'\u001b[0m\u001b[0;34m)\u001b[0m\u001b[0;34m)\u001b[0m\u001b[0;34m\u001b[0m\u001b[0;34m\u001b[0m\u001b[0m\n\u001b[0m",
      "\u001b[0;31mFileNotFoundError\u001b[0m: [Errno 2] No such file or directory: './custom_embeddings/train_data_field'"
     ]
    }
   ],
   "source": [
    "import pickle\n",
    "\n",
    "pickle.dump(TEXT, open('./custom_embeddings/train_data_field', 'wb'))"
   ]
  },
  {
   "cell_type": "markdown",
   "metadata": {},
   "source": [
    "## Save word embedding"
   ]
  },
  {
   "cell_type": "code",
   "execution_count": 100,
   "metadata": {},
   "outputs": [],
   "source": [
    "from tqdm import tqdm\n",
    "word_list = [] \n",
    "def write_embeddings(path, embeddings, vocab):\n",
    "    \n",
    "    with open(path, 'w') as f:\n",
    "        for i, embedding in enumerate(tqdm(embeddings)):\n",
    "            word = vocab.itos[i]\n",
    "            #skip words with unicode symbols\n",
    "            if len(word) != len(word.encode()):\n",
    "                continue\n",
    "            word_list.append(word)\n",
    "            vector = ' '.join([str(i) for i in embedding.tolist()])\n",
    "            f.write(f'{word} {vector}\\n')"
   ]
  },
  {
   "cell_type": "code",
   "execution_count": null,
   "metadata": {},
   "outputs": [],
   "source": []
  },
  {
   "cell_type": "code",
   "execution_count": 25,
   "metadata": {},
   "outputs": [
    {
     "name": "stderr",
     "output_type": "stream",
     "text": [
      "100%|██████████| 20002/20002 [00:02<00:00, 8001.79it/s]\n"
     ]
    }
   ],
   "source": [
    "write_embeddings('embeddings_conv.txt', \n",
    "                 model.embedding.weight.data, \n",
    "                 TEXT.vocab)"
   ]
  },
  {
   "cell_type": "code",
   "execution_count": 46,
   "metadata": {},
   "outputs": [
    {
     "data": {
      "text/plain": [
       "19951"
      ]
     },
     "execution_count": 46,
     "metadata": {},
     "output_type": "execute_result"
    }
   ],
   "source": [
    "list_apos = [w for w in word_list if ('\\'' in w) | ('<' in w) | ('>' in w) ]\n",
    "len(word_list) - len(list_apos)\n",
    "#list_apos"
   ]
  },
  {
   "cell_type": "code",
   "execution_count": 84,
   "metadata": {},
   "outputs": [
    {
     "name": "stdout",
     "output_type": "stream",
     "text": [
      "tensor([[-0.1117, -0.4966,  0.1631,  ...,  1.2647, -0.2753, -0.1325],\n",
      "        [-0.8555, -0.7208,  1.3755,  ...,  0.0825, -1.1314,  0.3997],\n",
      "        [-0.0382, -0.2449,  0.7281,  ..., -0.1459,  0.8278,  0.2706],\n",
      "        ...,\n",
      "        [-1.0361, -0.3528, -0.4494,  ..., -0.3391, -0.0521, -0.2626],\n",
      "        [-0.8892,  0.3043,  0.9224,  ..., -0.2417, -0.1520,  0.0683],\n",
      "        [ 0.2916,  0.0795, -0.0095,  ...,  0.3854,  0.3772, -1.5852]])\n"
     ]
    }
   ],
   "source": [
    "print(model.embedding.weight.data)"
   ]
  },
  {
   "cell_type": "code",
   "execution_count": 26,
   "metadata": {},
   "outputs": [],
   "source": [
    "# FREEZE_FOR = 4\n",
    "\n",
    "\n",
    "#best_valid_loss = float('inf')\n",
    "\n",
    "#freeze embeddings\n",
    "#model.embedding.weight.requires_grad = unfrozen = False\n",
    "\n",
    "#for epoch in range(N_EPOCHS):\n",
    "\n",
    "#    start_time = time.time()\n",
    "    \n",
    "#    train_loss, train_acc = train(model, train_iterator, optimizer, criterion)\n",
    "#    print('jaja')\n",
    "#    valid_loss, valid_acc = evaluate(model, valid_iterator, criterion)\n",
    "#    print('juju')\n",
    "#    end_time = time.time()\n",
    "\n",
    "#    epoch_mins, epoch_secs = epoch_time(start_time, end_time)\n",
    "    \n",
    "#    if valid_loss < best_valid_loss:\n",
    "#        best_valid_loss = valid_loss\n",
    "#        torch.save(model.state_dict(), 'tut2-model.pt')\n",
    "#    else:\n",
    "#        #unfreeze embeddings\n",
    "#        model.embedding.weight.requires_grad = unfrozen = True\n",
    "\n",
    "    \n",
    "#    print(f'Epoch: {epoch+1:02} | Epoch Time: {epoch_mins}m {epoch_secs}s')\n",
    "#    print(f'\\tTrain Loss: {train_loss:.3f} | Train Acc: {train_acc*100:.2f}%')\n",
    "#    print(f'\\t Val. Loss: {valid_loss:.3f} |  Val. Acc: {valid_acc*100:.2f}%')"
   ]
  },
  {
   "cell_type": "markdown",
   "metadata": {},
   "source": [
    "## Testing "
   ]
  },
  {
   "cell_type": "code",
   "execution_count": 27,
   "metadata": {},
   "outputs": [],
   "source": [
    "from sklearn import metrics\n",
    "\n",
    "#roc_auc(np.vstack(preds_list), np.vstack(labels_list))"
   ]
  },
  {
   "cell_type": "code",
   "execution_count": 28,
   "metadata": {},
   "outputs": [],
   "source": [
    "dataFields = {\"comment_text\": (\"comment_text\", TEXT)}\n",
    "\n",
    "testDataset= data.TabularDataset(path='./data/test.json', \n",
    "                                            format='json',\n",
    "                                            fields=dataFields, \n",
    "                                            skip_header=False)"
   ]
  },
  {
   "cell_type": "code",
   "execution_count": 29,
   "metadata": {},
   "outputs": [
    {
     "data": {
      "text/plain": [
       "153164"
      ]
     },
     "execution_count": 29,
     "metadata": {},
     "output_type": "execute_result"
    }
   ],
   "source": [
    "len(testDataset)"
   ]
  },
  {
   "cell_type": "code",
   "execution_count": 30,
   "metadata": {},
   "outputs": [],
   "source": [
    "test_iterator = torchtext.data.Iterator(testDataset, batch_size=64, device=device, \n",
    "                                     sort=False, sort_within_batch=False, \n",
    "                                     repeat=False,shuffle=False)"
   ]
  },
  {
   "cell_type": "code",
   "execution_count": 31,
   "metadata": {},
   "outputs": [],
   "source": [
    "myPreds=[]\n",
    "with torch.no_grad():\n",
    "    model.eval()\n",
    "    for batch in test_iterator:\n",
    "\n",
    "        torch.cuda.empty_cache()\n",
    "    \n",
    "        text = batch.comment_text    \n",
    "        predictions = model(text).squeeze(1)         \n",
    "        myPreds+=[torch.sigmoid(predictions).detach().numpy()]\n",
    "    \n",
    "        torch.cuda.empty_cache()\n",
    "myPreds = np.vstack(myPreds)"
   ]
  },
  {
   "cell_type": "code",
   "execution_count": 32,
   "metadata": {},
   "outputs": [],
   "source": [
    "testDF= pd.read_csv(\"./data/test.csv\")\n",
    "for i, col in enumerate([\"toxic\", \"severe_toxic\", \"obscene\", \"threat\", \"insult\", \"identity_hate\"]):\n",
    "    testDF[col] = myPreds[:, i]"
   ]
  },
  {
   "cell_type": "code",
   "execution_count": 33,
   "metadata": {},
   "outputs": [
    {
     "data": {
      "text/plain": [
       "(153164, 6)"
      ]
     },
     "execution_count": 33,
     "metadata": {},
     "output_type": "execute_result"
    }
   ],
   "source": [
    "myPreds.shape"
   ]
  },
  {
   "cell_type": "code",
   "execution_count": 34,
   "metadata": {},
   "outputs": [],
   "source": [
    "testDF.drop(\"comment_text\", axis=1).to_csv(\"submission_convolutional.csv\", index=False)"
   ]
  },
  {
   "cell_type": "code",
   "execution_count": null,
   "metadata": {},
   "outputs": [],
   "source": []
  },
  {
   "cell_type": "code",
   "execution_count": null,
   "metadata": {},
   "outputs": [],
   "source": []
  },
  {
   "cell_type": "code",
   "execution_count": null,
   "metadata": {},
   "outputs": [],
   "source": []
  }
 ],
 "metadata": {
  "kernelspec": {
   "display_name": "Python 3",
   "language": "python",
   "name": "python3"
  },
  "language_info": {
   "codemirror_mode": {
    "name": "ipython",
    "version": 3
   },
   "file_extension": ".py",
   "mimetype": "text/x-python",
   "name": "python",
   "nbconvert_exporter": "python",
   "pygments_lexer": "ipython3",
   "version": "3.7.1"
  }
 },
 "nbformat": 4,
 "nbformat_minor": 2
}
