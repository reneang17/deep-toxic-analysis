{
 "cells": [
  {
   "cell_type": "markdown",
   "metadata": {},
   "source": [
    "## Preparing Data"
   ]
  },
  {
   "cell_type": "code",
   "execution_count": 1,
   "metadata": {},
   "outputs": [],
   "source": [
    "%matplotlib inline\n",
    "import numpy as np \n",
    "import pandas as pd \n",
    "import torch\n",
    "import torchtext\n",
    "from torchtext import data\n",
    "import spacy\n",
    "import os\n",
    "import re\n",
    "\n",
    "spacy.load('en')\n",
    "_stopwords = spacy.lang.en.stop_words.STOP_WORDS\n",
    "\n",
    "os.environ['OMP_NUM_THREADS'] = '4'\n",
    "\n",
    "\n",
    "SEED = 1234\n",
    "\n",
    "torch.manual_seed(SEED)\n",
    "torch.backends.cudnn.deterministic = True\n",
    "\n",
    "def generate_bigrams(x):\n",
    "    n_grams = set(zip(*[x[i:] for i in range(2)]))\n",
    "    for n_gram in n_grams:\n",
    "        x.append(' '.join(n_gram))\n",
    "    return x\n",
    "\n",
    "TEXT = data.Field(lower=True,include_lengths=False,tokenize='spacy')\n",
    "\n",
    "LABEL = data.Field(sequential=False, \n",
    "                         use_vocab=False, \n",
    "                         pad_token=None, \n",
    "                            unk_token=None, dtype = torch.float)\n",
    "\n",
    "\n",
    "dataFields = {\"comment_text\": (\"comment_text\", TEXT), \n",
    "              'toxic': (\"toxic\", LABEL), \n",
    "              'severe_toxic': (\"severe_toxic\", LABEL),\n",
    "              'threat': (\"threat\", LABEL), \n",
    "              'obscene': (\"obscene\", LABEL),\n",
    "              'insult': (\"insult\", LABEL), \n",
    "              'identity_hate': (\"identity_hate\", LABEL)}\n",
    "\n",
    "dataset= data.TabularDataset(path='./data/toxic/train.json', \n",
    "                                            format='json',\n",
    "                                            fields=dataFields, \n",
    "                                            skip_header=True)"
   ]
  },
  {
   "cell_type": "code",
   "execution_count": 2,
   "metadata": {},
   "outputs": [],
   "source": [
    "import random\n",
    "SEED = 3\n",
    "#train, unimportant = dataset.split(split_ratio=0.5,random_state = random.seed(SEED)) \n",
    "\n",
    "train_data, val_data = dataset.split(split_ratio=0.9,random_state = random.seed(SEED))"
   ]
  },
  {
   "cell_type": "code",
   "execution_count": 3,
   "metadata": {},
   "outputs": [],
   "source": [
    "MAX_VOCAB_SIZE = 20_000\n",
    "\n",
    "TEXT.build_vocab(train_data, \n",
    "                 max_size = MAX_VOCAB_SIZE, \n",
    "                 vectors = \"glove.6B.100d\", \n",
    "                 unk_init = torch.Tensor.normal_)"
   ]
  },
  {
   "cell_type": "code",
   "execution_count": 4,
   "metadata": {},
   "outputs": [],
   "source": [
    "BATCH_SIZE = 256\n",
    "\n",
    "device = torch.device('cuda' if torch.cuda.is_available() else 'cpu')\n",
    "\n",
    "train_iterator, valid_iterator = data.BucketIterator.splits(\n",
    "    (train_data, val_data), \n",
    "    batch_size = BATCH_SIZE,\n",
    "    sort_key=lambda x: len(x.comment_text),\n",
    "    sort_within_batch = True,\n",
    "    device = device)"
   ]
  },
  {
   "cell_type": "code",
   "execution_count": 5,
   "metadata": {},
   "outputs": [],
   "source": [
    "yFields = ['toxic','severe_toxic','obscene','threat','insult','identity_hate']\n",
    "iaux=0\n",
    "for batch in valid_iterator:\n",
    "    iaux+=1\n",
    "    aux = batch\n",
    "    aux2= torch.stack([getattr(batch, y) for y in yFields])\n",
    "    if iaux==20: break"
   ]
  },
  {
   "cell_type": "code",
   "execution_count": 6,
   "metadata": {},
   "outputs": [
    {
     "data": {
      "text/plain": [
       "tensor([[0., 0., 0., 0., 0., 0.],\n",
       "        [1., 0., 1., 0., 1., 0.],\n",
       "        [0., 0., 0., 0., 0., 0.],\n",
       "        ...,\n",
       "        [0., 0., 0., 0., 0., 0.],\n",
       "        [0., 0., 0., 0., 0., 0.],\n",
       "        [0., 0., 0., 0., 0., 0.]])"
      ]
     },
     "execution_count": 6,
     "metadata": {},
     "output_type": "execute_result"
    }
   ],
   "source": [
    "\n",
    "        \n",
    "torch.transpose( torch.stack([getattr(aux, y) for y in yFields]),0,1)"
   ]
  },
  {
   "cell_type": "code",
   "execution_count": 7,
   "metadata": {},
   "outputs": [
    {
     "data": {
      "text/plain": [
       "torch.Size([256])"
      ]
     },
     "execution_count": 7,
     "metadata": {},
     "output_type": "execute_result"
    }
   ],
   "source": [
    "aux.comment_text[0].size()"
   ]
  },
  {
   "cell_type": "code",
   "execution_count": 8,
   "metadata": {},
   "outputs": [
    {
     "data": {
      "text/plain": [
       "torch.Size([256])"
      ]
     },
     "execution_count": 8,
     "metadata": {},
     "output_type": "execute_result"
    }
   ],
   "source": [
    "aux.toxic.size()"
   ]
  },
  {
   "cell_type": "markdown",
   "metadata": {},
   "source": [
    "## Build model"
   ]
  },
  {
   "cell_type": "code",
   "execution_count": 9,
   "metadata": {},
   "outputs": [],
   "source": [
    "import torch.nn as nn\n",
    "from torch.functional import F\n",
    "class CNN(nn.Module):\n",
    "    def __init__(self, vocab_size, embedding_dim, n_filters, filter_sizes, output_dim, \n",
    "                 dropout, pad_idx):\n",
    "        \n",
    "        super().__init__()\n",
    "        \n",
    "        self.embedding = nn.Embedding(vocab_size, embedding_dim)\n",
    "        \n",
    "        self.convs = nn.ModuleList([\n",
    "                                    nn.Conv2d(in_channels = 1, \n",
    "                                              out_channels = n_filters, \n",
    "                                              kernel_size = (fs, embedding_dim)) \n",
    "                                    for fs in filter_sizes\n",
    "                                    ])\n",
    "        \n",
    "        self.fc = nn.Linear(len(filter_sizes) * n_filters, output_dim)\n",
    "        \n",
    "        self.dropout = nn.Dropout(dropout)\n",
    "        \n",
    "    def forward(self, text):\n",
    "        \n",
    "        #text = [sent len, batch size]\n",
    "        \n",
    "        text = text.permute(1, 0)\n",
    "                \n",
    "        #text = [batch size, sent len]\n",
    "        \n",
    "        embedded = self.embedding(text)\n",
    "                \n",
    "        #embedded = [batch size, sent len, emb dim]\n",
    "        \n",
    "        embedded = embedded.unsqueeze(1)\n",
    "        \n",
    "        #embedded = [batch size, 1, sent len, emb dim]\n",
    "        \n",
    "        conved = [F.relu(conv(embedded)).squeeze(3) for conv in self.convs]\n",
    "            \n",
    "        #conv_n = [batch size, n_filters, sent len - filter_sizes[n]]\n",
    "        \n",
    "        pooled = [F.max_pool1d(conv, conv.shape[2]).squeeze(2) for conv in conved]\n",
    "        \n",
    "        #pooled_n = [batch size, n_filters]\n",
    "        \n",
    "        cat = self.dropout(torch.cat(pooled, dim = 1))\n",
    "\n",
    "        #cat = [batch size, n_filters * len(filter_sizes)]\n",
    "            \n",
    "        return self.fc(cat)\n"
   ]
  },
  {
   "cell_type": "code",
   "execution_count": 10,
   "metadata": {},
   "outputs": [],
   "source": [
    "\n",
    "\n",
    "INPUT_DIM = len(TEXT.vocab) # 20002\n",
    "EMBEDDING_DIM = 100\n",
    "N_FILTERS = 100\n",
    "FILTER_SIZES = [2,3,4]\n",
    "OUTPUT_DIM = 6\n",
    "DROPOUT = 0.5\n",
    "PAD_IDX = TEXT.vocab.stoi[TEXT.pad_token] # 1\n",
    "\n",
    "model = CNN(INPUT_DIM, EMBEDDING_DIM, N_FILTERS, FILTER_SIZES ,OUTPUT_DIM, DROPOUT, PAD_IDX)"
   ]
  },
  {
   "cell_type": "code",
   "execution_count": 11,
   "metadata": {},
   "outputs": [
    {
     "name": "stdout",
     "output_type": "stream",
     "text": [
      "The model has 2,092,306 trainable parameters\n"
     ]
    }
   ],
   "source": [
    "def count_parameters(model):\n",
    "    return sum(p.numel() for p in model.parameters() if p.requires_grad)\n",
    "\n",
    "print(f'The model has {count_parameters(model):,} trainable parameters')"
   ]
  },
  {
   "cell_type": "code",
   "execution_count": 12,
   "metadata": {},
   "outputs": [
    {
     "name": "stdout",
     "output_type": "stream",
     "text": [
      "torch.Size([13, 256])\n",
      "===========================================================================\n",
      "                      Kernel Shape       Output Shape   Params Mult-Adds\n",
      "Layer                                                                   \n",
      "0_embedding           [100, 20002]     [256, 13, 100]  2.0002M   2.0002M\n",
      "1_convs.Conv2d_0  [1, 100, 2, 100]  [256, 100, 12, 1]    20.1k    240.0k\n",
      "2_convs.Conv2d_1  [1, 100, 3, 100]  [256, 100, 11, 1]    30.1k    330.0k\n",
      "3_convs.Conv2d_2  [1, 100, 4, 100]  [256, 100, 10, 1]    40.1k    400.0k\n",
      "4_dropout                        -         [256, 300]        -         -\n",
      "5_fc                      [300, 6]           [256, 6]   1.806k      1.8k\n",
      "---------------------------------------------------------------------------\n",
      "                         Totals\n",
      "Total params          2.092306M\n",
      "Trainable params      2.092306M\n",
      "Non-trainable params        0.0\n",
      "Mult-Adds                2.972M\n",
      "===========================================================================\n"
     ]
    },
    {
     "data": {
      "text/html": [
       "<div>\n",
       "<style scoped>\n",
       "    .dataframe tbody tr th:only-of-type {\n",
       "        vertical-align: middle;\n",
       "    }\n",
       "\n",
       "    .dataframe tbody tr th {\n",
       "        vertical-align: top;\n",
       "    }\n",
       "\n",
       "    .dataframe thead th {\n",
       "        text-align: right;\n",
       "    }\n",
       "</style>\n",
       "<table border=\"1\" class=\"dataframe\">\n",
       "  <thead>\n",
       "    <tr style=\"text-align: right;\">\n",
       "      <th></th>\n",
       "      <th>Kernel Shape</th>\n",
       "      <th>Output Shape</th>\n",
       "      <th>Params</th>\n",
       "      <th>Mult-Adds</th>\n",
       "    </tr>\n",
       "    <tr>\n",
       "      <th>Layer</th>\n",
       "      <th></th>\n",
       "      <th></th>\n",
       "      <th></th>\n",
       "      <th></th>\n",
       "    </tr>\n",
       "  </thead>\n",
       "  <tbody>\n",
       "    <tr>\n",
       "      <th>0_embedding</th>\n",
       "      <td>[100, 20002]</td>\n",
       "      <td>[256, 13, 100]</td>\n",
       "      <td>2000200.0</td>\n",
       "      <td>2000200.0</td>\n",
       "    </tr>\n",
       "    <tr>\n",
       "      <th>1_convs.Conv2d_0</th>\n",
       "      <td>[1, 100, 2, 100]</td>\n",
       "      <td>[256, 100, 12, 1]</td>\n",
       "      <td>20100.0</td>\n",
       "      <td>240000.0</td>\n",
       "    </tr>\n",
       "    <tr>\n",
       "      <th>2_convs.Conv2d_1</th>\n",
       "      <td>[1, 100, 3, 100]</td>\n",
       "      <td>[256, 100, 11, 1]</td>\n",
       "      <td>30100.0</td>\n",
       "      <td>330000.0</td>\n",
       "    </tr>\n",
       "    <tr>\n",
       "      <th>3_convs.Conv2d_2</th>\n",
       "      <td>[1, 100, 4, 100]</td>\n",
       "      <td>[256, 100, 10, 1]</td>\n",
       "      <td>40100.0</td>\n",
       "      <td>400000.0</td>\n",
       "    </tr>\n",
       "    <tr>\n",
       "      <th>4_dropout</th>\n",
       "      <td>-</td>\n",
       "      <td>[256, 300]</td>\n",
       "      <td>NaN</td>\n",
       "      <td>NaN</td>\n",
       "    </tr>\n",
       "    <tr>\n",
       "      <th>5_fc</th>\n",
       "      <td>[300, 6]</td>\n",
       "      <td>[256, 6]</td>\n",
       "      <td>1806.0</td>\n",
       "      <td>1800.0</td>\n",
       "    </tr>\n",
       "  </tbody>\n",
       "</table>\n",
       "</div>"
      ],
      "text/plain": [
       "                      Kernel Shape       Output Shape     Params  Mult-Adds\n",
       "Layer                                                                      \n",
       "0_embedding           [100, 20002]     [256, 13, 100]  2000200.0  2000200.0\n",
       "1_convs.Conv2d_0  [1, 100, 2, 100]  [256, 100, 12, 1]    20100.0   240000.0\n",
       "2_convs.Conv2d_1  [1, 100, 3, 100]  [256, 100, 11, 1]    30100.0   330000.0\n",
       "3_convs.Conv2d_2  [1, 100, 4, 100]  [256, 100, 10, 1]    40100.0   400000.0\n",
       "4_dropout                        -         [256, 300]        NaN        NaN\n",
       "5_fc                      [300, 6]           [256, 6]     1806.0     1800.0"
      ]
     },
     "execution_count": 12,
     "metadata": {},
     "output_type": "execute_result"
    }
   ],
   "source": [
    "for i in train_iterator:\n",
    "    aux=i\n",
    "    break\n",
    "\n",
    "from torchsummaryX import summary\n",
    "print(aux.comment_text.size())\n",
    "summary(model, aux.comment_text )"
   ]
  },
  {
   "cell_type": "code",
   "execution_count": 13,
   "metadata": {},
   "outputs": [
    {
     "name": "stdout",
     "output_type": "stream",
     "text": [
      "torch.Size([20002, 100])\n"
     ]
    }
   ],
   "source": [
    "pretrained_embeddings = TEXT.vocab.vectors\n",
    "\n",
    "print(pretrained_embeddings.shape)"
   ]
  },
  {
   "cell_type": "code",
   "execution_count": 14,
   "metadata": {},
   "outputs": [
    {
     "data": {
      "text/plain": [
       "tensor([[-0.1117, -0.4966,  0.1631,  ...,  1.2647, -0.2753, -0.1325],\n",
       "        [-0.8555, -0.7208,  1.3755,  ...,  0.0825, -1.1314,  0.3997],\n",
       "        [-0.0382, -0.2449,  0.7281,  ..., -0.1459,  0.8278,  0.2706],\n",
       "        ...,\n",
       "        [-0.1416, -0.0226, -0.4652,  ..., -0.2887,  0.6799, -0.6630],\n",
       "        [ 0.0800,  0.2331,  0.5756,  ...,  0.2282,  0.2713,  0.0295],\n",
       "        [ 0.3578,  0.5357, -0.0781,  ..., -0.0986, -0.1394,  0.0201]])"
      ]
     },
     "execution_count": 14,
     "metadata": {},
     "output_type": "execute_result"
    }
   ],
   "source": [
    "model.embedding.weight.data.copy_(pretrained_embeddings)"
   ]
  },
  {
   "cell_type": "code",
   "execution_count": 15,
   "metadata": {},
   "outputs": [
    {
     "name": "stdout",
     "output_type": "stream",
     "text": [
      "tensor([[ 0.0000,  0.0000,  0.0000,  ...,  0.0000,  0.0000,  0.0000],\n",
      "        [ 0.0000,  0.0000,  0.0000,  ...,  0.0000,  0.0000,  0.0000],\n",
      "        [-0.0382, -0.2449,  0.7281,  ..., -0.1459,  0.8278,  0.2706],\n",
      "        ...,\n",
      "        [-0.1416, -0.0226, -0.4652,  ..., -0.2887,  0.6799, -0.6630],\n",
      "        [ 0.0800,  0.2331,  0.5756,  ...,  0.2282,  0.2713,  0.0295],\n",
      "        [ 0.3578,  0.5357, -0.0781,  ..., -0.0986, -0.1394,  0.0201]])\n"
     ]
    }
   ],
   "source": [
    "UNK_IDX = TEXT.vocab.stoi[TEXT.unk_token]\n",
    "\n",
    "model.embedding.weight.data[UNK_IDX] = torch.zeros(EMBEDDING_DIM)\n",
    "model.embedding.weight.data[PAD_IDX] = torch.zeros(EMBEDDING_DIM)\n",
    "\n",
    "print(model.embedding.weight.data)"
   ]
  },
  {
   "cell_type": "code",
   "execution_count": 16,
   "metadata": {},
   "outputs": [
    {
     "name": "stdout",
     "output_type": "stream",
     "text": [
      "tensor([[ 0.0000,  0.0000,  0.0000,  ...,  0.0000,  0.0000,  0.0000],\n",
      "        [ 0.0000,  0.0000,  0.0000,  ...,  0.0000,  0.0000,  0.0000],\n",
      "        [-0.0382, -0.2449,  0.7281,  ..., -0.1459,  0.8278,  0.2706],\n",
      "        ...,\n",
      "        [-0.1416, -0.0226, -0.4652,  ..., -0.2887,  0.6799, -0.6630],\n",
      "        [ 0.0800,  0.2331,  0.5756,  ...,  0.2282,  0.2713,  0.0295],\n",
      "        [ 0.3578,  0.5357, -0.0781,  ..., -0.0986, -0.1394,  0.0201]])\n"
     ]
    }
   ],
   "source": [
    "print(model.embedding.weight.data)"
   ]
  },
  {
   "cell_type": "markdown",
   "metadata": {},
   "source": [
    "## Train our model"
   ]
  },
  {
   "cell_type": "code",
   "execution_count": 17,
   "metadata": {},
   "outputs": [],
   "source": [
    "import torch.optim as optim\n",
    "\n",
    "optimizer = optim.Adam(model.parameters())"
   ]
  },
  {
   "cell_type": "code",
   "execution_count": 18,
   "metadata": {},
   "outputs": [],
   "source": [
    "criterion = nn.BCEWithLogitsLoss()\n",
    "\n",
    "model = model.to(device)\n",
    "criterion = criterion.to(device)"
   ]
  },
  {
   "cell_type": "code",
   "execution_count": 19,
   "metadata": {},
   "outputs": [],
   "source": [
    "import numpy\n",
    "from sklearn.metrics import roc_auc_score\n",
    "def roc_auc(preds, y):\n",
    "    \"\"\"\n",
    "    Returns accuracy per batch, i.e. if you get 8/10 right, this returns 0.8, NOT 8\n",
    "    \"\"\"\n",
    "    #round predictions to the closest integer\n",
    "    #rounded_preds = torch.sigmoid(preds)\n",
    "    \n",
    "    #assert preds.size()==y.size()\n",
    "    \n",
    "    #reds=rounded_preds.detach().numpy()\n",
    "\n",
    "    #y=y.numpy()\n",
    "    \n",
    "    global var_y\n",
    "    global var_preds\n",
    "    var_y = y\n",
    "    var_preds = preds\n",
    "\n",
    "    acc = roc_auc_score(y, preds)\n",
    "\n",
    "    \n",
    "    return acc"
   ]
  },
  {
   "cell_type": "code",
   "execution_count": 20,
   "metadata": {},
   "outputs": [],
   "source": [
    "\n",
    "\n",
    "def train(model, iterator, optimizer, criterion):\n",
    "    \n",
    "    epoch_loss = 0\n",
    "    epoch_acc = 0\n",
    "    \n",
    "    model.train()\n",
    "    preds_list=[]\n",
    "    labels_list= []\n",
    " \n",
    "    \n",
    "    for i, batch in enumerate(iterator):\n",
    "        \n",
    "        optimizer.zero_grad()\n",
    "        \n",
    "        text = batch.comment_text\n",
    "        \n",
    "        predictions = model(text).squeeze(1)\n",
    "        \n",
    "        batch_labels=torch.stack([getattr(batch, y) for y in yFields]) #transpose?\n",
    "        batch_labels = torch.transpose(batch_labels,0,1)\n",
    "        \n",
    "        loss = criterion(predictions, batch_labels)\n",
    "        \n",
    "        loss.backward()\n",
    "        \n",
    "        optimizer.step()\n",
    "        \n",
    "        preds_list+=[torch.sigmoid(predictions).detach().numpy()]\n",
    "        labels_list+=[batch_labels.numpy()]\n",
    "        \n",
    "        #if i%64==0:\n",
    "        #    epoch_acc += [roc_auc(np.vstack(preds_list), np.vstack(batch_labels))]\n",
    "        #    preds_list=[]\n",
    "        #    labels_list= []\n",
    "            \n",
    "        \n",
    "        epoch_loss += loss.item()\n",
    "        \n",
    "        \n",
    "        \n",
    "    return epoch_loss / len(iterator), roc_auc(np.vstack(preds_list), np.vstack(labels_list))"
   ]
  },
  {
   "cell_type": "code",
   "execution_count": 21,
   "metadata": {},
   "outputs": [],
   "source": [
    "\n",
    "\n",
    "def evaluate(model, iterator, criterion):\n",
    "    \n",
    "    epoch_loss = 0\n",
    "    epoch_acc = 0\n",
    "    \n",
    "    model.eval()\n",
    "    \n",
    "    preds_list=[]\n",
    "    labels_list= []\n",
    "    epoch_acc=[]\n",
    "    \n",
    "    with torch.no_grad():\n",
    "    \n",
    "        for batch in iterator:\n",
    "\n",
    "            text = batch.comment_text\n",
    "            \n",
    "            predictions = model(text).squeeze(1)\n",
    "            \n",
    "            batch_labels = torch.stack([getattr(batch, y) for y in yFields]) #transpose?\n",
    "            batch_labels = torch.transpose(batch_labels,0,1)\n",
    "            \n",
    "            loss = criterion(predictions, batch_labels)\n",
    "\n",
    "            epoch_loss += loss.item()\n",
    "            \n",
    "            preds_list+=[torch.sigmoid(predictions).detach().numpy()]\n",
    "            labels_list+=[batch_labels.numpy()]\n",
    "        \n",
    "            #if i%64==0:\n",
    "            #    epoch_acc += [roc_auc(np.vstack(preds_list), np.vstack(batch_labels))]\n",
    "            #    preds_list=[]\n",
    "            #    labels_list= []\n",
    "        \n",
    "    return epoch_loss / len(iterator), roc_auc(np.vstack(preds_list), np.vstack(labels_list))\n",
    "\n"
   ]
  },
  {
   "cell_type": "code",
   "execution_count": null,
   "metadata": {},
   "outputs": [],
   "source": []
  },
  {
   "cell_type": "code",
   "execution_count": 22,
   "metadata": {},
   "outputs": [],
   "source": [
    "import time\n",
    "\n",
    "def epoch_time(start_time, end_time):\n",
    "    elapsed_time = end_time - start_time\n",
    "    elapsed_mins = int(elapsed_time / 60)\n",
    "    elapsed_secs = int(elapsed_time - (elapsed_mins * 60))\n",
    "    return elapsed_mins, elapsed_secs"
   ]
  },
  {
   "cell_type": "code",
   "execution_count": 23,
   "metadata": {},
   "outputs": [
    {
     "name": "stdout",
     "output_type": "stream",
     "text": [
      "jaja\n",
      "juju\n",
      "Epoch: 01 | Epoch Time: 3m 14s\n",
      "\tTrain Loss: 0.083 | Train Acc: 88.03%\n",
      "\t Val. Loss: 0.051 |  Val. Acc: 96.61%\n",
      "jaja\n",
      "juju\n",
      "Epoch: 02 | Epoch Time: 3m 9s\n",
      "\tTrain Loss: 0.054 | Train Acc: 96.29%\n",
      "\t Val. Loss: 0.048 |  Val. Acc: 97.56%\n",
      "jaja\n",
      "juju\n",
      "Epoch: 03 | Epoch Time: 3m 24s\n",
      "\tTrain Loss: 0.049 | Train Acc: 97.53%\n",
      "\t Val. Loss: 0.048 |  Val. Acc: 97.93%\n",
      "jaja\n",
      "juju\n",
      "Epoch: 04 | Epoch Time: 3m 24s\n",
      "\tTrain Loss: 0.046 | Train Acc: 98.06%\n",
      "\t Val. Loss: 0.046 |  Val. Acc: 98.09%\n"
     ]
    }
   ],
   "source": [
    "\n",
    "\n",
    "\n",
    "N_EPOCHS = 4\n",
    "\n",
    "best_valid_loss = float('inf')\n",
    "\n",
    "for epoch in range(N_EPOCHS):\n",
    "\n",
    "    start_time = time.time()\n",
    "    \n",
    "    train_loss, train_acc = train(model, train_iterator, optimizer, criterion)\n",
    "    print('jaja')\n",
    "    valid_loss, valid_acc = evaluate(model, valid_iterator, criterion)\n",
    "    print('juju')\n",
    "    end_time = time.time()\n",
    "\n",
    "    epoch_mins, epoch_secs = epoch_time(start_time, end_time)\n",
    "    \n",
    "    if valid_loss < best_valid_loss:\n",
    "        best_valid_loss = valid_loss\n",
    "        torch.save(model.state_dict(), 'tut2-model.pt')\n",
    "    \n",
    "    \n",
    "\n",
    "    \n",
    "    print(f'Epoch: {epoch+1:02} | Epoch Time: {epoch_mins}m {epoch_secs}s')\n",
    "    print(f'\\tTrain Loss: {train_loss:.3f} | Train Acc: {train_acc*100:.2f}%')\n",
    "    print(f'\\t Val. Loss: {valid_loss:.3f} |  Val. Acc: {valid_acc*100:.2f}%')\n",
    "\n"
   ]
  },
  {
   "cell_type": "markdown",
   "metadata": {},
   "source": [
    "## Checking consistency"
   ]
  },
  {
   "cell_type": "code",
   "execution_count": 24,
   "metadata": {},
   "outputs": [],
   "source": [
    "dataFields = {\"comment_text\": (\"comment_text\", TEXT)}\n",
    "\n",
    "testDataset= data.TabularDataset(path='./data/toxic/test.json', \n",
    "                                            format='json',\n",
    "                                            fields=dataFields, \n",
    "                                            skip_header=False)\n",
    "\n",
    "test_iterator = torchtext.data.Iterator(testDataset, batch_size=64, device=device, \n",
    "                                     sort=False, sort_within_batch=False, \n",
    "                                     repeat=False,shuffle=False)\n"
   ]
  },
  {
   "cell_type": "code",
   "execution_count": 25,
   "metadata": {},
   "outputs": [],
   "source": [
    "myPreds=[]\n",
    "with torch.no_grad():\n",
    "    model.eval()\n",
    "    for batch in test_iterator:\n",
    "\n",
    "        torch.cuda.empty_cache()\n",
    "    \n",
    "        text = batch.comment_text    \n",
    "        predictions = model(text).squeeze(1)         \n",
    "        myPreds+=[torch.sigmoid(predictions).detach().numpy()]\n",
    "    \n",
    "        torch.cuda.empty_cache()\n",
    "myPreds = np.vstack(myPreds)\n",
    "df_toxic= pd.read_csv(\"./data/toxic/test.csv\")\n",
    "for i, col in enumerate([\"toxic\", \"severe_toxic\", \"obscene\", \"threat\", \"insult\", \"identity_hate\"]):\n",
    "    df_toxic[col] = myPreds[:, i]\n",
    "    \n"
   ]
  },
  {
   "cell_type": "code",
   "execution_count": 26,
   "metadata": {},
   "outputs": [],
   "source": [
    "df_toxic.drop(\"comment_text\", axis=1).to_csv(\"./data/toxic/submission_cv.csv\", index=False)"
   ]
  },
  {
   "cell_type": "markdown",
   "metadata": {},
   "source": [
    "## Liar DATASET "
   ]
  },
  {
   "cell_type": "code",
   "execution_count": null,
   "metadata": {},
   "outputs": [],
   "source": []
  },
  {
   "cell_type": "code",
   "execution_count": 27,
   "metadata": {},
   "outputs": [],
   "source": [
    "dataFields = {\"statement\": (\"statement\", TEXT)}\n",
    "\n",
    "testDataset= data.TabularDataset(path='./data/liar_dataset/liar.json', \n",
    "                                            format='json',\n",
    "                                            fields=dataFields, \n",
    "                                            skip_header=False)"
   ]
  },
  {
   "cell_type": "code",
   "execution_count": 28,
   "metadata": {},
   "outputs": [
    {
     "data": {
      "text/plain": [
       "10240"
      ]
     },
     "execution_count": 28,
     "metadata": {},
     "output_type": "execute_result"
    }
   ],
   "source": [
    "len(testDataset)"
   ]
  },
  {
   "cell_type": "code",
   "execution_count": null,
   "metadata": {},
   "outputs": [],
   "source": []
  },
  {
   "cell_type": "code",
   "execution_count": 29,
   "metadata": {},
   "outputs": [],
   "source": [
    "test_iterator = torchtext.data.Iterator(testDataset, batch_size=64, device=device, \n",
    "                                     sort=False, sort_within_batch=False, \n",
    "                                     repeat=False,shuffle=False)\n",
    "\n",
    "myPreds=[]\n",
    "with torch.no_grad():\n",
    "    model.eval()\n",
    "    for batch in test_iterator:\n",
    "\n",
    "        torch.cuda.empty_cache()\n",
    "    \n",
    "        text = batch.statement    \n",
    "        predictions = model(text).squeeze(1)         \n",
    "        myPreds+=[torch.sigmoid(predictions).detach().numpy()]\n",
    "    \n",
    "        torch.cuda.empty_cache()\n",
    "myPreds = np.vstack(myPreds)"
   ]
  },
  {
   "cell_type": "code",
   "execution_count": 30,
   "metadata": {},
   "outputs": [],
   "source": [
    "tox_cols= [\"toxic\", \"severe_toxic\", \"obscene\", \"threat\", \"insult\", \"identity_hate\"]\n",
    "df = pd.read_csv(\"./data/liar_dataset/train.csv\")\n",
    "for i, col in enumerate(tox_cols):\n",
    "    df[col] = myPreds[:, i]"
   ]
  },
  {
   "cell_type": "code",
   "execution_count": 31,
   "metadata": {},
   "outputs": [
    {
     "data": {
      "text/plain": [
       "array(['false', 'half-true', 'mostly-true', 'true', 'barely-true',\n",
       "       'pants-fire'], dtype=object)"
      ]
     },
     "execution_count": 31,
     "metadata": {},
     "output_type": "execute_result"
    }
   ],
   "source": [
    "df['label'].unique()"
   ]
  },
  {
   "cell_type": "code",
   "execution_count": 32,
   "metadata": {},
   "outputs": [
    {
     "data": {
      "text/plain": [
       "Index(['ID', 'label', 'statement', 'subject', 'speaker', 'speaker_job',\n",
       "       'state_info', 'afiliation', 'barely_true_counts', 'false_counts',\n",
       "       'half_true_counts', 'mostly_true_counts', 'pants_on_fire_counts',\n",
       "       'context', 'toxic', 'severe_toxic', 'obscene', 'threat', 'insult',\n",
       "       'identity_hate'],\n",
       "      dtype='object')"
      ]
     },
     "execution_count": 32,
     "metadata": {},
     "output_type": "execute_result"
    }
   ],
   "source": [
    "df.columns"
   ]
  },
  {
   "cell_type": "code",
   "execution_count": 33,
   "metadata": {},
   "outputs": [
    {
     "data": {
      "text/html": [
       "<div>\n",
       "<style scoped>\n",
       "    .dataframe tbody tr th:only-of-type {\n",
       "        vertical-align: middle;\n",
       "    }\n",
       "\n",
       "    .dataframe tbody tr th {\n",
       "        vertical-align: top;\n",
       "    }\n",
       "\n",
       "    .dataframe thead th {\n",
       "        text-align: right;\n",
       "    }\n",
       "</style>\n",
       "<table border=\"1\" class=\"dataframe\">\n",
       "  <thead>\n",
       "    <tr style=\"text-align: right;\">\n",
       "      <th></th>\n",
       "      <th>toxic</th>\n",
       "      <th>severe_toxic</th>\n",
       "      <th>obscene</th>\n",
       "      <th>threat</th>\n",
       "      <th>insult</th>\n",
       "      <th>identity_hate</th>\n",
       "    </tr>\n",
       "  </thead>\n",
       "  <tbody>\n",
       "    <tr>\n",
       "      <th>count</th>\n",
       "      <td>1995.000000</td>\n",
       "      <td>1995.000000</td>\n",
       "      <td>1995.000000</td>\n",
       "      <td>1995.000000</td>\n",
       "      <td>1995.000000</td>\n",
       "      <td>1995.000000</td>\n",
       "    </tr>\n",
       "    <tr>\n",
       "      <th>mean</th>\n",
       "      <td>0.009685</td>\n",
       "      <td>0.000624</td>\n",
       "      <td>0.002658</td>\n",
       "      <td>0.000603</td>\n",
       "      <td>0.003081</td>\n",
       "      <td>0.003214</td>\n",
       "    </tr>\n",
       "    <tr>\n",
       "      <th>std</th>\n",
       "      <td>0.032179</td>\n",
       "      <td>0.000882</td>\n",
       "      <td>0.005020</td>\n",
       "      <td>0.002395</td>\n",
       "      <td>0.005495</td>\n",
       "      <td>0.015908</td>\n",
       "    </tr>\n",
       "    <tr>\n",
       "      <th>min</th>\n",
       "      <td>0.000019</td>\n",
       "      <td>0.000008</td>\n",
       "      <td>0.000041</td>\n",
       "      <td>0.000005</td>\n",
       "      <td>0.000044</td>\n",
       "      <td>0.000014</td>\n",
       "    </tr>\n",
       "    <tr>\n",
       "      <th>25%</th>\n",
       "      <td>0.001190</td>\n",
       "      <td>0.000170</td>\n",
       "      <td>0.000754</td>\n",
       "      <td>0.000141</td>\n",
       "      <td>0.000809</td>\n",
       "      <td>0.000398</td>\n",
       "    </tr>\n",
       "    <tr>\n",
       "      <th>50%</th>\n",
       "      <td>0.003013</td>\n",
       "      <td>0.000357</td>\n",
       "      <td>0.001484</td>\n",
       "      <td>0.000271</td>\n",
       "      <td>0.001593</td>\n",
       "      <td>0.000836</td>\n",
       "    </tr>\n",
       "    <tr>\n",
       "      <th>75%</th>\n",
       "      <td>0.006852</td>\n",
       "      <td>0.000713</td>\n",
       "      <td>0.002822</td>\n",
       "      <td>0.000540</td>\n",
       "      <td>0.003288</td>\n",
       "      <td>0.001721</td>\n",
       "    </tr>\n",
       "    <tr>\n",
       "      <th>max</th>\n",
       "      <td>0.504111</td>\n",
       "      <td>0.010692</td>\n",
       "      <td>0.125482</td>\n",
       "      <td>0.073620</td>\n",
       "      <td>0.067750</td>\n",
       "      <td>0.400353</td>\n",
       "    </tr>\n",
       "  </tbody>\n",
       "</table>\n",
       "</div>"
      ],
      "text/plain": [
       "             toxic  severe_toxic      obscene       threat       insult  \\\n",
       "count  1995.000000   1995.000000  1995.000000  1995.000000  1995.000000   \n",
       "mean      0.009685      0.000624     0.002658     0.000603     0.003081   \n",
       "std       0.032179      0.000882     0.005020     0.002395     0.005495   \n",
       "min       0.000019      0.000008     0.000041     0.000005     0.000044   \n",
       "25%       0.001190      0.000170     0.000754     0.000141     0.000809   \n",
       "50%       0.003013      0.000357     0.001484     0.000271     0.001593   \n",
       "75%       0.006852      0.000713     0.002822     0.000540     0.003288   \n",
       "max       0.504111      0.010692     0.125482     0.073620     0.067750   \n",
       "\n",
       "       identity_hate  \n",
       "count    1995.000000  \n",
       "mean        0.003214  \n",
       "std         0.015908  \n",
       "min         0.000014  \n",
       "25%         0.000398  \n",
       "50%         0.000836  \n",
       "75%         0.001721  \n",
       "max         0.400353  "
      ]
     },
     "execution_count": 33,
     "metadata": {},
     "output_type": "execute_result"
    }
   ],
   "source": [
    "df[ df['label'] == 'false' ][tox_cols].describe()"
   ]
  },
  {
   "cell_type": "code",
   "execution_count": 34,
   "metadata": {},
   "outputs": [],
   "source": [
    "import seaborn as sns\n",
    "import matplotlib.pyplot as plt\n"
   ]
  },
  {
   "cell_type": "code",
   "execution_count": 35,
   "metadata": {},
   "outputs": [],
   "source": [
    "#import seaborn as sns\n",
    "#sns.set_style(\"darkgrid\")\n",
    "#th=0.5\n",
    "#cat= 'insult'\n",
    "#ax = sns.distplot(testDF[(testDF['label']==1) & (testDF[cat]>th) ][cat], bins=15, label = 'label1')\n",
    "#ax = sns.distplot(testDF[(testDF['label']==0) & (testDF[cat]>th) ][cat], bins=15, label = 'label0')\n",
    "#ax.legend()\n",
    "#ax.set_title('Survived')"
   ]
  },
  {
   "cell_type": "code",
   "execution_count": 36,
   "metadata": {},
   "outputs": [
    {
     "name": "stderr",
     "output_type": "stream",
     "text": [
      "/Users/rene/anaconda3/lib/python3.7/site-packages/scipy/stats/stats.py:1713: FutureWarning: Using a non-tuple sequence for multidimensional indexing is deprecated; use `arr[tuple(seq)]` instead of `arr[seq]`. In the future this will be interpreted as an array index, `arr[np.array(seq)]`, which will result either in an error or a different result.\n",
      "  return np.add.reduce(sorted[indexer] * weights, axis=axis) / sumval\n"
     ]
    },
    {
     "data": {
      "image/png": "[encoded data removed]",
      "text/plain": [
       "<Figure size 1008x432 with 2 Axes>"
      ]
     },
     "metadata": {
      "needs_background": "light"
     },
     "output_type": "display_data"
    }
   ],
   "source": [
    "\n",
    "fig, ax = plt.subplots(nrows=2, ncols=1,figsize=(14, 6))\n",
    "axx=ax.flat\n",
    "\n",
    "th=0.0\n",
    "cat= 'identity_hate'\n",
    "\n",
    "_df = df[ (df[cat]>th)  ] \n",
    "\n",
    "sns.violinplot(y=cat,x= 'label' , data= _df, kind=\"box\", ax=axx[0])\n",
    "\n",
    "\n",
    "sns.catplot(y=cat,x= 'label' , data=_df, kind=\"box\", ax=axx[1])\n",
    "\n",
    "plt.close(2);"
   ]
  },
  {
   "cell_type": "code",
   "execution_count": 37,
   "metadata": {},
   "outputs": [
    {
     "data": {
      "image/png": "[encoded data removed]",
      "text/plain": [
       "<Figure size 1008x432 with 2 Axes>"
      ]
     },
     "metadata": {
      "needs_background": "light"
     },
     "output_type": "display_data"
    }
   ],
   "source": [
    "fig, ax = plt.subplots(nrows=2, ncols=1,figsize=(14, 6))\n",
    "axx=ax.flat\n",
    "\n",
    "th=0.1\n",
    "cat= 'identity_hate'\n",
    "\n",
    "_df = df[ (df[cat]>th)  ] \n",
    "\n",
    "sns.violinplot(y=cat,x= 'label' , data= _df, kind=\"box\", ax=axx[0])\n",
    "\n",
    "\n",
    "sns.catplot(y=cat,x= 'label' , data=_df, kind=\"box\", ax=axx[1])\n",
    "\n",
    "plt.close(2);"
   ]
  },
  {
   "cell_type": "code",
   "execution_count": 38,
   "metadata": {},
   "outputs": [
    {
     "data": {
      "image/png": "[encoded data removed]",
      "text/plain": [
       "<Figure size 1008x432 with 2 Axes>"
      ]
     },
     "metadata": {
      "needs_background": "light"
     },
     "output_type": "display_data"
    }
   ],
   "source": [
    "fig, ax = plt.subplots(nrows=2, ncols=1,figsize=(14, 6))\n",
    "axx=ax.flat\n",
    "\n",
    "th=0.01\n",
    "cat= 'toxic'\n",
    "\n",
    "_df = df[ (df[cat]>th) ] \n",
    "\n",
    "sns.violinplot(y=cat,x= 'label' , data= _df, kind=\"box\", ax=axx[0])\n",
    "\n",
    "\n",
    "sns.catplot(y=cat,x= 'label' , data=_df, kind=\"box\", ax=axx[1])\n",
    "\n",
    "plt.close(2);"
   ]
  },
  {
   "cell_type": "code",
   "execution_count": 39,
   "metadata": {},
   "outputs": [
    {
     "data": {
      "image/png": "[encoded data removed]",
      "text/plain": [
       "<Figure size 1008x432 with 2 Axes>"
      ]
     },
     "metadata": {
      "needs_background": "light"
     },
     "output_type": "display_data"
    }
   ],
   "source": [
    "fig, ax = plt.subplots(nrows=2, ncols=1,figsize=(14, 6))\n",
    "axx=ax.flat\n",
    "\n",
    "th=0.01\n",
    "cat= 'obscene'\n",
    "\n",
    "_df = df[ (df[cat]>th) ] \n",
    "\n",
    "sns.violinplot(y=cat,x= 'label' , data= _df, kind=\"box\", ax=axx[0])\n",
    "\n",
    "\n",
    "sns.catplot(y=cat,x= 'label' , data=_df, kind=\"box\", ax=axx[1])\n",
    "\n",
    "plt.close(2);"
   ]
  },
  {
   "cell_type": "code",
   "execution_count": 40,
   "metadata": {},
   "outputs": [
    {
     "data": {
      "image/png": "[encoded data removed]",
      "text/plain": [
       "<Figure size 1008x432 with 2 Axes>"
      ]
     },
     "metadata": {
      "needs_background": "light"
     },
     "output_type": "display_data"
    }
   ],
   "source": [
    "fig, ax = plt.subplots(nrows=2, ncols=1,figsize=(14, 6))\n",
    "axx=ax.flat\n",
    "\n",
    "th=0.01\n",
    "cat= 'insult'\n",
    "\n",
    "_df = df[ (df[cat]>th) ] \n",
    "\n",
    "sns.violinplot(y=cat,x= 'label' , data= _df, kind=\"box\", ax=axx[0])\n",
    "\n",
    "\n",
    "sns.catplot(y=cat,x= 'label' , data=_df, kind=\"box\", ax=axx[1])\n",
    "\n",
    "plt.close(2);"
   ]
  },
  {
   "cell_type": "code",
   "execution_count": 41,
   "metadata": {},
   "outputs": [
    {
     "data": {
      "image/png": "[encoded data removed]",
      "text/plain": [
       "<Figure size 1008x432 with 2 Axes>"
      ]
     },
     "metadata": {
      "needs_background": "light"
     },
     "output_type": "display_data"
    }
   ],
   "source": [
    "fig, ax = plt.subplots(nrows=2, ncols=1,figsize=(14, 6))\n",
    "axx=ax.flat\n",
    "\n",
    "th=0.01\n",
    "cat= 'obscene'\n",
    "\n",
    "_df = df[ (df[cat]>th) ] \n",
    "\n",
    "sns.violinplot(y=cat,x= 'label' , data= _df, kind=\"box\", ax=axx[0])\n",
    "\n",
    "\n",
    "sns.catplot(y=cat,x= 'label' , data=_df, kind=\"box\", ax=axx[1])\n",
    "\n",
    "plt.close(2);"
   ]
  },
  {
   "cell_type": "code",
   "execution_count": 42,
   "metadata": {},
   "outputs": [
    {
     "data": {
      "image/png": "[encoded data removed]",
      "text/plain": [
       "<Figure size 1008x432 with 2 Axes>"
      ]
     },
     "metadata": {
      "needs_background": "light"
     },
     "output_type": "display_data"
    }
   ],
   "source": [
    "fig, ax = plt.subplots(nrows=2, ncols=1,figsize=(14, 6))\n",
    "axx=ax.flat\n",
    "\n",
    "th=0.001\n",
    "cat= 'severe_toxic'\n",
    "\n",
    "_df = df[ (df[cat]>th) ] \n",
    "\n",
    "sns.violinplot(y=cat,x= 'label' , data= _df, kind=\"box\", ax=axx[0])\n",
    "\n",
    "\n",
    "sns.catplot(y=cat,x= 'label' , data=_df, kind=\"box\", ax=axx[1])\n",
    "\n",
    "plt.close(2);"
   ]
  },
  {
   "cell_type": "markdown",
   "metadata": {},
   "source": [
    "## Stance"
   ]
  },
  {
   "cell_type": "code",
   "execution_count": 183,
   "metadata": {},
   "outputs": [],
   "source": [
    "dataFields = {\"Headline\": (\"Headline\", TEXT)}\n",
    "\n",
    "testDataset= data.TabularDataset(path='./data/train_stance.json', \n",
    "                                            format='json',\n",
    "                                            fields=dataFields, \n",
    "                                            skip_header=False)"
   ]
  },
  {
   "cell_type": "code",
   "execution_count": 184,
   "metadata": {},
   "outputs": [],
   "source": [
    "test_iterator = torchtext.data.Iterator(testDataset, batch_size=64, device=device, \n",
    "                                     sort=False, sort_within_batch=False, \n",
    "                                     repeat=False,shuffle=False)\n",
    "\n",
    "myPreds=[]\n",
    "with torch.no_grad():\n",
    "    model.eval()\n",
    "    for batch in test_iterator:\n",
    "\n",
    "        torch.cuda.empty_cache()\n",
    "    \n",
    "        text = batch.Headline    \n",
    "        predictions = model(text).squeeze(1)         \n",
    "        myPreds+=[torch.sigmoid(predictions).detach().numpy()]\n",
    "    \n",
    "        torch.cuda.empty_cache()\n",
    "myPreds = np.vstack(myPreds)"
   ]
  },
  {
   "cell_type": "code",
   "execution_count": 185,
   "metadata": {},
   "outputs": [],
   "source": [
    "testDF = pd.read_csv(\"./data/train_stances.csv\")\n",
    "for i, col in enumerate([\"toxic\", \"severe_toxic\", \"obscene\", \"threat\", \"insult\", \"identity_hate\"]):\n",
    "    testDF[col] = myPreds[:, i]"
   ]
  },
  {
   "cell_type": "code",
   "execution_count": 188,
   "metadata": {},
   "outputs": [
    {
     "data": {
      "text/html": [
       "<div>\n",
       "<style scoped>\n",
       "    .dataframe tbody tr th:only-of-type {\n",
       "        vertical-align: middle;\n",
       "    }\n",
       "\n",
       "    .dataframe tbody tr th {\n",
       "        vertical-align: top;\n",
       "    }\n",
       "\n",
       "    .dataframe thead th {\n",
       "        text-align: right;\n",
       "    }\n",
       "</style>\n",
       "<table border=\"1\" class=\"dataframe\">\n",
       "  <thead>\n",
       "    <tr style=\"text-align: right;\">\n",
       "      <th></th>\n",
       "      <th>Body ID</th>\n",
       "      <th>toxic</th>\n",
       "      <th>severe_toxic</th>\n",
       "      <th>obscene</th>\n",
       "      <th>threat</th>\n",
       "      <th>insult</th>\n",
       "      <th>identity_hate</th>\n",
       "    </tr>\n",
       "  </thead>\n",
       "  <tbody>\n",
       "    <tr>\n",
       "      <th>count</th>\n",
       "      <td>3678.000000</td>\n",
       "      <td>3678.000000</td>\n",
       "      <td>3678.000000</td>\n",
       "      <td>3678.000000</td>\n",
       "      <td>3678.000000</td>\n",
       "      <td>3678.000000</td>\n",
       "      <td>3678.000000</td>\n",
       "    </tr>\n",
       "    <tr>\n",
       "      <th>mean</th>\n",
       "      <td>1620.734638</td>\n",
       "      <td>0.053042</td>\n",
       "      <td>0.002189</td>\n",
       "      <td>0.025586</td>\n",
       "      <td>0.001820</td>\n",
       "      <td>0.014245</td>\n",
       "      <td>0.005253</td>\n",
       "    </tr>\n",
       "    <tr>\n",
       "      <th>std</th>\n",
       "      <td>643.666111</td>\n",
       "      <td>0.162538</td>\n",
       "      <td>0.004067</td>\n",
       "      <td>0.100223</td>\n",
       "      <td>0.003160</td>\n",
       "      <td>0.046084</td>\n",
       "      <td>0.010096</td>\n",
       "    </tr>\n",
       "    <tr>\n",
       "      <th>min</th>\n",
       "      <td>0.000000</td>\n",
       "      <td>0.000038</td>\n",
       "      <td>0.000017</td>\n",
       "      <td>0.000116</td>\n",
       "      <td>0.000012</td>\n",
       "      <td>0.000066</td>\n",
       "      <td>0.000036</td>\n",
       "    </tr>\n",
       "    <tr>\n",
       "      <th>25%</th>\n",
       "      <td>1174.000000</td>\n",
       "      <td>0.003689</td>\n",
       "      <td>0.000556</td>\n",
       "      <td>0.002059</td>\n",
       "      <td>0.000384</td>\n",
       "      <td>0.002000</td>\n",
       "      <td>0.001133</td>\n",
       "    </tr>\n",
       "    <tr>\n",
       "      <th>50%</th>\n",
       "      <td>1743.000000</td>\n",
       "      <td>0.008372</td>\n",
       "      <td>0.001067</td>\n",
       "      <td>0.003580</td>\n",
       "      <td>0.000794</td>\n",
       "      <td>0.003793</td>\n",
       "      <td>0.002174</td>\n",
       "    </tr>\n",
       "    <tr>\n",
       "      <th>75%</th>\n",
       "      <td>2165.000000</td>\n",
       "      <td>0.020532</td>\n",
       "      <td>0.001955</td>\n",
       "      <td>0.007585</td>\n",
       "      <td>0.001945</td>\n",
       "      <td>0.007658</td>\n",
       "      <td>0.004582</td>\n",
       "    </tr>\n",
       "    <tr>\n",
       "      <th>max</th>\n",
       "      <td>2532.000000</td>\n",
       "      <td>0.969400</td>\n",
       "      <td>0.034909</td>\n",
       "      <td>0.859759</td>\n",
       "      <td>0.044482</td>\n",
       "      <td>0.516959</td>\n",
       "      <td>0.097998</td>\n",
       "    </tr>\n",
       "  </tbody>\n",
       "</table>\n",
       "</div>"
      ],
      "text/plain": [
       "           Body ID        toxic  severe_toxic      obscene       threat  \\\n",
       "count  3678.000000  3678.000000   3678.000000  3678.000000  3678.000000   \n",
       "mean   1620.734638     0.053042      0.002189     0.025586     0.001820   \n",
       "std     643.666111     0.162538      0.004067     0.100223     0.003160   \n",
       "min       0.000000     0.000038      0.000017     0.000116     0.000012   \n",
       "25%    1174.000000     0.003689      0.000556     0.002059     0.000384   \n",
       "50%    1743.000000     0.008372      0.001067     0.003580     0.000794   \n",
       "75%    2165.000000     0.020532      0.001955     0.007585     0.001945   \n",
       "max    2532.000000     0.969400      0.034909     0.859759     0.044482   \n",
       "\n",
       "            insult  identity_hate  \n",
       "count  3678.000000    3678.000000  \n",
       "mean      0.014245       0.005253  \n",
       "std       0.046084       0.010096  \n",
       "min       0.000066       0.000036  \n",
       "25%       0.002000       0.001133  \n",
       "50%       0.003793       0.002174  \n",
       "75%       0.007658       0.004582  \n",
       "max       0.516959       0.097998  "
      ]
     },
     "execution_count": 188,
     "metadata": {},
     "output_type": "execute_result"
    }
   ],
   "source": [
    "testDF[testDF['Stance']=='agree'].describe()"
   ]
  },
  {
   "cell_type": "code",
   "execution_count": 189,
   "metadata": {},
   "outputs": [
    {
     "data": {
      "text/plain": [
       "array(['unrelated', 'agree', 'disagree', 'discuss'], dtype=object)"
      ]
     },
     "execution_count": 189,
     "metadata": {},
     "output_type": "execute_result"
    }
   ],
   "source": [
    "testDF['Stance'].unique()"
   ]
  },
  {
   "cell_type": "code",
   "execution_count": 193,
   "metadata": {},
   "outputs": [
    {
     "data": {
      "text/html": [
       "<div>\n",
       "<style scoped>\n",
       "    .dataframe tbody tr th:only-of-type {\n",
       "        vertical-align: middle;\n",
       "    }\n",
       "\n",
       "    .dataframe tbody tr th {\n",
       "        vertical-align: top;\n",
       "    }\n",
       "\n",
       "    .dataframe thead th {\n",
       "        text-align: right;\n",
       "    }\n",
       "</style>\n",
       "<table border=\"1\" class=\"dataframe\">\n",
       "  <thead>\n",
       "    <tr style=\"text-align: right;\">\n",
       "      <th></th>\n",
       "      <th>Body ID</th>\n",
       "      <th>toxic</th>\n",
       "      <th>severe_toxic</th>\n",
       "      <th>obscene</th>\n",
       "      <th>threat</th>\n",
       "      <th>insult</th>\n",
       "      <th>identity_hate</th>\n",
       "    </tr>\n",
       "  </thead>\n",
       "  <tbody>\n",
       "    <tr>\n",
       "      <th>count</th>\n",
       "      <td>840.000000</td>\n",
       "      <td>840.000000</td>\n",
       "      <td>840.000000</td>\n",
       "      <td>840.000000</td>\n",
       "      <td>840.000000</td>\n",
       "      <td>840.000000</td>\n",
       "      <td>840.000000</td>\n",
       "    </tr>\n",
       "    <tr>\n",
       "      <th>mean</th>\n",
       "      <td>1633.051190</td>\n",
       "      <td>0.029027</td>\n",
       "      <td>0.001558</td>\n",
       "      <td>0.014030</td>\n",
       "      <td>0.001194</td>\n",
       "      <td>0.007796</td>\n",
       "      <td>0.003991</td>\n",
       "    </tr>\n",
       "    <tr>\n",
       "      <th>std</th>\n",
       "      <td>554.813595</td>\n",
       "      <td>0.096122</td>\n",
       "      <td>0.002462</td>\n",
       "      <td>0.067980</td>\n",
       "      <td>0.001857</td>\n",
       "      <td>0.020401</td>\n",
       "      <td>0.006400</td>\n",
       "    </tr>\n",
       "    <tr>\n",
       "      <th>min</th>\n",
       "      <td>78.000000</td>\n",
       "      <td>0.000063</td>\n",
       "      <td>0.000037</td>\n",
       "      <td>0.000166</td>\n",
       "      <td>0.000016</td>\n",
       "      <td>0.000117</td>\n",
       "      <td>0.000057</td>\n",
       "    </tr>\n",
       "    <tr>\n",
       "      <th>25%</th>\n",
       "      <td>1227.000000</td>\n",
       "      <td>0.003437</td>\n",
       "      <td>0.000490</td>\n",
       "      <td>0.001895</td>\n",
       "      <td>0.000364</td>\n",
       "      <td>0.001844</td>\n",
       "      <td>0.001143</td>\n",
       "    </tr>\n",
       "    <tr>\n",
       "      <th>50%</th>\n",
       "      <td>1776.500000</td>\n",
       "      <td>0.007075</td>\n",
       "      <td>0.000963</td>\n",
       "      <td>0.003556</td>\n",
       "      <td>0.000676</td>\n",
       "      <td>0.003856</td>\n",
       "      <td>0.001871</td>\n",
       "    </tr>\n",
       "    <tr>\n",
       "      <th>75%</th>\n",
       "      <td>2042.000000</td>\n",
       "      <td>0.015958</td>\n",
       "      <td>0.001731</td>\n",
       "      <td>0.006418</td>\n",
       "      <td>0.001306</td>\n",
       "      <td>0.007126</td>\n",
       "      <td>0.003795</td>\n",
       "    </tr>\n",
       "    <tr>\n",
       "      <th>max</th>\n",
       "      <td>2529.000000</td>\n",
       "      <td>0.855946</td>\n",
       "      <td>0.024290</td>\n",
       "      <td>0.627934</td>\n",
       "      <td>0.017304</td>\n",
       "      <td>0.240092</td>\n",
       "      <td>0.083215</td>\n",
       "    </tr>\n",
       "  </tbody>\n",
       "</table>\n",
       "</div>"
      ],
      "text/plain": [
       "           Body ID       toxic  severe_toxic     obscene      threat  \\\n",
       "count   840.000000  840.000000    840.000000  840.000000  840.000000   \n",
       "mean   1633.051190    0.029027      0.001558    0.014030    0.001194   \n",
       "std     554.813595    0.096122      0.002462    0.067980    0.001857   \n",
       "min      78.000000    0.000063      0.000037    0.000166    0.000016   \n",
       "25%    1227.000000    0.003437      0.000490    0.001895    0.000364   \n",
       "50%    1776.500000    0.007075      0.000963    0.003556    0.000676   \n",
       "75%    2042.000000    0.015958      0.001731    0.006418    0.001306   \n",
       "max    2529.000000    0.855946      0.024290    0.627934    0.017304   \n",
       "\n",
       "           insult  identity_hate  \n",
       "count  840.000000     840.000000  \n",
       "mean     0.007796       0.003991  \n",
       "std      0.020401       0.006400  \n",
       "min      0.000117       0.000057  \n",
       "25%      0.001844       0.001143  \n",
       "50%      0.003856       0.001871  \n",
       "75%      0.007126       0.003795  \n",
       "max      0.240092       0.083215  "
      ]
     },
     "execution_count": 193,
     "metadata": {},
     "output_type": "execute_result"
    }
   ],
   "source": [
    "testDF[testDF['Stance']=='disagree'].describe()"
   ]
  },
  {
   "cell_type": "markdown",
   "metadata": {},
   "source": [
    "### Fake news only"
   ]
  },
  {
   "cell_type": "code",
   "execution_count": 212,
   "metadata": {},
   "outputs": [],
   "source": [
    "dataFields = {\"title_text\": (\"title_text\", TEXT)}\n",
    "\n",
    "testDataset= data.TabularDataset(path='./data/only_fake.json', \n",
    "                                            format='json',\n",
    "                                            fields=dataFields, \n",
    "                                            skip_header=False)"
   ]
  },
  {
   "cell_type": "code",
   "execution_count": 215,
   "metadata": {},
   "outputs": [],
   "source": [
    "test_iterator = torchtext.data.Iterator(testDataset, batch_size=64, device=device, \n",
    "                                     sort=False, sort_within_batch=False, \n",
    "                                     repeat=False,shuffle=False)\n",
    "\n",
    "myPreds=[]\n",
    "with torch.no_grad():\n",
    "    model.eval()\n",
    "    for batch in test_iterator:\n",
    "\n",
    "        torch.cuda.empty_cache()\n",
    "    \n",
    "        text = batch.title_text    \n",
    "        predictions = model(text).squeeze(1)         \n",
    "        myPreds+=[torch.sigmoid(predictions).detach().numpy()]\n",
    "    \n",
    "        torch.cuda.empty_cache()\n",
    "myPreds = np.vstack(myPreds)"
   ]
  },
  {
   "cell_type": "code",
   "execution_count": 217,
   "metadata": {},
   "outputs": [
    {
     "ename": "ValueError",
     "evalue": "Length of values does not match length of index",
     "output_type": "error",
     "traceback": [
      "\u001b[0;31m---------------------------------------------------------------------------\u001b[0m",
      "\u001b[0;31mValueError\u001b[0m                                Traceback (most recent call last)",
      "\u001b[0;32m<ipython-input-217-e882269e1b6d>\u001b[0m in \u001b[0;36m<module>\u001b[0;34m\u001b[0m\n\u001b[1;32m      1\u001b[0m \u001b[0mtestDF\u001b[0m \u001b[0;34m=\u001b[0m \u001b[0mpd\u001b[0m\u001b[0;34m.\u001b[0m\u001b[0mread_csv\u001b[0m\u001b[0;34m(\u001b[0m\u001b[0;34m\"./data/only_fake.csv\"\u001b[0m\u001b[0;34m)\u001b[0m\u001b[0;34m\u001b[0m\u001b[0;34m\u001b[0m\u001b[0m\n\u001b[1;32m      2\u001b[0m \u001b[0;32mfor\u001b[0m \u001b[0mi\u001b[0m\u001b[0;34m,\u001b[0m \u001b[0mcol\u001b[0m \u001b[0;32min\u001b[0m \u001b[0menumerate\u001b[0m\u001b[0;34m(\u001b[0m\u001b[0;34m[\u001b[0m\u001b[0;34m\"toxic\"\u001b[0m\u001b[0;34m,\u001b[0m \u001b[0;34m\"severe_toxic\"\u001b[0m\u001b[0;34m,\u001b[0m \u001b[0;34m\"obscene\"\u001b[0m\u001b[0;34m,\u001b[0m \u001b[0;34m\"threat\"\u001b[0m\u001b[0;34m,\u001b[0m \u001b[0;34m\"insult\"\u001b[0m\u001b[0;34m,\u001b[0m \u001b[0;34m\"identity_hate\"\u001b[0m\u001b[0;34m]\u001b[0m\u001b[0;34m)\u001b[0m\u001b[0;34m:\u001b[0m\u001b[0;34m\u001b[0m\u001b[0;34m\u001b[0m\u001b[0m\n\u001b[0;32m----> 3\u001b[0;31m     \u001b[0mtestDF\u001b[0m\u001b[0;34m[\u001b[0m\u001b[0mcol\u001b[0m\u001b[0;34m]\u001b[0m \u001b[0;34m=\u001b[0m \u001b[0mmyPreds\u001b[0m\u001b[0;34m[\u001b[0m\u001b[0;34m:\u001b[0m\u001b[0;34m,\u001b[0m \u001b[0mi\u001b[0m\u001b[0;34m]\u001b[0m\u001b[0;34m\u001b[0m\u001b[0;34m\u001b[0m\u001b[0m\n\u001b[0m",
      "\u001b[0;32m~/anaconda3/lib/python3.7/site-packages/pandas/core/frame.py\u001b[0m in \u001b[0;36m__setitem__\u001b[0;34m(self, key, value)\u001b[0m\n\u001b[1;32m   3117\u001b[0m         \u001b[0;32melse\u001b[0m\u001b[0;34m:\u001b[0m\u001b[0;34m\u001b[0m\u001b[0;34m\u001b[0m\u001b[0m\n\u001b[1;32m   3118\u001b[0m             \u001b[0;31m# set column\u001b[0m\u001b[0;34m\u001b[0m\u001b[0;34m\u001b[0m\u001b[0;34m\u001b[0m\u001b[0m\n\u001b[0;32m-> 3119\u001b[0;31m             \u001b[0mself\u001b[0m\u001b[0;34m.\u001b[0m\u001b[0m_set_item\u001b[0m\u001b[0;34m(\u001b[0m\u001b[0mkey\u001b[0m\u001b[0;34m,\u001b[0m \u001b[0mvalue\u001b[0m\u001b[0;34m)\u001b[0m\u001b[0;34m\u001b[0m\u001b[0;34m\u001b[0m\u001b[0m\n\u001b[0m\u001b[1;32m   3120\u001b[0m \u001b[0;34m\u001b[0m\u001b[0m\n\u001b[1;32m   3121\u001b[0m     \u001b[0;32mdef\u001b[0m \u001b[0m_setitem_slice\u001b[0m\u001b[0;34m(\u001b[0m\u001b[0mself\u001b[0m\u001b[0;34m,\u001b[0m \u001b[0mkey\u001b[0m\u001b[0;34m,\u001b[0m \u001b[0mvalue\u001b[0m\u001b[0;34m)\u001b[0m\u001b[0;34m:\u001b[0m\u001b[0;34m\u001b[0m\u001b[0;34m\u001b[0m\u001b[0m\n",
      "\u001b[0;32m~/anaconda3/lib/python3.7/site-packages/pandas/core/frame.py\u001b[0m in \u001b[0;36m_set_item\u001b[0;34m(self, key, value)\u001b[0m\n\u001b[1;32m   3192\u001b[0m \u001b[0;34m\u001b[0m\u001b[0m\n\u001b[1;32m   3193\u001b[0m         \u001b[0mself\u001b[0m\u001b[0;34m.\u001b[0m\u001b[0m_ensure_valid_index\u001b[0m\u001b[0;34m(\u001b[0m\u001b[0mvalue\u001b[0m\u001b[0;34m)\u001b[0m\u001b[0;34m\u001b[0m\u001b[0;34m\u001b[0m\u001b[0m\n\u001b[0;32m-> 3194\u001b[0;31m         \u001b[0mvalue\u001b[0m \u001b[0;34m=\u001b[0m \u001b[0mself\u001b[0m\u001b[0;34m.\u001b[0m\u001b[0m_sanitize_column\u001b[0m\u001b[0;34m(\u001b[0m\u001b[0mkey\u001b[0m\u001b[0;34m,\u001b[0m \u001b[0mvalue\u001b[0m\u001b[0;34m)\u001b[0m\u001b[0;34m\u001b[0m\u001b[0;34m\u001b[0m\u001b[0m\n\u001b[0m\u001b[1;32m   3195\u001b[0m         \u001b[0mNDFrame\u001b[0m\u001b[0;34m.\u001b[0m\u001b[0m_set_item\u001b[0m\u001b[0;34m(\u001b[0m\u001b[0mself\u001b[0m\u001b[0;34m,\u001b[0m \u001b[0mkey\u001b[0m\u001b[0;34m,\u001b[0m \u001b[0mvalue\u001b[0m\u001b[0;34m)\u001b[0m\u001b[0;34m\u001b[0m\u001b[0;34m\u001b[0m\u001b[0m\n\u001b[1;32m   3196\u001b[0m \u001b[0;34m\u001b[0m\u001b[0m\n",
      "\u001b[0;32m~/anaconda3/lib/python3.7/site-packages/pandas/core/frame.py\u001b[0m in \u001b[0;36m_sanitize_column\u001b[0;34m(self, key, value, broadcast)\u001b[0m\n\u001b[1;32m   3389\u001b[0m \u001b[0;34m\u001b[0m\u001b[0m\n\u001b[1;32m   3390\u001b[0m             \u001b[0;31m# turn me into an ndarray\u001b[0m\u001b[0;34m\u001b[0m\u001b[0;34m\u001b[0m\u001b[0;34m\u001b[0m\u001b[0m\n\u001b[0;32m-> 3391\u001b[0;31m             \u001b[0mvalue\u001b[0m \u001b[0;34m=\u001b[0m \u001b[0m_sanitize_index\u001b[0m\u001b[0;34m(\u001b[0m\u001b[0mvalue\u001b[0m\u001b[0;34m,\u001b[0m \u001b[0mself\u001b[0m\u001b[0;34m.\u001b[0m\u001b[0mindex\u001b[0m\u001b[0;34m,\u001b[0m \u001b[0mcopy\u001b[0m\u001b[0;34m=\u001b[0m\u001b[0;32mFalse\u001b[0m\u001b[0;34m)\u001b[0m\u001b[0;34m\u001b[0m\u001b[0;34m\u001b[0m\u001b[0m\n\u001b[0m\u001b[1;32m   3392\u001b[0m             \u001b[0;32mif\u001b[0m \u001b[0;32mnot\u001b[0m \u001b[0misinstance\u001b[0m\u001b[0;34m(\u001b[0m\u001b[0mvalue\u001b[0m\u001b[0;34m,\u001b[0m \u001b[0;34m(\u001b[0m\u001b[0mnp\u001b[0m\u001b[0;34m.\u001b[0m\u001b[0mndarray\u001b[0m\u001b[0;34m,\u001b[0m \u001b[0mIndex\u001b[0m\u001b[0;34m)\u001b[0m\u001b[0;34m)\u001b[0m\u001b[0;34m:\u001b[0m\u001b[0;34m\u001b[0m\u001b[0;34m\u001b[0m\u001b[0m\n\u001b[1;32m   3393\u001b[0m                 \u001b[0;32mif\u001b[0m \u001b[0misinstance\u001b[0m\u001b[0;34m(\u001b[0m\u001b[0mvalue\u001b[0m\u001b[0;34m,\u001b[0m \u001b[0mlist\u001b[0m\u001b[0;34m)\u001b[0m \u001b[0;32mand\u001b[0m \u001b[0mlen\u001b[0m\u001b[0;34m(\u001b[0m\u001b[0mvalue\u001b[0m\u001b[0;34m)\u001b[0m \u001b[0;34m>\u001b[0m \u001b[0;36m0\u001b[0m\u001b[0;34m:\u001b[0m\u001b[0;34m\u001b[0m\u001b[0;34m\u001b[0m\u001b[0m\n",
      "\u001b[0;32m~/anaconda3/lib/python3.7/site-packages/pandas/core/series.py\u001b[0m in \u001b[0;36m_sanitize_index\u001b[0;34m(data, index, copy)\u001b[0m\n\u001b[1;32m   3999\u001b[0m \u001b[0;34m\u001b[0m\u001b[0m\n\u001b[1;32m   4000\u001b[0m     \u001b[0;32mif\u001b[0m \u001b[0mlen\u001b[0m\u001b[0;34m(\u001b[0m\u001b[0mdata\u001b[0m\u001b[0;34m)\u001b[0m \u001b[0;34m!=\u001b[0m \u001b[0mlen\u001b[0m\u001b[0;34m(\u001b[0m\u001b[0mindex\u001b[0m\u001b[0;34m)\u001b[0m\u001b[0;34m:\u001b[0m\u001b[0;34m\u001b[0m\u001b[0;34m\u001b[0m\u001b[0m\n\u001b[0;32m-> 4001\u001b[0;31m         \u001b[0;32mraise\u001b[0m \u001b[0mValueError\u001b[0m\u001b[0;34m(\u001b[0m\u001b[0;34m'Length of values does not match length of '\u001b[0m \u001b[0;34m'index'\u001b[0m\u001b[0;34m)\u001b[0m\u001b[0;34m\u001b[0m\u001b[0;34m\u001b[0m\u001b[0m\n\u001b[0m\u001b[1;32m   4002\u001b[0m \u001b[0;34m\u001b[0m\u001b[0m\n\u001b[1;32m   4003\u001b[0m     \u001b[0;32mif\u001b[0m \u001b[0misinstance\u001b[0m\u001b[0;34m(\u001b[0m\u001b[0mdata\u001b[0m\u001b[0;34m,\u001b[0m \u001b[0mABCIndexClass\u001b[0m\u001b[0;34m)\u001b[0m \u001b[0;32mand\u001b[0m \u001b[0;32mnot\u001b[0m \u001b[0mcopy\u001b[0m\u001b[0;34m:\u001b[0m\u001b[0;34m\u001b[0m\u001b[0;34m\u001b[0m\u001b[0m\n",
      "\u001b[0;31mValueError\u001b[0m: Length of values does not match length of index"
     ]
    }
   ],
   "source": [
    "testDF = pd.read_csv(\"./data/only_fake.csv\")\n",
    "for i, col in enumerate([\"toxic\", \"severe_toxic\", \"obscene\", \"threat\", \"insult\", \"identity_hate\"]):\n",
    "    testDF[col] = myPreds[:, i]"
   ]
  },
  {
   "cell_type": "code",
   "execution_count": null,
   "metadata": {},
   "outputs": [],
   "source": []
  }
 ],
 "metadata": {
  "kernelspec": {
   "display_name": "Python 3",
   "language": "python",
   "name": "python3"
  },
  "language_info": {
   "codemirror_mode": {
    "name": "ipython",
    "version": 3
   },
   "file_extension": ".py",
   "mimetype": "text/x-python",
   "name": "python",
   "nbconvert_exporter": "python",
   "pygments_lexer": "ipython3",
   "version": "3.7.1"
  }
 },
 "nbformat": 4,
 "nbformat_minor": 2
}
