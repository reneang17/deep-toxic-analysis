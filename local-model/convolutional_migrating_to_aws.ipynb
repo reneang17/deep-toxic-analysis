{
 "cells": [
  {
   "cell_type": "markdown",
   "metadata": {},
   "source": [
    "## Migration to AWS\n",
    "\n",
    "The idea of this notebook is using torchtext on a manner that is compatible the migration to AWS. The following approach aims to \n",
    "avoid having to rely on the installation of torchtex, and actualizations of spicy on the network. "
   ]
  },
  {
   "cell_type": "code",
   "execution_count": 449,
   "metadata": {},
   "outputs": [],
   "source": [
    "\n",
    "%matplotlib inline\n",
    "import numpy as np \n",
    "import pandas as pd \n",
    "import torch\n",
    "import torchtext\n",
    "from torchtext import data\n",
    "import spacy\n",
    "import os\n",
    "import re\n",
    "\n",
    "spacy.load('en')\n",
    "_stopwords = spacy.lang.en.stop_words.STOP_WORDS\n",
    "\n",
    "os.environ['OMP_NUM_THREADS'] = '4'\n",
    "\n",
    "\n",
    "SEED = 1234\n",
    "\n",
    "torch.manual_seed(SEED)\n",
    "torch.backends.cudnn.deterministic = True\n",
    "\n",
    "def generate_bigrams(x):\n",
    "    n_grams = set(zip(*[x[i:] for i in range(2)]))\n",
    "    for n_gram in n_grams:\n",
    "        x.append(' '.join(n_gram))\n",
    "    return x\n",
    "\n",
    "TEXT = data.Field(lower=True,include_lengths=False,tokenize='spacy')\n",
    "\n",
    "LABEL = data.Field(sequential=False, \n",
    "                         use_vocab=False, \n",
    "                         pad_token=None, \n",
    "                            unk_token=None, dtype = torch.float)\n",
    "\n",
    "\n",
    "dataFields = {\"comment_text\": (\"comment_text\", TEXT), \n",
    "              'toxic': (\"toxic\", LABEL), \n",
    "              'severe_toxic': (\"severe_toxic\", LABEL),\n",
    "              'threat': (\"threat\", LABEL), \n",
    "              'obscene': (\"obscene\", LABEL),\n",
    "              'insult': (\"insult\", LABEL), \n",
    "              'identity_hate': (\"identity_hate\", LABEL)}\n",
    "\n",
    "dataset= data.TabularDataset(path='./data/train.json', \n",
    "                                            format='json',\n",
    "                                            fields=dataFields, \n",
    "                                            skip_header=True)"
   ]
  },
  {
   "cell_type": "code",
   "execution_count": 450,
   "metadata": {},
   "outputs": [],
   "source": [
    "import random\n",
    "SEED = 3\n",
    "#train, unimportant = dataset.split(split_ratio=0.5,random_state = random.seed(SEED)) \n",
    "\n",
    "train_data, val_data = dataset.split(split_ratio=0.9,random_state = random.seed(SEED))"
   ]
  },
  {
   "cell_type": "code",
   "execution_count": 451,
   "metadata": {},
   "outputs": [],
   "source": [
    "MAX_VOCAB_SIZE = 20_000\n",
    "\n",
    "TEXT.build_vocab(train_data, \n",
    "                 max_size = MAX_VOCAB_SIZE, \n",
    "                 vectors = \"glove.6B.100d\", \n",
    "                 unk_init = torch.Tensor.normal_)"
   ]
  },
  {
   "cell_type": "code",
   "execution_count": 452,
   "metadata": {},
   "outputs": [],
   "source": [
    "import pickle\n",
    "\n",
    "pickle.dump(TEXT, open('./custom_embeddings/train_data_field', 'wb'))"
   ]
  },
  {
   "cell_type": "code",
   "execution_count": 453,
   "metadata": {},
   "outputs": [
    {
     "data": {
      "text/plain": [
       "<torchtext.vocab.Vocab at 0x1a61a9198>"
      ]
     },
     "execution_count": 453,
     "metadata": {},
     "output_type": "execute_result"
    }
   ],
   "source": [
    "TEXT.vocab"
   ]
  },
  {
   "cell_type": "code",
   "execution_count": 454,
   "metadata": {},
   "outputs": [],
   "source": [
    "BATCH_SIZE = 256\n",
    "\n",
    "device = torch.device('cuda' if torch.cuda.is_available() else 'cpu')\n",
    "\n",
    "train_iterator, valid_iterator = data.BucketIterator.splits(\n",
    "    (train_data, val_data), \n",
    "    batch_size = BATCH_SIZE,\n",
    "    sort_key=lambda x: len(x.comment_text),\n",
    "    sort_within_batch = True,\n",
    "    device = device)"
   ]
  },
  {
   "cell_type": "code",
   "execution_count": 455,
   "metadata": {},
   "outputs": [],
   "source": [
    "#yFields = ['toxic','severe_toxic','obscene','threat','insult','identity_hate']\n",
    "#iaux=0\n",
    "#for batch in valid_iterator:\n",
    "#    iaux+=1\n",
    "#    aux = batch\n",
    "#    aux2= torch.stack([getattr(batch, y) for y in yFields])\n",
    "#    if iaux==1: break"
   ]
  },
  {
   "cell_type": "code",
   "execution_count": 456,
   "metadata": {},
   "outputs": [],
   "source": [
    "#torch.transpose( torch.stack([getattr(aux, y) for y in yFields]),0,1).size()"
   ]
  },
  {
   "cell_type": "code",
   "execution_count": 457,
   "metadata": {},
   "outputs": [],
   "source": [
    "#aux.comment_text.size()"
   ]
  },
  {
   "cell_type": "code",
   "execution_count": 458,
   "metadata": {},
   "outputs": [],
   "source": [
    "#pd.DataFrame(train_list).to_json('./data/try.json', orient='records', lines=True)"
   ]
  },
  {
   "cell_type": "markdown",
   "metadata": {},
   "source": [
    "# Translating to data loader"
   ]
  },
  {
   "cell_type": "code",
   "execution_count": 469,
   "metadata": {},
   "outputs": [],
   "source": [
    "train_iterator, valid_iterator = data.BucketIterator.splits(\n",
    "    (train_data, val_data), \n",
    "    batch_size = BATCH_SIZE,\n",
    "    sort_key=lambda x: len(x.comment_text),\n",
    "    sort_within_batch = True,\n",
    "#    sort=True,\n",
    "    device = device)\n",
    "\n",
    "import json\n",
    "\n",
    "train_text_list = []\n",
    "train_labels_list = []\n",
    "yFields = ['toxic','severe_toxic','obscene','threat','insult','identity_hate']\n",
    "\n",
    "for batch in train_iterator:\n",
    "    \n",
    "    train_text_list.append(batch.comment_text.tolist())\n",
    "    \n",
    "    lbs = torch.transpose(torch.stack([getattr(batch, y) for y in yFields]),0,1).tolist()\n",
    "    train_labels_list.append(lbs)\n",
    "    \n",
    "with open('./data/train_text_list.json', 'w') as filehandle:\n",
    "    json.dump(train_text_list, filehandle)\n",
    "    \n",
    "with open('./data/train_labels_list.json', 'w') as filehandle:\n",
    "    json.dump(train_labels_list, filehandle)\n"
   ]
  },
  {
   "cell_type": "code",
   "execution_count": 470,
   "metadata": {},
   "outputs": [],
   "source": [
    "# open output file for reading\n",
    "with open('./data/train_text_list.json', 'r') as filehandle:\n",
    "    read_train_text = json.load(filehandle)\n",
    "    \n",
    "with open('./data/train_labels_list.json', 'r') as filehandle:\n",
    "    read_train_labels = json.load(filehandle)"
   ]
  },
  {
   "cell_type": "code",
   "execution_count": 471,
   "metadata": {},
   "outputs": [
    {
     "name": "stdout",
     "output_type": "stream",
     "text": [
      "506\n"
     ]
    }
   ],
   "source": [
    "for i in range(len(read_train_text)):\n",
    "    if np.asarray(read_train_text[i]).shape[1]!=256 : print(i)\n",
    "#aux.comment_text.tolist()"
   ]
  },
  {
   "cell_type": "code",
   "execution_count": 472,
   "metadata": {},
   "outputs": [
    {
     "data": {
      "text/plain": [
       "(27, 256)"
      ]
     },
     "execution_count": 472,
     "metadata": {},
     "output_type": "execute_result"
    }
   ],
   "source": [
    "np.asarray(read_train_text[560]).shape"
   ]
  },
  {
   "cell_type": "code",
   "execution_count": 473,
   "metadata": {},
   "outputs": [
    {
     "data": {
      "text/plain": [
       "torch.Size([27, 256])"
      ]
     },
     "execution_count": 473,
     "metadata": {},
     "output_type": "execute_result"
    }
   ],
   "source": [
    "torch.tensor(read_train_text[560]).size()"
   ]
  },
  {
   "cell_type": "code",
   "execution_count": 475,
   "metadata": {},
   "outputs": [],
   "source": [
    "def _get_train_data_loader(training_dir='./data/' ):\n",
    "    print(\"Get train data loader.\")\n",
    "\n",
    "    with open(training_dir+'train_text_list.json', 'r') as filehandle:\n",
    "        train_X = json.load(filehandle)\n",
    "    \n",
    "    with open(training_dir+'train_labels_list.json', 'r') as filehandle:\n",
    "        train_y = json.load(filehandle)\n",
    "\n",
    "    train_y = [torch.tensor(t) for t in train_y ] # .float().squeeze()\n",
    "    train_X = [torch.tensor(t) for t in train_X ] #.long()\n",
    "\n",
    "    for X,y in zip(train_X,train_y):\n",
    "        yield (X,y)\n",
    "    #train_ds = torch.utils.data.TensorDataset(train_X, train_y)\n",
    "\n",
    "    #return torch.utils.data.DataLoader(train_ds, batch_size=batch_size)"
   ]
  },
  {
   "cell_type": "markdown",
   "metadata": {},
   "source": [
    "## Build model"
   ]
  },
  {
   "cell_type": "code",
   "execution_count": 476,
   "metadata": {},
   "outputs": [],
   "source": [
    "import torch.nn as nn\n",
    "from torch.functional import F\n",
    "class CNN(nn.Module):\n",
    "    def __init__(self, vocab_size, embedding_dim, n_filters, filter_sizes, output_dim, \n",
    "                 dropout, pad_idx):\n",
    "        \n",
    "        super().__init__()\n",
    "        \n",
    "        self.embedding = nn.Embedding(vocab_size, embedding_dim)\n",
    "        \n",
    "        self.convs = nn.ModuleList([\n",
    "                                    nn.Conv2d(in_channels = 1, \n",
    "                                              out_channels = n_filters, \n",
    "                                              kernel_size = (fs, embedding_dim)) \n",
    "                                    for fs in filter_sizes\n",
    "                                    ])\n",
    "        \n",
    "        self.fc = nn.Linear(len(filter_sizes) * n_filters, output_dim)\n",
    "        \n",
    "        self.dropout = nn.Dropout(dropout)\n",
    "        \n",
    "    def forward(self, text):\n",
    "        \n",
    "        #text = [sent len, batch size]\n",
    "        \n",
    "        text = text.permute(1, 0)\n",
    "                \n",
    "        #text = [batch size, sent len]\n",
    "        \n",
    "        embedded = self.embedding(text)\n",
    "                \n",
    "        #embedded = [batch size, sent len, emb dim]\n",
    "        \n",
    "        embedded = embedded.unsqueeze(1)\n",
    "        \n",
    "        #embedded = [batch size, 1, sent len, emb dim]\n",
    "        \n",
    "        conved = [F.relu(conv(embedded)).squeeze(3) for conv in self.convs]\n",
    "            \n",
    "        #conv_n = [batch size, n_filters, sent len - filter_sizes[n]]\n",
    "        \n",
    "        pooled = [F.max_pool1d(conv, conv.shape[2]).squeeze(2) for conv in conved]\n",
    "        \n",
    "        #pooled_n = [batch size, n_filters]\n",
    "        \n",
    "        cat = self.dropout(torch.cat(pooled, dim = 1))\n",
    "\n",
    "        #cat = [batch size, n_filters * len(filter_sizes)]\n",
    "            \n",
    "        return self.fc(cat)\n"
   ]
  },
  {
   "cell_type": "code",
   "execution_count": 477,
   "metadata": {},
   "outputs": [],
   "source": [
    "INPUT_DIM = len(TEXT.vocab) # 20002\n",
    "EMBEDDING_DIM = 100\n",
    "N_FILTERS = 100\n",
    "FILTER_SIZES = [2,3,4]\n",
    "OUTPUT_DIM = 6\n",
    "DROPOUT = 0.5\n",
    "PAD_IDX = TEXT.vocab.stoi[TEXT.pad_token] # 1\n",
    "\n",
    "model = CNN(INPUT_DIM, EMBEDDING_DIM, N_FILTERS, \n",
    "            FILTER_SIZES ,OUTPUT_DIM, DROPOUT, PAD_IDX)"
   ]
  },
  {
   "cell_type": "code",
   "execution_count": 478,
   "metadata": {},
   "outputs": [
    {
     "name": "stdout",
     "output_type": "stream",
     "text": [
      "The model has 2,092,306 trainable parameters\n"
     ]
    }
   ],
   "source": [
    "\n",
    "def count_parameters(model):\n",
    "    return sum(p.numel() for p in model.parameters() if p.requires_grad)\n",
    "\n",
    "print(f'The model has {count_parameters(model):,} trainable parameters')"
   ]
  },
  {
   "cell_type": "code",
   "execution_count": 479,
   "metadata": {},
   "outputs": [
    {
     "name": "stdout",
     "output_type": "stream",
     "text": [
      "torch.Size([103, 256])\n",
      "============================================================================\n",
      "                      Kernel Shape        Output Shape   Params Mult-Adds\n",
      "Layer                                                                    \n",
      "0_embedding           [100, 20002]     [256, 103, 100]  2.0002M   2.0002M\n",
      "1_convs.Conv2d_0  [1, 100, 2, 100]  [256, 100, 102, 1]    20.1k     2.04M\n",
      "2_convs.Conv2d_1  [1, 100, 3, 100]  [256, 100, 101, 1]    30.1k     3.03M\n",
      "3_convs.Conv2d_2  [1, 100, 4, 100]  [256, 100, 100, 1]    40.1k      4.0M\n",
      "4_dropout                        -          [256, 300]        -         -\n",
      "5_fc                      [300, 6]            [256, 6]   1.806k      1.8k\n",
      "----------------------------------------------------------------------------\n",
      "                         Totals\n",
      "Total params          2.092306M\n",
      "Trainable params      2.092306M\n",
      "Non-trainable params        0.0\n",
      "Mult-Adds               11.072M\n",
      "============================================================================\n"
     ]
    },
    {
     "data": {
      "text/html": [
       "<div>\n",
       "<style scoped>\n",
       "    .dataframe tbody tr th:only-of-type {\n",
       "        vertical-align: middle;\n",
       "    }\n",
       "\n",
       "    .dataframe tbody tr th {\n",
       "        vertical-align: top;\n",
       "    }\n",
       "\n",
       "    .dataframe thead th {\n",
       "        text-align: right;\n",
       "    }\n",
       "</style>\n",
       "<table border=\"1\" class=\"dataframe\">\n",
       "  <thead>\n",
       "    <tr style=\"text-align: right;\">\n",
       "      <th></th>\n",
       "      <th>Kernel Shape</th>\n",
       "      <th>Output Shape</th>\n",
       "      <th>Params</th>\n",
       "      <th>Mult-Adds</th>\n",
       "    </tr>\n",
       "    <tr>\n",
       "      <th>Layer</th>\n",
       "      <th></th>\n",
       "      <th></th>\n",
       "      <th></th>\n",
       "      <th></th>\n",
       "    </tr>\n",
       "  </thead>\n",
       "  <tbody>\n",
       "    <tr>\n",
       "      <th>0_embedding</th>\n",
       "      <td>[100, 20002]</td>\n",
       "      <td>[256, 103, 100]</td>\n",
       "      <td>2000200.0</td>\n",
       "      <td>2000200.0</td>\n",
       "    </tr>\n",
       "    <tr>\n",
       "      <th>1_convs.Conv2d_0</th>\n",
       "      <td>[1, 100, 2, 100]</td>\n",
       "      <td>[256, 100, 102, 1]</td>\n",
       "      <td>20100.0</td>\n",
       "      <td>2040000.0</td>\n",
       "    </tr>\n",
       "    <tr>\n",
       "      <th>2_convs.Conv2d_1</th>\n",
       "      <td>[1, 100, 3, 100]</td>\n",
       "      <td>[256, 100, 101, 1]</td>\n",
       "      <td>30100.0</td>\n",
       "      <td>3030000.0</td>\n",
       "    </tr>\n",
       "    <tr>\n",
       "      <th>3_convs.Conv2d_2</th>\n",
       "      <td>[1, 100, 4, 100]</td>\n",
       "      <td>[256, 100, 100, 1]</td>\n",
       "      <td>40100.0</td>\n",
       "      <td>4000000.0</td>\n",
       "    </tr>\n",
       "    <tr>\n",
       "      <th>4_dropout</th>\n",
       "      <td>-</td>\n",
       "      <td>[256, 300]</td>\n",
       "      <td>NaN</td>\n",
       "      <td>NaN</td>\n",
       "    </tr>\n",
       "    <tr>\n",
       "      <th>5_fc</th>\n",
       "      <td>[300, 6]</td>\n",
       "      <td>[256, 6]</td>\n",
       "      <td>1806.0</td>\n",
       "      <td>1800.0</td>\n",
       "    </tr>\n",
       "  </tbody>\n",
       "</table>\n",
       "</div>"
      ],
      "text/plain": [
       "                      Kernel Shape        Output Shape     Params  Mult-Adds\n",
       "Layer                                                                       \n",
       "0_embedding           [100, 20002]     [256, 103, 100]  2000200.0  2000200.0\n",
       "1_convs.Conv2d_0  [1, 100, 2, 100]  [256, 100, 102, 1]    20100.0  2040000.0\n",
       "2_convs.Conv2d_1  [1, 100, 3, 100]  [256, 100, 101, 1]    30100.0  3030000.0\n",
       "3_convs.Conv2d_2  [1, 100, 4, 100]  [256, 100, 100, 1]    40100.0  4000000.0\n",
       "4_dropout                        -          [256, 300]        NaN        NaN\n",
       "5_fc                      [300, 6]            [256, 6]     1806.0     1800.0"
      ]
     },
     "execution_count": 479,
     "metadata": {},
     "output_type": "execute_result"
    }
   ],
   "source": [
    "for i in train_iterator:\n",
    "    aux=i\n",
    "    break\n",
    "\n",
    "from torchsummaryX import summary\n",
    "print(aux.comment_text.size())\n",
    "summary(model, aux.comment_text )"
   ]
  },
  {
   "cell_type": "code",
   "execution_count": 488,
   "metadata": {},
   "outputs": [
    {
     "name": "stdout",
     "output_type": "stream",
     "text": [
      "torch.Size([20002, 100])\n"
     ]
    }
   ],
   "source": [
    "pretrained_embeddings = TEXT.vocab.vectors\n",
    "\n",
    "print(pretrained_embeddings.shape)"
   ]
  },
  {
   "cell_type": "code",
   "execution_count": 489,
   "metadata": {},
   "outputs": [
    {
     "data": {
      "text/plain": [
       "tensor([[-0.1117, -0.4966,  0.1631,  ...,  1.2647, -0.2753, -0.1325],\n",
       "        [-0.8555, -0.7208,  1.3755,  ...,  0.0825, -1.1314,  0.3997],\n",
       "        [-0.0382, -0.2449,  0.7281,  ..., -0.1459,  0.8278,  0.2706],\n",
       "        ...,\n",
       "        [-1.0361, -0.3528, -0.4494,  ..., -0.3391, -0.0521, -0.2626],\n",
       "        [-0.8892,  0.3043,  0.9224,  ..., -0.2417, -0.1520,  0.0683],\n",
       "        [ 0.2916,  0.0795, -0.0095,  ...,  0.3854,  0.3772, -1.5852]])"
      ]
     },
     "execution_count": 489,
     "metadata": {},
     "output_type": "execute_result"
    }
   ],
   "source": [
    "model.embedding.weight.data.copy_(pretrained_embeddings)"
   ]
  },
  {
   "cell_type": "code",
   "execution_count": 490,
   "metadata": {},
   "outputs": [
    {
     "name": "stdout",
     "output_type": "stream",
     "text": [
      "tensor([[ 0.0000,  0.0000,  0.0000,  ...,  0.0000,  0.0000,  0.0000],\n",
      "        [ 0.0000,  0.0000,  0.0000,  ...,  0.0000,  0.0000,  0.0000],\n",
      "        [-0.0382, -0.2449,  0.7281,  ..., -0.1459,  0.8278,  0.2706],\n",
      "        ...,\n",
      "        [-1.0361, -0.3528, -0.4494,  ..., -0.3391, -0.0521, -0.2626],\n",
      "        [-0.8892,  0.3043,  0.9224,  ..., -0.2417, -0.1520,  0.0683],\n",
      "        [ 0.2916,  0.0795, -0.0095,  ...,  0.3854,  0.3772, -1.5852]])\n"
     ]
    }
   ],
   "source": [
    "UNK_IDX = TEXT.vocab.stoi[TEXT.unk_token]\n",
    "\n",
    "model.embedding.weight.data[UNK_IDX] = torch.zeros(EMBEDDING_DIM)\n",
    "model.embedding.weight.data[PAD_IDX] = torch.zeros(EMBEDDING_DIM)\n",
    "\n",
    "print(model.embedding.weight.data)"
   ]
  },
  {
   "cell_type": "code",
   "execution_count": 491,
   "metadata": {},
   "outputs": [
    {
     "name": "stdout",
     "output_type": "stream",
     "text": [
      "tensor([[ 0.0000,  0.0000,  0.0000,  ...,  0.0000,  0.0000,  0.0000],\n",
      "        [ 0.0000,  0.0000,  0.0000,  ...,  0.0000,  0.0000,  0.0000],\n",
      "        [-0.0382, -0.2449,  0.7281,  ..., -0.1459,  0.8278,  0.2706],\n",
      "        ...,\n",
      "        [-1.0361, -0.3528, -0.4494,  ..., -0.3391, -0.0521, -0.2626],\n",
      "        [-0.8892,  0.3043,  0.9224,  ..., -0.2417, -0.1520,  0.0683],\n",
      "        [ 0.2916,  0.0795, -0.0095,  ...,  0.3854,  0.3772, -1.5852]])\n"
     ]
    }
   ],
   "source": [
    "print(model.embedding.weight.data)"
   ]
  },
  {
   "cell_type": "markdown",
   "metadata": {},
   "source": [
    "## Train our model"
   ]
  },
  {
   "cell_type": "code",
   "execution_count": 492,
   "metadata": {},
   "outputs": [],
   "source": [
    "import torch.optim as optim\n",
    "\n",
    "optimizer = optim.Adam(model.parameters())"
   ]
  },
  {
   "cell_type": "code",
   "execution_count": 493,
   "metadata": {},
   "outputs": [],
   "source": [
    "criterion = nn.BCEWithLogitsLoss()\n",
    "\n",
    "model = model.to(device)\n",
    "criterion = criterion.to(device)"
   ]
  },
  {
   "cell_type": "code",
   "execution_count": 494,
   "metadata": {},
   "outputs": [],
   "source": [
    "import numpy\n",
    "from sklearn.metrics import roc_auc_score\n",
    "def roc_auc(preds, y):\n",
    "    \"\"\"\n",
    "    Returns accuracy per batch, i.e. if you get 8/10 right, this returns 0.8, NOT 8\n",
    "    \"\"\"\n",
    "    #round predictions to the closest integer\n",
    "    #rounded_preds = torch.sigmoid(preds)\n",
    "    \n",
    "    #assert preds.size()==y.size()\n",
    "    \n",
    "    #reds=rounded_preds.detach().numpy()\n",
    "\n",
    "    #y=y.numpy()\n",
    "    \n",
    "    global var_y\n",
    "    global var_preds\n",
    "    var_y = y\n",
    "    var_preds = preds\n",
    "\n",
    "    acc = roc_auc_score(y, preds)\n",
    "\n",
    "    \n",
    "    return acc"
   ]
  },
  {
   "cell_type": "code",
   "execution_count": 507,
   "metadata": {},
   "outputs": [],
   "source": [
    "\n",
    "\n",
    "def train(model, iterator, optimizer, criterion):\n",
    "    \n",
    "    epoch_loss = 0\n",
    "    epoch_acc = 0\n",
    "    \n",
    "    model.train()\n",
    "    preds_list=[]\n",
    "    labels_list= []\n",
    " \n",
    "    iterations=0\n",
    "    for batch in  iterator:\n",
    "        iterations+=1\n",
    "        \n",
    "        batch_X, batch_y = batch\n",
    "        \n",
    "        optimizer.zero_grad()\n",
    "        \n",
    "        #text = batch_X\n",
    "        \n",
    "        predictions = model(batch_X).squeeze(1)\n",
    "        \n",
    "        #batch_labels=torch.stack([getattr(batch, y) for y in yFields]) #transpose?\n",
    "        #batch_labels = torch.transpose(batch_labels,0,1)\n",
    "        \n",
    "        loss = criterion(predictions, batch_y)\n",
    "        \n",
    "        loss.backward()\n",
    "        \n",
    "        optimizer.step()\n",
    "        \n",
    "        preds_list+=[torch.sigmoid(predictions).detach().numpy()]\n",
    "        labels_list+=[batch_y.numpy()]\n",
    "        \n",
    "        #if i%64==0:\n",
    "        #    epoch_acc += [roc_auc(np.vstack(preds_list), np.vstack(batch_labels))]\n",
    "        #    preds_list=[]\n",
    "        #    labels_list= []\n",
    "            \n",
    "        \n",
    "        epoch_loss += loss.item()\n",
    "        \n",
    "        \n",
    "        \n",
    "    return epoch_loss / iterations, roc_auc(np.vstack(preds_list), np.vstack(labels_list))"
   ]
  },
  {
   "cell_type": "code",
   "execution_count": 508,
   "metadata": {},
   "outputs": [],
   "source": [
    "\n",
    "\n",
    "def evaluate(model, iterator, criterion):\n",
    "    \n",
    "    epoch_loss = 0\n",
    "    epoch_acc = 0\n",
    "    \n",
    "    model.eval()\n",
    "    \n",
    "    preds_list=[]\n",
    "    labels_list= []\n",
    "    epoch_acc=[]\n",
    "    \n",
    "    with torch.no_grad():\n",
    "        iterations = 0\n",
    "        for batch in iterator:\n",
    "            iterations+=1\n",
    "            \n",
    "            batch_X, batch_y = batch\n",
    "            \n",
    "            predictions = model(batch_X).squeeze(1)\n",
    "            \n",
    "            #batch_labels = torch.stack([getattr(batch, y) for y in yFields]) #transpose?\n",
    "            #batch_labels = torch.transpose(batch_labels,0,1)\n",
    "            \n",
    "            loss = criterion(predictions, batch_y)\n",
    "\n",
    "            epoch_loss += loss.item()\n",
    "            \n",
    "            preds_list+=[torch.sigmoid(predictions).detach().numpy()]\n",
    "            labels_list+=[batch_y.numpy()]\n",
    "        \n",
    "            #if i%64==0:\n",
    "            #    epoch_acc += [roc_auc(np.vstack(preds_list), np.vstack(batch_labels))]\n",
    "            #    preds_list=[]\n",
    "            #    labels_list= []\n",
    "        \n",
    "    return epoch_loss / iterations, roc_auc(np.vstack(preds_list), np.vstack(labels_list))\n",
    "\n"
   ]
  },
  {
   "cell_type": "code",
   "execution_count": 509,
   "metadata": {},
   "outputs": [],
   "source": [
    "import time\n",
    "\n",
    "def epoch_time(start_time, end_time):\n",
    "    elapsed_time = end_time - start_time\n",
    "    elapsed_mins = int(elapsed_time / 60)\n",
    "    elapsed_secs = int(elapsed_time - (elapsed_mins * 60))\n",
    "    return elapsed_mins, elapsed_secs"
   ]
  },
  {
   "cell_type": "code",
   "execution_count": 510,
   "metadata": {},
   "outputs": [
    {
     "name": "stdout",
     "output_type": "stream",
     "text": [
      "Get train data loader.\n"
     ]
    },
    {
     "data": {
      "text/plain": [
       "561"
      ]
     },
     "execution_count": 510,
     "metadata": {},
     "output_type": "execute_result"
    }
   ],
   "source": [
    "len(list(_get_train_data_loader()))"
   ]
  },
  {
   "cell_type": "code",
   "execution_count": 511,
   "metadata": {},
   "outputs": [
    {
     "name": "stdout",
     "output_type": "stream",
     "text": [
      "Get train data loader.\n",
      "jaja\n",
      "juju\n",
      "Epoch: 01 | Epoch Time: 2m 48s\n",
      "\tTrain Loss: 0.054 | Train Acc: 96.60%\n",
      "Get train data loader.\n",
      "jaja\n",
      "juju\n",
      "Epoch: 02 | Epoch Time: 2m 51s\n",
      "\tTrain Loss: 0.049 | Train Acc: 97.65%\n",
      "Get train data loader.\n",
      "jaja\n",
      "juju\n",
      "Epoch: 03 | Epoch Time: 2m 47s\n",
      "\tTrain Loss: 0.045 | Train Acc: 98.08%\n",
      "Get train data loader.\n",
      "jaja\n",
      "juju\n",
      "Epoch: 04 | Epoch Time: 4m 58s\n",
      "\tTrain Loss: 0.042 | Train Acc: 98.37%\n"
     ]
    }
   ],
   "source": [
    "model.embedding.weight.requires_grad = True\n",
    "\n",
    "\n",
    "N_EPOCHS = 4\n",
    "\n",
    "best_valid_loss = float('inf')\n",
    "\n",
    "for epoch in range(N_EPOCHS):\n",
    "\n",
    "    start_time = time.time()\n",
    "    \n",
    "    train_loss, train_acc = train(model, _get_train_data_loader(), optimizer, criterion)\n",
    "    print('jaja')\n",
    "#    valid_loss, valid_acc = evaluate(model, valid_iterator, criterion)\n",
    "    print('juju')\n",
    "    end_time = time.time()\n",
    "\n",
    "    epoch_mins, epoch_secs = epoch_time(start_time, end_time)\n",
    "    \n",
    "#    if valid_loss < best_valid_loss:\n",
    "#        best_valid_loss = valid_loss\n",
    "#        torch.save(model.state_dict(), 'tut2-model.pt')\n",
    "    \n",
    "    \n",
    "\n",
    "    \n",
    "    print(f'Epoch: {epoch+1:02} | Epoch Time: {epoch_mins}m {epoch_secs}s')\n",
    "    print(f'\\tTrain Loss: {train_loss:.3f} | Train Acc: {train_acc*100:.2f}%')\n",
    "#    print(f'\\t Val. Loss: {valid_loss:.3f} |  Val. Acc: {valid_acc*100:.2f}%')\n",
    "\n"
   ]
  },
  {
   "cell_type": "code",
   "execution_count": 121,
   "metadata": {},
   "outputs": [],
   "source": [
    "TEXT.vocab.vectors = model.embedding.weight.data"
   ]
  },
  {
   "cell_type": "code",
   "execution_count": 125,
   "metadata": {},
   "outputs": [],
   "source": [
    "import pickle\n",
    "\n",
    "pickle.dump(TEXT, open('./custom_embeddings/train_data_field', 'wb'))"
   ]
  },
  {
   "cell_type": "markdown",
   "metadata": {},
   "source": [
    "## Save word embedding"
   ]
  },
  {
   "cell_type": "code",
   "execution_count": 100,
   "metadata": {},
   "outputs": [],
   "source": [
    "from tqdm import tqdm\n",
    "word_list = [] \n",
    "def write_embeddings(path, embeddings, vocab):\n",
    "    \n",
    "    with open(path, 'w') as f:\n",
    "        for i, embedding in enumerate(tqdm(embeddings)):\n",
    "            word = vocab.itos[i]\n",
    "            #skip words with unicode symbols\n",
    "            if len(word) != len(word.encode()):\n",
    "                continue\n",
    "            word_list.append(word)\n",
    "            vector = ' '.join([str(i) for i in embedding.tolist()])\n",
    "            f.write(f'{word} {vector}\\n')"
   ]
  },
  {
   "cell_type": "code",
   "execution_count": null,
   "metadata": {},
   "outputs": [],
   "source": []
  },
  {
   "cell_type": "code",
   "execution_count": 25,
   "metadata": {},
   "outputs": [
    {
     "name": "stderr",
     "output_type": "stream",
     "text": [
      "100%|██████████| 20002/20002 [00:02<00:00, 8001.79it/s]\n"
     ]
    }
   ],
   "source": [
    "write_embeddings('embeddings_conv.txt', \n",
    "                 model.embedding.weight.data, \n",
    "                 TEXT.vocab)"
   ]
  },
  {
   "cell_type": "code",
   "execution_count": 46,
   "metadata": {},
   "outputs": [
    {
     "data": {
      "text/plain": [
       "19951"
      ]
     },
     "execution_count": 46,
     "metadata": {},
     "output_type": "execute_result"
    }
   ],
   "source": [
    "list_apos = [w for w in word_list if ('\\'' in w) | ('<' in w) | ('>' in w) ]\n",
    "len(word_list) - len(list_apos)\n",
    "#list_apos"
   ]
  },
  {
   "cell_type": "code",
   "execution_count": 84,
   "metadata": {},
   "outputs": [
    {
     "name": "stdout",
     "output_type": "stream",
     "text": [
      "tensor([[-0.1117, -0.4966,  0.1631,  ...,  1.2647, -0.2753, -0.1325],\n",
      "        [-0.8555, -0.7208,  1.3755,  ...,  0.0825, -1.1314,  0.3997],\n",
      "        [-0.0382, -0.2449,  0.7281,  ..., -0.1459,  0.8278,  0.2706],\n",
      "        ...,\n",
      "        [-1.0361, -0.3528, -0.4494,  ..., -0.3391, -0.0521, -0.2626],\n",
      "        [-0.8892,  0.3043,  0.9224,  ..., -0.2417, -0.1520,  0.0683],\n",
      "        [ 0.2916,  0.0795, -0.0095,  ...,  0.3854,  0.3772, -1.5852]])\n"
     ]
    }
   ],
   "source": [
    "print(model.embedding.weight.data)"
   ]
  },
  {
   "cell_type": "code",
   "execution_count": 26,
   "metadata": {},
   "outputs": [],
   "source": [
    "# FREEZE_FOR = 4\n",
    "\n",
    "\n",
    "#best_valid_loss = float('inf')\n",
    "\n",
    "#freeze embeddings\n",
    "#model.embedding.weight.requires_grad = unfrozen = False\n",
    "\n",
    "#for epoch in range(N_EPOCHS):\n",
    "\n",
    "#    start_time = time.time()\n",
    "    \n",
    "#    train_loss, train_acc = train(model, train_iterator, optimizer, criterion)\n",
    "#    print('jaja')\n",
    "#    valid_loss, valid_acc = evaluate(model, valid_iterator, criterion)\n",
    "#    print('juju')\n",
    "#    end_time = time.time()\n",
    "\n",
    "#    epoch_mins, epoch_secs = epoch_time(start_time, end_time)\n",
    "    \n",
    "#    if valid_loss < best_valid_loss:\n",
    "#        best_valid_loss = valid_loss\n",
    "#        torch.save(model.state_dict(), 'tut2-model.pt')\n",
    "#    else:\n",
    "#        #unfreeze embeddings\n",
    "#        model.embedding.weight.requires_grad = unfrozen = True\n",
    "\n",
    "    \n",
    "#    print(f'Epoch: {epoch+1:02} | Epoch Time: {epoch_mins}m {epoch_secs}s')\n",
    "#    print(f'\\tTrain Loss: {train_loss:.3f} | Train Acc: {train_acc*100:.2f}%')\n",
    "#    print(f'\\t Val. Loss: {valid_loss:.3f} |  Val. Acc: {valid_acc*100:.2f}%')"
   ]
  },
  {
   "cell_type": "markdown",
   "metadata": {},
   "source": [
    "## Testing "
   ]
  },
  {
   "cell_type": "code",
   "execution_count": 27,
   "metadata": {},
   "outputs": [],
   "source": [
    "from sklearn import metrics\n",
    "\n",
    "#roc_auc(np.vstack(preds_list), np.vstack(labels_list))"
   ]
  },
  {
   "cell_type": "code",
   "execution_count": 28,
   "metadata": {},
   "outputs": [],
   "source": [
    "dataFields = {\"comment_text\": (\"comment_text\", TEXT)}\n",
    "\n",
    "testDataset= data.TabularDataset(path='./data/test.json', \n",
    "                                            format='json',\n",
    "                                            fields=dataFields, \n",
    "                                            skip_header=False)"
   ]
  },
  {
   "cell_type": "code",
   "execution_count": 29,
   "metadata": {},
   "outputs": [
    {
     "data": {
      "text/plain": [
       "153164"
      ]
     },
     "execution_count": 29,
     "metadata": {},
     "output_type": "execute_result"
    }
   ],
   "source": [
    "len(testDataset)"
   ]
  },
  {
   "cell_type": "code",
   "execution_count": 30,
   "metadata": {},
   "outputs": [],
   "source": [
    "test_iterator = torchtext.data.Iterator(testDataset, batch_size=64, device=device, \n",
    "                                     sort=False, sort_within_batch=False, \n",
    "                                     repeat=False,shuffle=False)"
   ]
  },
  {
   "cell_type": "code",
   "execution_count": 31,
   "metadata": {},
   "outputs": [],
   "source": [
    "myPreds=[]\n",
    "with torch.no_grad():\n",
    "    model.eval()\n",
    "    for batch in test_iterator:\n",
    "\n",
    "        torch.cuda.empty_cache()\n",
    "    \n",
    "        text = batch.comment_text    \n",
    "        predictions = model(text).squeeze(1)         \n",
    "        myPreds+=[torch.sigmoid(predictions).detach().numpy()]\n",
    "    \n",
    "        torch.cuda.empty_cache()\n",
    "myPreds = np.vstack(myPreds)"
   ]
  },
  {
   "cell_type": "code",
   "execution_count": 32,
   "metadata": {},
   "outputs": [],
   "source": [
    "testDF= pd.read_csv(\"./data/test.csv\")\n",
    "for i, col in enumerate([\"toxic\", \"severe_toxic\", \"obscene\", \"threat\", \"insult\", \"identity_hate\"]):\n",
    "    testDF[col] = myPreds[:, i]"
   ]
  },
  {
   "cell_type": "code",
   "execution_count": 33,
   "metadata": {},
   "outputs": [
    {
     "data": {
      "text/plain": [
       "(153164, 6)"
      ]
     },
     "execution_count": 33,
     "metadata": {},
     "output_type": "execute_result"
    }
   ],
   "source": [
    "myPreds.shape"
   ]
  },
  {
   "cell_type": "code",
   "execution_count": 34,
   "metadata": {},
   "outputs": [],
   "source": [
    "testDF.drop(\"comment_text\", axis=1).to_csv(\"submission_convolutional.csv\", index=False)"
   ]
  },
  {
   "cell_type": "code",
   "execution_count": null,
   "metadata": {},
   "outputs": [],
   "source": []
  },
  {
   "cell_type": "code",
   "execution_count": null,
   "metadata": {},
   "outputs": [],
   "source": []
  },
  {
   "cell_type": "code",
   "execution_count": null,
   "metadata": {},
   "outputs": [],
   "source": []
  },
  {
   "cell_type": "code",
   "execution_count": null,
   "metadata": {},
   "outputs": [],
   "source": []
  }
 ],
 "metadata": {
  "kernelspec": {
   "display_name": "Python 3",
   "language": "python",
   "name": "python3"
  },
  "language_info": {
   "codemirror_mode": {
    "name": "ipython",
    "version": 3
   },
   "file_extension": ".py",
   "mimetype": "text/x-python",
   "name": "python",
   "nbconvert_exporter": "python",
   "pygments_lexer": "ipython3",
   "version": "3.7.1"
  }
 },
 "nbformat": 4,
 "nbformat_minor": 2
}
