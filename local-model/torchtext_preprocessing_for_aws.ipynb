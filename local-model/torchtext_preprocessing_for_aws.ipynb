{
 "cells": [
  {
   "cell_type": "markdown",
   "metadata": {},
   "source": [
    "## Migration to AWS\n",
    "\n",
    "The idea of this notebook is using torchtext on a manner that is compatible the migration to AWS. The following approach aims to \n",
    "avoid having to rely on the installation of torchtex, and actualizations of spicy on the network. "
   ]
  },
  {
   "cell_type": "code",
   "execution_count": 1,
   "metadata": {},
   "outputs": [],
   "source": [
    "\n",
    "%matplotlib inline\n",
    "import numpy as np \n",
    "import pandas as pd \n",
    "import torch\n",
    "import torchtext\n",
    "from torchtext import data\n",
    "import spacy\n",
    "import os\n",
    "import re\n",
    "\n",
    "spacy.load('en')\n",
    "_stopwords = spacy.lang.en.stop_words.STOP_WORDS\n",
    "\n",
    "os.environ['OMP_NUM_THREADS'] = '4'\n",
    "\n",
    "\n",
    "SEED = 1234\n",
    "\n",
    "torch.manual_seed(SEED)\n",
    "torch.backends.cudnn.deterministic = True\n",
    "\n",
    "\n",
    "TEXT = data.Field(lower=True,include_lengths=False,tokenize='spacy')\n",
    "\n",
    "LABEL = data.Field(sequential=False, \n",
    "                         use_vocab=False, \n",
    "                         pad_token=None, \n",
    "                            unk_token=None, dtype = torch.float)\n",
    "\n",
    "\n",
    "dataFields = {\"comment_text\": (\"comment_text\", TEXT), \n",
    "              'toxic': (\"toxic\", LABEL), \n",
    "              'severe_toxic': (\"severe_toxic\", LABEL),\n",
    "              'threat': (\"threat\", LABEL), \n",
    "              'obscene': (\"obscene\", LABEL),\n",
    "              'insult': (\"insult\", LABEL), \n",
    "              'identity_hate': (\"identity_hate\", LABEL)}\n",
    "\n",
    "dataset= data.TabularDataset(path='./data/train.json', \n",
    "                                            format='json',\n",
    "                                            fields=dataFields, \n",
    "                                            skip_header=True)"
   ]
  },
  {
   "cell_type": "code",
   "execution_count": 2,
   "metadata": {},
   "outputs": [],
   "source": [
    "import random\n",
    "SEED = 3\n",
    "#train, unimportant = dataset.split(split_ratio=0.5,random_state = random.seed(SEED)) \n",
    "\n",
    "train_data, val_data = dataset.split(split_ratio=0.9,random_state = random.seed(SEED))"
   ]
  },
  {
   "cell_type": "code",
   "execution_count": 3,
   "metadata": {},
   "outputs": [],
   "source": [
    "MAX_VOCAB_SIZE = 20_000\n",
    "\n",
    "TEXT.build_vocab(train_data, \n",
    "                 max_size = MAX_VOCAB_SIZE, \n",
    "                 vectors = \"glove.6B.100d\", \n",
    "                 unk_init = torch.Tensor.normal_)"
   ]
  },
  {
   "cell_type": "code",
   "execution_count": 4,
   "metadata": {},
   "outputs": [],
   "source": [
    "import pickle\n",
    "\n",
    "pickle.dump(TEXT, open('./custom_embeddings/train_data_field', 'wb'))"
   ]
  },
  {
   "cell_type": "code",
   "execution_count": 5,
   "metadata": {},
   "outputs": [
    {
     "data": {
      "text/plain": [
       "<torchtext.vocab.Vocab at 0x1505f7e80>"
      ]
     },
     "execution_count": 5,
     "metadata": {},
     "output_type": "execute_result"
    }
   ],
   "source": [
    "TEXT.vocab"
   ]
  },
  {
   "cell_type": "code",
   "execution_count": 6,
   "metadata": {},
   "outputs": [],
   "source": [
    "BATCH_SIZE = 256\n",
    "\n",
    "device = torch.device('cuda' if torch.cuda.is_available() else 'cpu')\n",
    "\n",
    "train_iterator, valid_iterator = data.BucketIterator.splits(\n",
    "    (train_data, val_data), \n",
    "    batch_size = BATCH_SIZE,\n",
    "    sort_key=lambda x: len(x.comment_text),\n",
    "    sort_within_batch = True,\n",
    "    device = device)"
   ]
  },
  {
   "cell_type": "markdown",
   "metadata": {},
   "source": [
    "# Translating to data loader"
   ]
  },
  {
   "cell_type": "code",
   "execution_count": 19,
   "metadata": {},
   "outputs": [],
   "source": [
    "import json"
   ]
  },
  {
   "cell_type": "code",
   "execution_count": 84,
   "metadata": {},
   "outputs": [],
   "source": [
    "def save_iterator(iterator, data_prefix, data_dir = './data', with_labels = True):\n",
    "\n",
    "    yFields = ['toxic','severe_toxic',\n",
    "               'obscene','threat','insult',\n",
    "               'identity_hate']\n",
    " \n",
    "    if with_labels:\n",
    "        text_list =[]; labels_list=[] \n",
    "        for batch in iterator:\n",
    "            text_list.append(batch.comment_text.tolist())\n",
    "            labels = torch.stack([getattr(batch, y) for y in yFields])\n",
    "            labels = torch.transpose(labels,0,1).tolist()\n",
    "            labels_list.append(labels)\n",
    "    \n",
    "        with open(os.path.join(data_dir,\n",
    "            data_prefix+'_labels_list.json'), 'w') as f:\n",
    "            json.dump(labels_list, f)\n",
    "        with open(os.path.join(data_dir,\n",
    "            data_prefix+'_text_list.json'), 'w') as f:\n",
    "            json.dump(text_list, f)\n",
    "            \n",
    "    else:\n",
    "        text_list =[]\n",
    "        for batch in iterator:\n",
    "            text_list.append(batch.comment_text.tolist())\n",
    "\n",
    "        with open(os.path.join(data_dir,\n",
    "            data_prefix+'_text_list.json'), 'w') as f:\n",
    "            json.dump(text_list, f)"
   ]
  },
  {
   "cell_type": "code",
   "execution_count": 85,
   "metadata": {},
   "outputs": [],
   "source": [
    "save_iterator(train_iterator, 'train')\n",
    "save_iterator(valid_iterator, 'val')"
   ]
  },
  {
   "cell_type": "code",
   "execution_count": 86,
   "metadata": {},
   "outputs": [],
   "source": [
    "def _get_data(data_prefix, data_dir='./data', with_labels= True):\n",
    "    #print(\"Get train data loader.\")\n",
    "\n",
    "    with open(os.path.join(data_dir,\n",
    "              data_prefix+'_text_list.json'), 'r') as f:\n",
    "        train_X = json.load(f)\n",
    "    train_X = [torch.tensor(t) for t in train_X] #.long()\n",
    "    \n",
    "    if with_labels:\n",
    "        with open(os.path.join(data_dir,\n",
    "                  data_prefix+'_labels_list.json'), 'r') as f:\n",
    "            train_y = json.load(f)\n",
    "\n",
    "        train_y = [torch.tensor(t) for t in train_y] # .float().squeeze()\n",
    "        return train_X , train_y\n",
    "    \n",
    "    else: \n",
    "        return train_X"
   ]
  },
  {
   "cell_type": "code",
   "execution_count": 87,
   "metadata": {},
   "outputs": [],
   "source": [
    "class Data_iterator:\n",
    "    def __init__(self, data_prefix, data_dir='./data'):\n",
    "        self.X, self.y  = _get_data(data_prefix, data_dir)\n",
    "        \n",
    "    def __iter__(self):\n",
    "        return iter(zip(self.X, self.y))"
   ]
  },
  {
   "cell_type": "code",
   "execution_count": 88,
   "metadata": {},
   "outputs": [],
   "source": [
    "class Test_iterator:\n",
    "    def __init__(self, data_prefix, data_dir='./data'):\n",
    "        self.X = _get_data(data_prefix, data_dir, with_labels= False)\n",
    "        \n",
    "    def __iter__(self):\n",
    "        return iter(self.X)"
   ]
  },
  {
   "cell_type": "code",
   "execution_count": 89,
   "metadata": {},
   "outputs": [],
   "source": [
    "iterator_train = Data_iterator('train')\n",
    "iterator_val = Data_iterator('val')"
   ]
  },
  {
   "cell_type": "markdown",
   "metadata": {},
   "source": [
    "## Build model"
   ]
  },
  {
   "cell_type": "code",
   "execution_count": 90,
   "metadata": {},
   "outputs": [],
   "source": [
    "import torch.nn as nn\n",
    "from torch.functional import F\n",
    "class CNN(nn.Module):\n",
    "    def __init__(self, vocab_size, embedding_dim, n_filters, filter_sizes, output_dim, \n",
    "                 dropout, pad_idx):\n",
    "        \n",
    "        super().__init__()\n",
    "        \n",
    "        self.embedding = nn.Embedding(vocab_size, embedding_dim)\n",
    "        \n",
    "        self.convs = nn.ModuleList([\n",
    "                                    nn.Conv2d(in_channels = 1, \n",
    "                                              out_channels = n_filters, \n",
    "                                              kernel_size = (fs, embedding_dim)) \n",
    "                                    for fs in filter_sizes\n",
    "                                    ])\n",
    "        \n",
    "        self.fc = nn.Linear(len(filter_sizes) * n_filters, output_dim)\n",
    "        \n",
    "        self.dropout = nn.Dropout(dropout)\n",
    "        \n",
    "    def forward(self, text):\n",
    "        \n",
    "        #text = [sent len, batch size]\n",
    "        \n",
    "        text = text.permute(1, 0)\n",
    "                \n",
    "        #text = [batch size, sent len]\n",
    "        \n",
    "        embedded = self.embedding(text)\n",
    "                \n",
    "        #embedded = [batch size, sent len, emb dim]\n",
    "        \n",
    "        embedded = embedded.unsqueeze(1)\n",
    "        \n",
    "        #embedded = [batch size, 1, sent len, emb dim]\n",
    "        \n",
    "        conved = [F.relu(conv(embedded)).squeeze(3) for conv in self.convs]\n",
    "            \n",
    "        #conv_n = [batch size, n_filters, sent len - filter_sizes[n]]\n",
    "        \n",
    "        pooled = [F.max_pool1d(conv, conv.shape[2]).squeeze(2) for conv in conved]\n",
    "        \n",
    "        #pooled_n = [batch size, n_filters]\n",
    "        \n",
    "        cat = self.dropout(torch.cat(pooled, dim = 1))\n",
    "\n",
    "        #cat = [batch size, n_filters * len(filter_sizes)]\n",
    "            \n",
    "        return self.fc(cat)\n"
   ]
  },
  {
   "cell_type": "code",
   "execution_count": 91,
   "metadata": {},
   "outputs": [],
   "source": [
    "INPUT_DIM = len(TEXT.vocab) # 20002\n",
    "EMBEDDING_DIM = 100\n",
    "N_FILTERS = 100\n",
    "FILTER_SIZES = [2,3,4]\n",
    "OUTPUT_DIM = 6\n",
    "DROPOUT = 0.5\n",
    "PAD_IDX = TEXT.vocab.stoi[TEXT.pad_token] # 1\n",
    "\n",
    "model = CNN(INPUT_DIM, EMBEDDING_DIM, N_FILTERS, \n",
    "            FILTER_SIZES ,OUTPUT_DIM, DROPOUT, PAD_IDX)"
   ]
  },
  {
   "cell_type": "code",
   "execution_count": 92,
   "metadata": {},
   "outputs": [
    {
     "name": "stdout",
     "output_type": "stream",
     "text": [
      "The model has 2,092,306 trainable parameters\n"
     ]
    }
   ],
   "source": [
    "\n",
    "def count_parameters(model):\n",
    "    return sum(p.numel() for p in model.parameters() if p.requires_grad)\n",
    "\n",
    "print(f'The model has {count_parameters(model):,} trainable parameters')"
   ]
  },
  {
   "cell_type": "code",
   "execution_count": 93,
   "metadata": {},
   "outputs": [
    {
     "name": "stdout",
     "output_type": "stream",
     "text": [
      "torch.Size([80, 256])\n",
      "===========================================================================\n",
      "                      Kernel Shape       Output Shape   Params Mult-Adds\n",
      "Layer                                                                   \n",
      "0_embedding           [100, 20002]     [256, 80, 100]  2.0002M   2.0002M\n",
      "1_convs.Conv2d_0  [1, 100, 2, 100]  [256, 100, 79, 1]    20.1k     1.58M\n",
      "2_convs.Conv2d_1  [1, 100, 3, 100]  [256, 100, 78, 1]    30.1k     2.34M\n",
      "3_convs.Conv2d_2  [1, 100, 4, 100]  [256, 100, 77, 1]    40.1k     3.08M\n",
      "4_dropout                        -         [256, 300]        -         -\n",
      "5_fc                      [300, 6]           [256, 6]   1.806k      1.8k\n",
      "---------------------------------------------------------------------------\n",
      "                         Totals\n",
      "Total params          2.092306M\n",
      "Trainable params      2.092306M\n",
      "Non-trainable params        0.0\n",
      "Mult-Adds                9.002M\n",
      "===========================================================================\n"
     ]
    },
    {
     "data": {
      "text/html": [
       "<div>\n",
       "<style scoped>\n",
       "    .dataframe tbody tr th:only-of-type {\n",
       "        vertical-align: middle;\n",
       "    }\n",
       "\n",
       "    .dataframe tbody tr th {\n",
       "        vertical-align: top;\n",
       "    }\n",
       "\n",
       "    .dataframe thead th {\n",
       "        text-align: right;\n",
       "    }\n",
       "</style>\n",
       "<table border=\"1\" class=\"dataframe\">\n",
       "  <thead>\n",
       "    <tr style=\"text-align: right;\">\n",
       "      <th></th>\n",
       "      <th>Kernel Shape</th>\n",
       "      <th>Output Shape</th>\n",
       "      <th>Params</th>\n",
       "      <th>Mult-Adds</th>\n",
       "    </tr>\n",
       "    <tr>\n",
       "      <th>Layer</th>\n",
       "      <th></th>\n",
       "      <th></th>\n",
       "      <th></th>\n",
       "      <th></th>\n",
       "    </tr>\n",
       "  </thead>\n",
       "  <tbody>\n",
       "    <tr>\n",
       "      <th>0_embedding</th>\n",
       "      <td>[100, 20002]</td>\n",
       "      <td>[256, 80, 100]</td>\n",
       "      <td>2000200.0</td>\n",
       "      <td>2000200.0</td>\n",
       "    </tr>\n",
       "    <tr>\n",
       "      <th>1_convs.Conv2d_0</th>\n",
       "      <td>[1, 100, 2, 100]</td>\n",
       "      <td>[256, 100, 79, 1]</td>\n",
       "      <td>20100.0</td>\n",
       "      <td>1580000.0</td>\n",
       "    </tr>\n",
       "    <tr>\n",
       "      <th>2_convs.Conv2d_1</th>\n",
       "      <td>[1, 100, 3, 100]</td>\n",
       "      <td>[256, 100, 78, 1]</td>\n",
       "      <td>30100.0</td>\n",
       "      <td>2340000.0</td>\n",
       "    </tr>\n",
       "    <tr>\n",
       "      <th>3_convs.Conv2d_2</th>\n",
       "      <td>[1, 100, 4, 100]</td>\n",
       "      <td>[256, 100, 77, 1]</td>\n",
       "      <td>40100.0</td>\n",
       "      <td>3080000.0</td>\n",
       "    </tr>\n",
       "    <tr>\n",
       "      <th>4_dropout</th>\n",
       "      <td>-</td>\n",
       "      <td>[256, 300]</td>\n",
       "      <td>NaN</td>\n",
       "      <td>NaN</td>\n",
       "    </tr>\n",
       "    <tr>\n",
       "      <th>5_fc</th>\n",
       "      <td>[300, 6]</td>\n",
       "      <td>[256, 6]</td>\n",
       "      <td>1806.0</td>\n",
       "      <td>1800.0</td>\n",
       "    </tr>\n",
       "  </tbody>\n",
       "</table>\n",
       "</div>"
      ],
      "text/plain": [
       "                      Kernel Shape       Output Shape     Params  Mult-Adds\n",
       "Layer                                                                      \n",
       "0_embedding           [100, 20002]     [256, 80, 100]  2000200.0  2000200.0\n",
       "1_convs.Conv2d_0  [1, 100, 2, 100]  [256, 100, 79, 1]    20100.0  1580000.0\n",
       "2_convs.Conv2d_1  [1, 100, 3, 100]  [256, 100, 78, 1]    30100.0  2340000.0\n",
       "3_convs.Conv2d_2  [1, 100, 4, 100]  [256, 100, 77, 1]    40100.0  3080000.0\n",
       "4_dropout                        -         [256, 300]        NaN        NaN\n",
       "5_fc                      [300, 6]           [256, 6]     1806.0     1800.0"
      ]
     },
     "execution_count": 93,
     "metadata": {},
     "output_type": "execute_result"
    }
   ],
   "source": [
    "for i in train_iterator:\n",
    "    aux=i\n",
    "    break\n",
    "\n",
    "from torchsummaryX import summary\n",
    "print(aux.comment_text.size())\n",
    "summary(model, aux.comment_text )"
   ]
  },
  {
   "cell_type": "code",
   "execution_count": 94,
   "metadata": {},
   "outputs": [
    {
     "name": "stdout",
     "output_type": "stream",
     "text": [
      "torch.Size([20002, 100])\n"
     ]
    }
   ],
   "source": [
    "pretrained_embeddings = TEXT.vocab.vectors\n",
    "\n",
    "print(pretrained_embeddings.shape)"
   ]
  },
  {
   "cell_type": "code",
   "execution_count": 95,
   "metadata": {},
   "outputs": [
    {
     "data": {
      "text/plain": [
       "tensor([[-0.1117, -0.4966,  0.1631,  ...,  1.2647, -0.2753, -0.1325],\n",
       "        [-0.8555, -0.7208,  1.3755,  ...,  0.0825, -1.1314,  0.3997],\n",
       "        [-0.0382, -0.2449,  0.7281,  ..., -0.1459,  0.8278,  0.2706],\n",
       "        ...,\n",
       "        [-1.0361, -0.3528, -0.4494,  ..., -0.3391, -0.0521, -0.2626],\n",
       "        [-0.8892,  0.3043,  0.9224,  ..., -0.2417, -0.1520,  0.0683],\n",
       "        [ 0.2916,  0.0795, -0.0095,  ...,  0.3854,  0.3772, -1.5852]])"
      ]
     },
     "execution_count": 95,
     "metadata": {},
     "output_type": "execute_result"
    }
   ],
   "source": [
    "model.embedding.weight.data.copy_(pretrained_embeddings)"
   ]
  },
  {
   "cell_type": "code",
   "execution_count": 96,
   "metadata": {},
   "outputs": [
    {
     "name": "stdout",
     "output_type": "stream",
     "text": [
      "tensor([[ 0.0000,  0.0000,  0.0000,  ...,  0.0000,  0.0000,  0.0000],\n",
      "        [ 0.0000,  0.0000,  0.0000,  ...,  0.0000,  0.0000,  0.0000],\n",
      "        [-0.0382, -0.2449,  0.7281,  ..., -0.1459,  0.8278,  0.2706],\n",
      "        ...,\n",
      "        [-1.0361, -0.3528, -0.4494,  ..., -0.3391, -0.0521, -0.2626],\n",
      "        [-0.8892,  0.3043,  0.9224,  ..., -0.2417, -0.1520,  0.0683],\n",
      "        [ 0.2916,  0.0795, -0.0095,  ...,  0.3854,  0.3772, -1.5852]])\n"
     ]
    }
   ],
   "source": [
    "UNK_IDX = TEXT.vocab.stoi[TEXT.unk_token]\n",
    "\n",
    "model.embedding.weight.data[UNK_IDX] = torch.zeros(EMBEDDING_DIM)\n",
    "model.embedding.weight.data[PAD_IDX] = torch.zeros(EMBEDDING_DIM)\n",
    "\n",
    "print(model.embedding.weight.data)"
   ]
  },
  {
   "cell_type": "code",
   "execution_count": 97,
   "metadata": {},
   "outputs": [
    {
     "name": "stdout",
     "output_type": "stream",
     "text": [
      "tensor([[ 0.0000,  0.0000,  0.0000,  ...,  0.0000,  0.0000,  0.0000],\n",
      "        [ 0.0000,  0.0000,  0.0000,  ...,  0.0000,  0.0000,  0.0000],\n",
      "        [-0.0382, -0.2449,  0.7281,  ..., -0.1459,  0.8278,  0.2706],\n",
      "        ...,\n",
      "        [-1.0361, -0.3528, -0.4494,  ..., -0.3391, -0.0521, -0.2626],\n",
      "        [-0.8892,  0.3043,  0.9224,  ..., -0.2417, -0.1520,  0.0683],\n",
      "        [ 0.2916,  0.0795, -0.0095,  ...,  0.3854,  0.3772, -1.5852]])\n"
     ]
    }
   ],
   "source": [
    "print(model.embedding.weight.data)"
   ]
  },
  {
   "cell_type": "markdown",
   "metadata": {},
   "source": [
    "## Train our model"
   ]
  },
  {
   "cell_type": "code",
   "execution_count": 98,
   "metadata": {},
   "outputs": [],
   "source": [
    "import torch.optim as optim\n",
    "\n",
    "optimizer = optim.Adam(model.parameters())"
   ]
  },
  {
   "cell_type": "code",
   "execution_count": 99,
   "metadata": {},
   "outputs": [],
   "source": [
    "criterion = nn.BCEWithLogitsLoss()\n",
    "\n",
    "model = model.to(device)\n",
    "criterion = criterion.to(device)"
   ]
  },
  {
   "cell_type": "code",
   "execution_count": 100,
   "metadata": {},
   "outputs": [],
   "source": [
    "import numpy\n",
    "from sklearn.metrics import roc_auc_score\n",
    "def roc_auc(preds, y):\n",
    "    \"\"\"\n",
    "    Returns accuracy per batch, i.e. if you get 8/10 right, this returns 0.8, NOT 8\n",
    "    \"\"\"\n",
    "    #round predictions to the closest integer\n",
    "    #rounded_preds = torch.sigmoid(preds)\n",
    "    \n",
    "    #assert preds.size()==y.size()\n",
    "    \n",
    "    #reds=rounded_preds.detach().numpy()\n",
    "\n",
    "    #y=y.numpy()\n",
    "    \n",
    "    global var_y\n",
    "    global var_preds\n",
    "    var_y = y\n",
    "    var_preds = preds\n",
    "\n",
    "    acc = roc_auc_score(y, preds)\n",
    "\n",
    "    \n",
    "    return acc"
   ]
  },
  {
   "cell_type": "code",
   "execution_count": 101,
   "metadata": {},
   "outputs": [],
   "source": [
    "\n",
    "\n",
    "def train(model, iterator, optimizer, criterion):\n",
    "    \n",
    "    epoch_loss = 0\n",
    "    epoch_acc = 0\n",
    "    \n",
    "    model.train()\n",
    "    preds_list=[]\n",
    "    labels_list= []\n",
    " \n",
    "    iterations=0\n",
    "    for batch in iterator:\n",
    "        iterations+=1\n",
    "        \n",
    "        batch_X, batch_y = batch\n",
    "        \n",
    "        optimizer.zero_grad()\n",
    "        \n",
    "        #text = batch_X\n",
    "        \n",
    "        predictions = model(batch_X).squeeze(1)\n",
    "        \n",
    "        #batch_labels=torch.stack([getattr(batch, y) for y in yFields]) #transpose?\n",
    "        #batch_labels = torch.transpose(batch_labels,0,1)\n",
    "        \n",
    "        loss = criterion(predictions, batch_y)\n",
    "        \n",
    "        loss.backward()\n",
    "        \n",
    "        optimizer.step()\n",
    "        \n",
    "        preds_list+=[torch.sigmoid(predictions).detach().numpy()]\n",
    "        labels_list+=[batch_y.numpy()]\n",
    "        \n",
    "        #if i%64==0:\n",
    "        #    epoch_acc += [roc_auc(np.vstack(preds_list), np.vstack(batch_labels))]\n",
    "        #    preds_list=[]\n",
    "        #    labels_list= []\n",
    "            \n",
    "        \n",
    "        epoch_loss += loss.item()\n",
    "        \n",
    "        \n",
    "        \n",
    "    return epoch_loss / iterations, roc_auc(np.vstack(preds_list), np.vstack(labels_list))"
   ]
  },
  {
   "cell_type": "code",
   "execution_count": 102,
   "metadata": {},
   "outputs": [],
   "source": [
    "\n",
    "\n",
    "def evaluate(model, iterator, criterion):\n",
    "    \n",
    "    epoch_loss = 0\n",
    "    epoch_acc = 0\n",
    "    \n",
    "    model.eval()\n",
    "    \n",
    "    preds_list=[]\n",
    "    labels_list= []\n",
    "    epoch_acc=[]\n",
    "    \n",
    "    with torch.no_grad():\n",
    "        iterations = 0\n",
    "        for batch in iterator:\n",
    "            iterations+=1\n",
    "            \n",
    "            batch_X, batch_y = batch\n",
    "            \n",
    "            predictions = model(batch_X).squeeze(1)\n",
    "            \n",
    "            #batch_labels = torch.stack([getattr(batch, y) for y in yFields]) #transpose?\n",
    "            #batch_labels = torch.transpose(batch_labels,0,1)\n",
    "            \n",
    "            loss = criterion(predictions, batch_y)\n",
    "\n",
    "            epoch_loss += loss.item()\n",
    "            \n",
    "            preds_list+=[torch.sigmoid(predictions).detach().numpy()]\n",
    "            labels_list+=[batch_y.numpy()]\n",
    "        \n",
    "            #if i%64==0:\n",
    "            #    epoch_acc += [roc_auc(np.vstack(preds_list), np.vstack(batch_labels))]\n",
    "            #    preds_list=[]\n",
    "            #    labels_list= []\n",
    "        \n",
    "    return epoch_loss / iterations, roc_auc(np.vstack(preds_list), np.vstack(labels_list))\n",
    "\n"
   ]
  },
  {
   "cell_type": "code",
   "execution_count": 103,
   "metadata": {},
   "outputs": [],
   "source": [
    "import time\n",
    "\n",
    "def epoch_time(start_time, end_time):\n",
    "    elapsed_time = end_time - start_time\n",
    "    elapsed_mins = int(elapsed_time / 60)\n",
    "    elapsed_secs = int(elapsed_time - (elapsed_mins * 60))\n",
    "    return elapsed_mins, elapsed_secs"
   ]
  },
  {
   "cell_type": "code",
   "execution_count": 104,
   "metadata": {},
   "outputs": [
    {
     "name": "stdout",
     "output_type": "stream",
     "text": [
      "jaja\n",
      "juju\n",
      "Epoch: 01 | Epoch Time: 3m 2s\n",
      "\tTrain Loss: 0.080 | Train Acc: 89.20%\n",
      "\t Val. Loss: 0.051 |  Val. Acc: 96.74%\n",
      "jaja\n",
      "juju\n",
      "Epoch: 02 | Epoch Time: 3m 24s\n",
      "\tTrain Loss: 0.054 | Train Acc: 96.62%\n",
      "\t Val. Loss: 0.048 |  Val. Acc: 97.67%\n",
      "jaja\n",
      "juju\n",
      "Epoch: 03 | Epoch Time: 3m 26s\n",
      "\tTrain Loss: 0.048 | Train Acc: 97.66%\n",
      "\t Val. Loss: 0.046 |  Val. Acc: 98.10%\n",
      "jaja\n",
      "juju\n",
      "Epoch: 04 | Epoch Time: 3m 23s\n",
      "\tTrain Loss: 0.045 | Train Acc: 98.13%\n",
      "\t Val. Loss: 0.046 |  Val. Acc: 98.06%\n"
     ]
    }
   ],
   "source": [
    "model.embedding.weight.requires_grad = True\n",
    "\n",
    "\n",
    "N_EPOCHS = 4\n",
    "\n",
    "best_valid_loss = float('inf')\n",
    "\n",
    "\n",
    "for epoch in range(N_EPOCHS):\n",
    "\n",
    "    start_time = time.time()\n",
    "    \n",
    "    train_loss, train_acc = train(model, iterator_train, optimizer, criterion)\n",
    "    print('jaja')\n",
    "    valid_loss, valid_acc = evaluate(model, iterator_val, criterion)\n",
    "    print('juju')\n",
    "    end_time = time.time()\n",
    "\n",
    "    epoch_mins, epoch_secs = epoch_time(start_time, end_time)\n",
    "    \n",
    "    if valid_loss < best_valid_loss:\n",
    "        best_valid_loss = valid_loss\n",
    "        torch.save(model.state_dict(), 'tut2-model.pt')\n",
    "    \n",
    "    \n",
    "\n",
    "    \n",
    "    print(f'Epoch: {epoch+1:02} | Epoch Time: {epoch_mins}m {epoch_secs}s')\n",
    "    print(f'\\tTrain Loss: {train_loss:.3f} | Train Acc: {train_acc*100:.2f}%')\n",
    "    print(f'\\t Val. Loss: {valid_loss:.3f} |  Val. Acc: {valid_acc*100:.2f}%')\n",
    "\n"
   ]
  },
  {
   "cell_type": "code",
   "execution_count": 105,
   "metadata": {},
   "outputs": [],
   "source": [
    "TEXT.vocab.vectors = model.embedding.weight.data"
   ]
  },
  {
   "cell_type": "code",
   "execution_count": 106,
   "metadata": {},
   "outputs": [],
   "source": [
    "import pickle\n",
    "\n",
    "pickle.dump(TEXT, open('./custom_embeddings/train_data_field', 'wb'))"
   ]
  },
  {
   "cell_type": "markdown",
   "metadata": {},
   "source": [
    "## Save word embedding"
   ]
  },
  {
   "cell_type": "code",
   "execution_count": 107,
   "metadata": {},
   "outputs": [],
   "source": [
    "from tqdm import tqdm\n",
    "word_list = [] \n",
    "def write_embeddings(path, embeddings, vocab):\n",
    "    \n",
    "    with open(path, 'w') as f:\n",
    "        for i, embedding in enumerate(tqdm(embeddings)):\n",
    "            word = vocab.itos[i]\n",
    "            #skip words with unicode symbols\n",
    "            if len(word) != len(word.encode()):\n",
    "                continue\n",
    "            word_list.append(word)\n",
    "            vector = ' '.join([str(i) for i in embedding.tolist()])\n",
    "            f.write(f'{word} {vector}\\n')"
   ]
  },
  {
   "cell_type": "code",
   "execution_count": null,
   "metadata": {},
   "outputs": [],
   "source": []
  },
  {
   "cell_type": "code",
   "execution_count": 108,
   "metadata": {},
   "outputs": [
    {
     "name": "stderr",
     "output_type": "stream",
     "text": [
      "100%|██████████| 20002/20002 [00:02<00:00, 9894.67it/s]\n"
     ]
    }
   ],
   "source": [
    "write_embeddings('embeddings_conv.txt', \n",
    "                 model.embedding.weight.data, \n",
    "                 TEXT.vocab)"
   ]
  },
  {
   "cell_type": "markdown",
   "metadata": {},
   "source": [
    "## Testing "
   ]
  },
  {
   "cell_type": "code",
   "execution_count": 111,
   "metadata": {},
   "outputs": [],
   "source": [
    "from sklearn import metrics\n",
    "\n",
    "#roc_auc(np.vstack(preds_list), np.vstack(labels_list))"
   ]
  },
  {
   "cell_type": "code",
   "execution_count": 112,
   "metadata": {},
   "outputs": [],
   "source": [
    "dataFields = {\"comment_text\": (\"comment_text\", TEXT)}\n",
    "\n",
    "testDataset= data.TabularDataset(path='./data/test.json', \n",
    "                                            format='json',\n",
    "                                            fields=dataFields, \n",
    "                                            skip_header=False)"
   ]
  },
  {
   "cell_type": "code",
   "execution_count": 113,
   "metadata": {},
   "outputs": [
    {
     "data": {
      "text/plain": [
       "153164"
      ]
     },
     "execution_count": 113,
     "metadata": {},
     "output_type": "execute_result"
    }
   ],
   "source": [
    "len(testDataset)"
   ]
  },
  {
   "cell_type": "code",
   "execution_count": 114,
   "metadata": {},
   "outputs": [],
   "source": [
    "test_iterator = torchtext.data.Iterator(testDataset, batch_size=64, device=device, \n",
    "                                     sort=False, sort_within_batch=False, \n",
    "                                     repeat=False,shuffle=False)"
   ]
  },
  {
   "cell_type": "code",
   "execution_count": 115,
   "metadata": {},
   "outputs": [],
   "source": [
    "save_iterator(test_iterator, 'test', with_labels = False)"
   ]
  },
  {
   "cell_type": "code",
   "execution_count": 116,
   "metadata": {},
   "outputs": [],
   "source": [
    "iterator_test = Test_iterator('test')"
   ]
  },
  {
   "cell_type": "code",
   "execution_count": 117,
   "metadata": {},
   "outputs": [],
   "source": [
    "myPreds=[]\n",
    "with torch.no_grad():\n",
    "    model.eval()\n",
    "    for batch_X in iterator_test:\n",
    "\n",
    "        torch.cuda.empty_cache()\n",
    "    \n",
    "        predictions = model(batch_X).squeeze(1)         \n",
    "        myPreds+=[torch.sigmoid(predictions).detach().numpy()]\n",
    "    \n",
    "        torch.cuda.empty_cache()\n",
    "myPreds = np.vstack(myPreds)"
   ]
  },
  {
   "cell_type": "code",
   "execution_count": 118,
   "metadata": {},
   "outputs": [],
   "source": [
    "testDF= pd.read_csv(\"./data/test.csv\")\n",
    "for i, col in enumerate([\"toxic\", \"severe_toxic\", \"obscene\", \"threat\", \"insult\", \"identity_hate\"]):\n",
    "    testDF[col] = myPreds[:, i]"
   ]
  },
  {
   "cell_type": "code",
   "execution_count": 119,
   "metadata": {},
   "outputs": [
    {
     "data": {
      "text/plain": [
       "(153164, 6)"
      ]
     },
     "execution_count": 119,
     "metadata": {},
     "output_type": "execute_result"
    }
   ],
   "source": [
    "myPreds.shape"
   ]
  },
  {
   "cell_type": "code",
   "execution_count": 120,
   "metadata": {},
   "outputs": [],
   "source": [
    "testDF.drop(\"comment_text\", axis=1).to_csv(\"submission_convolutional_no_torchtext.csv\", index=False)"
   ]
  },
  {
   "cell_type": "code",
   "execution_count": null,
   "metadata": {},
   "outputs": [],
   "source": []
  }
 ],
 "metadata": {
  "kernelspec": {
   "display_name": "Python 3",
   "language": "python",
   "name": "python3"
  }
 },
 "nbformat": 4,
 "nbformat_minor": 2
}
